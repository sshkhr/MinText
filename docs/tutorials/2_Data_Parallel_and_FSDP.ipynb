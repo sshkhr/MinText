{
  "cells": [
    {
      "cell_type": "markdown",
      "metadata": {
        "id": "P26jqMgJh3Q9"
      },
      "source": [
        "# Data Parallel and Fully Sharded Data Parallel Training\n",
        "\n",
        "[![Open in GitHub](https://img.shields.io/badge/Open%20in-GitHub-181717?style=flat-square&logo=github)](https://github.com/sshkhr/MinText/blob/main/docs/tutorials/2_Data_Parallel_and_FSDP.ipynb)\n",
        "[![Open in Colab](https://colab.research.google.com/assets/colab-badge.svg)](https://colab.research.google.com/github/sshkhr/MinText/blob/main/docs/tutorials/2_Data_Parallel_and_FSDP.ipynb)"
      ]
    },
    {
      "cell_type": "markdown",
      "source": [
        "In the previous tutorial, we explored the basics of JAX parallelization, including device meshes, sharded matrices, and collective operations. In this tutorial, we'll build on those concepts to explore the first parallelism strategy used in scaling models: data parallelism (DP). We will also learn about how to profile distributed machine learning in order to identify potential bottlenecks.\n"
      ],
      "metadata": {
        "id": "Y589kcC_h84I"
      }
    },
    {
      "cell_type": "markdown",
      "metadata": {
        "id": "C_wGnB2mh3Q9"
      },
      "source": [
        "## 0. Setup\n",
        "\n",
        "Let's start by importing the necessary libraries and initializing our environment."
      ]
    },
    {
      "cell_type": "code",
      "execution_count": 1,
      "metadata": {
        "id": "si6y3Ea7h3Q-"
      },
      "outputs": [],
      "source": [
        "import os\n",
        "# Force JAX to see 8 devices for this tutorial (only use if not using TPU runtime)\n",
        "#os.environ['XLA_FLAGS'] = '--xla_force_host_platform_device_count=8'\n",
        "\n",
        "import jax\n",
        "import jax.numpy as jnp\n",
        "from jax.sharding import Mesh, PartitionSpec as P, NamedSharding\n",
        "from jax.experimental import mesh_utils\n",
        "import numpy as np\n",
        "import matplotlib.pyplot as plt\n",
        "import time\n",
        "from functools import partial"
      ]
    },
    {
      "cell_type": "code",
      "source": [
        "# Check available devices\n",
        "print(f\"JAX version: {jax.__version__}\")\n",
        "print(f\"Available devices: {jax.devices()[:4]}...\")\n",
        "print(f\"Number of devices: {jax.device_count()}\")"
      ],
      "metadata": {
        "id": "IVxCl7LUigdF",
        "outputId": "3cc01c10-9e85-47de-d57f-daf295b56e40",
        "colab": {
          "base_uri": "https://localhost:8080/"
        }
      },
      "execution_count": 2,
      "outputs": [
        {
          "output_type": "stream",
          "name": "stdout",
          "text": [
            "JAX version: 0.5.2\n",
            "Available devices: [TpuDevice(id=0, process_index=0, coords=(0,0,0), core_on_chip=0), TpuDevice(id=1, process_index=0, coords=(0,0,0), core_on_chip=1), TpuDevice(id=2, process_index=0, coords=(1,0,0), core_on_chip=0), TpuDevice(id=3, process_index=0, coords=(1,0,0), core_on_chip=1)]...\n",
            "Number of devices: 8\n"
          ]
        }
      ]
    },
    {
      "cell_type": "markdown",
      "metadata": {
        "id": "3kAeWl08h3Q-"
      },
      "source": [
        "### Model Representation\n",
        "\n",
        "For simplicity, we will start with a simple feed-forward model. The model consists of two fully-connected (or dense) layers:\n",
        "\n",
        "- **W<sub>in</sub>**: `bf16[D, F]` (up-projection)\n",
        "- **W<sub>out</sub>**: `bf16[F, D]` (down-projection)\n",
        "\n",
        "And the input and output are defined as:\n",
        "- **Input**: `bf16[B, D]`\n",
        "- **Out**: `bf16[B, D]`\n",
        "\n",
        "Where:\n",
        "- **D** = d<sub>model</sub> (input/output dimension)\n",
        "- **F** = d<sub>ff</sub> (feed-forward or hidden dimension)\n",
        "- **B** = batch size (total tokens)\n"
      ]
    },
    {
      "cell_type": "markdown",
      "source": [
        "![MLP](https://github.com/jax-ml/scaling-book/blob/main/assets/img/simple-transformer.png?raw=true)\n",
        "\n",
        "<sup> Image Source: [How To Scale Your Model](https://jax-ml.github.io/scaling-book) </sup>"
      ],
      "metadata": {
        "id": "ackK14iBw8Mb"
      }
    },
    {
      "cell_type": "markdown",
      "source": [
        "# 1. Why Parallelism?"
      ],
      "metadata": {
        "id": "k7P0-zkOuMNM"
      }
    },
    {
      "cell_type": "markdown",
      "source": [
        "## Communication vs Computation Trade-offs\n",
        "\n",
        "The goal of scaling is to achieve **strong scaling**: linear increase in throughput with more chips. Performance depends on hiding inter-chip communication by overlapping it with useful FLOPs.\n",
        "\n",
        "We become **compute-bound** when:\n",
        "$$\\frac{T_{\\text{math}}}{T_{\\text{comms}}} > 1$$"
      ],
      "metadata": {
        "id": "HYoUSMnyxS2A"
      }
    },
    {
      "cell_type": "markdown",
      "source": [
        "# 2. Data Parallel\n",
        "\n",
        "The key insight is that computation time scales with batch size, while communication time is often independent of batch size (since we transfer model weights).\""
      ],
      "metadata": {
        "id": "Wk_MulhTxMes"
      }
    },
    {
      "cell_type": "markdown",
      "metadata": {
        "id": "5BybVQZ6h3Q-"
      },
      "source": [
        "### Data Parallelism Theory\n",
        "\n",
        "**Definition**: Activations sharded along batch dimension, parameters replicated on each device. Communication only occurs during the backward pass.\n",
        "\n",
        "**Mathematical representation**:\n",
        "$$\\text{In}[B_X, D] \\cdot_D W_{\\text{in}}[D, F] \\cdot_F W_{\\text{out}}[F, D] \\rightarrow \\text{Out}[B_X, D]$$\n",
        "\n",
        "where $B_X$ indicates the batch is sharded across $X$ devices.\n",
        "\n",
        "![Data Parallelism](https://github.com/jax-ml/scaling-book/blob/main/assets/img/data-parallelism.png?raw=true)\n",
        "\n",
        "<sup> Image Source: [How To Scale Your Model](https://jax-ml.github.io/scaling-book) </sup>"
      ]
    },
    {
      "cell_type": "markdown",
      "source": [
        "### Algorithm:\n",
        "\n",
        "**Forward pass:**\n",
        "1. Tmp[B<sub>X</sub>, F] = In[B<sub>X</sub>, D] ×<sub>D</sub> W<sub>in</sub>[D, F]\n",
        "2. Out[B<sub>X</sub>, D] = Tmp[B<sub>X</sub>, F] ×<sub>F</sub> W<sub>out</sub>[F, D]\n",
        "\n",
        "**Backward pass:**\n",
        "1. dW<sub>out</sub>[F, D] = **AllReduce**(Tmp[B<sub>X</sub>, F] ×<sub>B</sub> dOut[B<sub>X</sub>, D])\n",
        "2. dW<sub>in</sub>[D, F] = **AllReduce**(In[B<sub>X</sub>, D] ×<sub>B</sub> dTmp[B<sub>X</sub>, F])\n",
        "\n",
        "**Key properties**:\n",
        "- Forward pass requires **no communication**\n",
        "- Backward pass requires **AllReduce on gradients**\n",
        "- Model parameters and optimizer states are fully replicated\n",
        "- Memory usage scales with number of devices"
      ],
      "metadata": {
        "id": "sart6ZiFx2xN"
      }
    },
    {
      "cell_type": "markdown",
      "source": [
        "\n",
        "**When do we become communication-bound?**\n",
        "\n",
        "For TPUv5p with $C = 4.6 \\times 10^{14}$ FLOPs/s and $W = 2 \\times 9 \\times 10^{10}$ bytes/s:\n",
        "\n",
        "$$\\frac{B}{X} > \\frac{C}{W_{\\text{ici}}} = 2550$$\n",
        "\n",
        "So our **batch size per chip must be at least 2,550** to avoid being communication-bound with 1D data parallelism.\n",
        "\n",
        "**Limitations**: Largest model we can train has approximately $\\text{HBM per device} / 10$ parameters (≈9B for TPUv5p with Adam optimizer).\""
      ],
      "metadata": {
        "id": "MqllNMSEyEnr"
      }
    },
    {
      "cell_type": "markdown",
      "metadata": {
        "id": "LmEAlrsuh3Q-"
      },
      "source": [
        "# 3. Example: 8-way Data Parallel Training with Plain JAX\n",
        "\n",
        "Data parallelism is a strategy where we replicate the model across multiple devices and shard the data batch. Each device processes a portion of the batch using its copy of the model, and then we aggregate the gradients across all devices.\n",
        "\n",
        "Let's implement 8-way data parallel training, following the approach in `jax_data_parallel.py`."
      ]
    },
    {
      "cell_type": "markdown",
      "metadata": {
        "id": "Z1skQ8igh3Q-"
      },
      "source": [
        "### 3.1 Create (fake) data and define Model\n",
        "\n",
        "First, let's generate our synthetic dataset and simple feed-forward neural network."
      ]
    },
    {
      "cell_type": "code",
      "execution_count": 3,
      "metadata": {
        "id": "aka1dFaWh3Q-"
      },
      "outputs": [],
      "source": [
        "def get_linear_layer(key, dim_in, dim_hidden):\n",
        "  k1, k2 = jax.random.split(key)\n",
        "  W = jax.random.normal(k1, (dim_in, dim_hidden)) / jnp.sqrt(dim_in)\n",
        "  b = jax.random.normal(k2, (dim_hidden,))\n",
        "  return W, b\n",
        "\n",
        "def get_model_and_data(key, layer_sizes, batch_size):\n",
        "  keys, *keys = jax.random.split(key, len(layer_sizes))\n",
        "\n",
        "  model = list(map(get_linear_layer, keys, layer_sizes[:-1], layer_sizes[1:]))\n",
        "\n",
        "  keys, *keys = jax.random.split(key, 2)\n",
        "  input_data = jax.random.normal(keys[0], (batch_size, layer_sizes[0]))\n",
        "  target_data = jax.random.normal(keys[0], (batch_size, layer_sizes[-1]))\n",
        "\n",
        "  return model, (input_data, target_data)"
      ]
    },
    {
      "cell_type": "code",
      "source": [
        "layer_sizes = [768, 4*768, 768]\n",
        "batch_size = 8192"
      ],
      "metadata": {
        "id": "y_EO4Cc99Lo6"
      },
      "execution_count": 4,
      "outputs": []
    },
    {
      "cell_type": "code",
      "source": [
        "model, batch = get_model_and_data(jax.random.key(0), layer_sizes, batch_size)"
      ],
      "metadata": {
        "id": "rUkwAjZr-LnO"
      },
      "execution_count": 5,
      "outputs": []
    },
    {
      "cell_type": "code",
      "source": [
        "def predict(model, inputs):\n",
        "  for W, b in model:\n",
        "    outputs = jnp.dot(inputs, W) + b\n",
        "    inputs = jnp.maximum(outputs, 0)\n",
        "  return outputs\n",
        "\n",
        "def loss(model, batch):\n",
        "  inputs, targets = batch\n",
        "  predictions = predict(model, inputs)\n",
        "  return jnp.mean(jnp.sum((predictions - targets)**2, axis=-1))"
      ],
      "metadata": {
        "id": "ftK4v74m-ZP9"
      },
      "execution_count": 6,
      "outputs": []
    },
    {
      "cell_type": "code",
      "source": [
        "loss_jit = jax.jit(loss)\n",
        "gradfun = jax.jit(jax.grad(loss))"
      ],
      "metadata": {
        "id": "CdizzgTi_olY"
      },
      "execution_count": 7,
      "outputs": []
    },
    {
      "cell_type": "markdown",
      "metadata": {
        "id": "nZyEdC3Zh3Q-"
      },
      "source": [
        "### 3.2 Single-Device Baseline\n",
        "\n",
        "Let's first establish a baseline by training on a single device."
      ]
    },
    {
      "cell_type": "code",
      "execution_count": 8,
      "metadata": {
        "id": "KFq25YzKh3Q-"
      },
      "outputs": [],
      "source": [
        "batch_single = jax.device_put(batch, jax.devices()[0])\n",
        "params_single = jax.device_put(model, jax.devices()[0])"
      ]
    },
    {
      "cell_type": "code",
      "source": [
        "loss_jit(params_single, batch_single)"
      ],
      "metadata": {
        "id": "a1wHGqYh_0gR",
        "outputId": "a1d32cf1-c1a7-4acb-9082-ffc3e9e2a6aa",
        "colab": {
          "base_uri": "https://localhost:8080/"
        }
      },
      "execution_count": 9,
      "outputs": [
        {
          "output_type": "execute_result",
          "data": {
            "text/plain": [
              "Array(2324.8494, dtype=float32)"
            ]
          },
          "metadata": {},
          "execution_count": 9
        }
      ]
    },
    {
      "cell_type": "code",
      "source": [
        "%timeit -n 5 -r 5 gradfun(params_single, batch_single)[0][0].block_until_ready()"
      ],
      "metadata": {
        "id": "bUvLRRplAUK7",
        "outputId": "64ed6be7-788d-427f-933b-5916cd711d0d",
        "colab": {
          "base_uri": "https://localhost:8080/"
        }
      },
      "execution_count": 17,
      "outputs": [
        {
          "output_type": "stream",
          "name": "stdout",
          "text": [
            "10.8 ms ± 1.08 ms per loop (mean ± std. dev. of 5 runs, 5 loops each)\n"
          ]
        }
      ]
    },
    {
      "cell_type": "markdown",
      "metadata": {
        "id": "wEhK17TPh3Q_"
      },
      "source": [
        "### 3.3 8-way Data Parallel Training\n",
        "\n",
        "Now let's implement 8-way data parallel training where we'll shard the batch across 8 devices."
      ]
    },
    {
      "cell_type": "code",
      "execution_count": 11,
      "metadata": {
        "id": "mhH5pGm_h3Q_",
        "outputId": "dde9b0a0-1183-450e-a571-83107aff5243",
        "colab": {
          "base_uri": "https://localhost:8080/"
        }
      },
      "outputs": [
        {
          "output_type": "stream",
          "name": "stdout",
          "text": [
            "Mesh shape: OrderedDict([('batch', 8)])\n",
            "Mesh axis names: ('batch',)\n"
          ]
        }
      ],
      "source": [
        "# Create an 8-device mesh for data parallelism\n",
        "mesh = jax.make_mesh((8,), ('batch',))\n",
        "print(f\"Mesh shape: {mesh.shape}\")\n",
        "print(f\"Mesh axis names: {mesh.axis_names}\")\n",
        "\n",
        "# Create sharding specifications\n",
        "\n",
        "## Shard data along the batch dimension\n",
        "batch_sharding = NamedSharding(mesh, P('batch'))\n",
        "## Replicate parameters across all devices\n",
        "replicated_sharding = NamedSharding(mesh, P())"
      ]
    },
    {
      "cell_type": "code",
      "source": [
        "batch = jax.device_put(batch, batch_sharding)\n",
        "params = jax.device_put(model, replicated_sharding)"
      ],
      "metadata": {
        "id": "6I47F3-tADf6"
      },
      "execution_count": 12,
      "outputs": []
    },
    {
      "cell_type": "code",
      "execution_count": 13,
      "metadata": {
        "id": "HZ4VRe8bh3Q_",
        "outputId": "21f98245-7b04-444b-9c57-6c2481979433",
        "colab": {
          "base_uri": "https://localhost:8080/"
        }
      },
      "outputs": [
        {
          "output_type": "execute_result",
          "data": {
            "text/plain": [
              "Array(2324.849, dtype=float32)"
            ]
          },
          "metadata": {},
          "execution_count": 13
        }
      ],
      "source": [
        "loss_jit(params, batch)"
      ]
    },
    {
      "cell_type": "code",
      "source": [
        "%timeit -n 5 -r 5 gradfun(params, batch)[0][0].block_until_ready()"
      ],
      "metadata": {
        "id": "tdS8RpmEAJWh",
        "outputId": "c5594135-dd16-484d-c03b-87f65e6cef74",
        "colab": {
          "base_uri": "https://localhost:8080/"
        }
      },
      "execution_count": 18,
      "outputs": [
        {
          "output_type": "stream",
          "name": "stdout",
          "text": [
            "3.29 ms ± 60.7 µs per loop (mean ± std. dev. of 5 runs, 5 loops each)\n"
          ]
        }
      ]
    },
    {
      "cell_type": "code",
      "source": [
        "step_size = 1e-4\n",
        "\n",
        "for _ in range(1000):\n",
        "  grads = gradfun(params, batch)\n",
        "  params = [(W - step_size * dW, b - step_size * db)\n",
        "            for (W, b), (dW, db) in zip(params, grads)]\n",
        "\n",
        "print(loss_jit(params, batch))"
      ],
      "metadata": {
        "id": "3kmUnp4fRw8i",
        "outputId": "d6ad98e4-20ca-44e0-98b1-da6c996b9951",
        "colab": {
          "base_uri": "https://localhost:8080/"
        }
      },
      "execution_count": 22,
      "outputs": [
        {
          "output_type": "stream",
          "name": "stdout",
          "text": [
            "527.20404\n"
          ]
        }
      ]
    },
    {
      "cell_type": "markdown",
      "metadata": {
        "id": "T1R8mquih3Q_"
      },
      "source": [
        "### 1.4 Visualizing Data Sharding\n",
        "\n",
        "Let's visualize how the batch is sharded across devices."
      ]
    },
    {
      "cell_type": "code",
      "execution_count": 28,
      "metadata": {
        "id": "K0X-gnLLh3Q_",
        "outputId": "fd177b0e-0966-4783-a9a5-922e1f2b11ee",
        "colab": {
          "base_uri": "https://localhost:8080/"
        }
      },
      "outputs": [
        {
          "output_type": "stream",
          "name": "stdout",
          "text": [
            "Visualizing batch sharding across 8 devices:\n",
            "Original batch shape: (8192, 768)\n",
            "TPU_0(process=0,(0,0,0,0)) slice(0, 1024, None) (1024, 768)\n",
            "TPU_1(process=0,(0,0,0,1)) slice(1024, 2048, None) (1024, 768)\n",
            "TPU_2(process=0,(1,0,0,0)) slice(2048, 3072, None) (1024, 768)\n",
            "TPU_3(process=0,(1,0,0,1)) slice(3072, 4096, None) (1024, 768)\n",
            "TPU_6(process=0,(1,1,0,0)) slice(4096, 5120, None) (1024, 768)\n",
            "TPU_7(process=0,(1,1,0,1)) slice(5120, 6144, None) (1024, 768)\n",
            "TPU_4(process=0,(0,1,0,0)) slice(6144, 7168, None) (1024, 768)\n",
            "TPU_5(process=0,(0,1,0,1)) slice(7168, 8192, None) (1024, 768)\n"
          ]
        }
      ],
      "source": [
        "print(\"Visualizing batch sharding across 8 devices:\")\n",
        "print(\"Original batch shape:\", batch[0].shape)\n",
        "\n",
        "for shard in batch[0].addressable_shards:\n",
        "  print(shard.device, shard.index[0], shard.data.shape)"
      ]
    },
    {
      "cell_type": "markdown",
      "metadata": {
        "id": "rLuPnH66h3Q_"
      },
      "source": [
        "## 2. Data Parallel Training with Flax NNX\n",
        "\n",
        "Now let's implement the same 8-way data parallel training using Flax NNX, which provides higher-level abstractions."
      ]
    },
    {
      "cell_type": "code",
      "execution_count": 30,
      "metadata": {
        "id": "4E8YR_rlh3Q_"
      },
      "outputs": [],
      "source": [
        "# Import Flax NNX\n",
        "try:\n",
        "    import flax.nnx as nnx\n",
        "    import optax\n",
        "except ImportError:\n",
        "    !pip install -q flax optax\n",
        "    import flax.nnx as nnx\n",
        "    import optax"
      ]
    },
    {
      "cell_type": "code",
      "execution_count": 31,
      "metadata": {
        "id": "K9Wlxs67h3Q_"
      },
      "outputs": [],
      "source": [
        "# create model\n",
        "class MLP(nnx.Module):\n",
        "  def __init__(self, din, dmid, dout, *, rngs: nnx.Rngs):\n",
        "    self.linear1 = nnx.Linear(din, dmid, rngs=rngs)\n",
        "    self.linear2 = nnx.Linear(dmid, dout, rngs=rngs)\n",
        "\n",
        "  def __call__(self, x):\n",
        "    return self.linear2(nnx.relu(self.linear1(x)))"
      ]
    },
    {
      "cell_type": "code",
      "source": [
        "model = MLP(1, 64, 1, rngs=nnx.Rngs(0))\n",
        "optimizer = nnx.Optimizer(model, optax.adamw(1e-2))\n",
        "\n",
        "# replicate state\n",
        "state = nnx.state((model, optimizer))\n",
        "state = jax.device_put(state, replicated_sharding)\n",
        "nnx.update((model, optimizer), state)"
      ],
      "metadata": {
        "id": "Ittq3UFPZ_zY"
      },
      "execution_count": 32,
      "outputs": []
    },
    {
      "cell_type": "code",
      "source": [
        "# visualize model sharding\n",
        "print('model sharding')\n",
        "jax.debug.visualize_array_sharding(model.linear1.kernel.value)"
      ],
      "metadata": {
        "id": "4LM_wq6kaLtU",
        "outputId": "40cfacca-602b-4096-d073-685f9d8f8d22",
        "colab": {
          "base_uri": "https://localhost:8080/",
          "height": 216
        }
      },
      "execution_count": 33,
      "outputs": [
        {
          "output_type": "stream",
          "name": "stdout",
          "text": [
            "model sharding\n"
          ]
        },
        {
          "output_type": "display_data",
          "data": {
            "text/plain": [
              "\u001b[38;2;255;255;255;48;2;57;59;121m                                                                                \u001b[0m\n",
              "\u001b[38;2;255;255;255;48;2;57;59;121m                                                                                \u001b[0m\n",
              "\u001b[38;2;255;255;255;48;2;57;59;121m                                                                                \u001b[0m\n",
              "\u001b[38;2;255;255;255;48;2;57;59;121m                                                                                \u001b[0m\n",
              "\u001b[38;2;255;255;255;48;2;57;59;121m                                                                                \u001b[0m\n",
              "\u001b[38;2;255;255;255;48;2;57;59;121m                              \u001b[0m\u001b[38;2;255;255;255;48;2;57;59;121mTPU 0,1,2,3,4,5,6,7\u001b[0m\u001b[38;2;255;255;255;48;2;57;59;121m                               \u001b[0m\n",
              "\u001b[38;2;255;255;255;48;2;57;59;121m                                                                                \u001b[0m\n",
              "\u001b[38;2;255;255;255;48;2;57;59;121m                                                                                \u001b[0m\n",
              "\u001b[38;2;255;255;255;48;2;57;59;121m                                                                                \u001b[0m\n",
              "\u001b[38;2;255;255;255;48;2;57;59;121m                                                                                \u001b[0m\n",
              "\u001b[38;2;255;255;255;48;2;57;59;121m                                                                                \u001b[0m\n"
            ],
            "text/html": [
              "<pre style=\"white-space:pre;overflow-x:auto;line-height:normal;font-family:Menlo,'DejaVu Sans Mono',consolas,'Courier New',monospace\"><span style=\"color: #ffffff; text-decoration-color: #ffffff; background-color: #393b79\">                                                                                </span>\n",
              "<span style=\"color: #ffffff; text-decoration-color: #ffffff; background-color: #393b79\">                                                                                </span>\n",
              "<span style=\"color: #ffffff; text-decoration-color: #ffffff; background-color: #393b79\">                                                                                </span>\n",
              "<span style=\"color: #ffffff; text-decoration-color: #ffffff; background-color: #393b79\">                                                                                </span>\n",
              "<span style=\"color: #ffffff; text-decoration-color: #ffffff; background-color: #393b79\">                                                                                </span>\n",
              "<span style=\"color: #ffffff; text-decoration-color: #ffffff; background-color: #393b79\">                              TPU 0,1,2,3,4,5,6,7                               </span>\n",
              "<span style=\"color: #ffffff; text-decoration-color: #ffffff; background-color: #393b79\">                                                                                </span>\n",
              "<span style=\"color: #ffffff; text-decoration-color: #ffffff; background-color: #393b79\">                                                                                </span>\n",
              "<span style=\"color: #ffffff; text-decoration-color: #ffffff; background-color: #393b79\">                                                                                </span>\n",
              "<span style=\"color: #ffffff; text-decoration-color: #ffffff; background-color: #393b79\">                                                                                </span>\n",
              "<span style=\"color: #ffffff; text-decoration-color: #ffffff; background-color: #393b79\">                                                                                </span>\n",
              "</pre>\n"
            ]
          },
          "metadata": {}
        }
      ]
    },
    {
      "cell_type": "code",
      "source": [
        "@nnx.jit\n",
        "def train_step(model: MLP, optimizer: nnx.Optimizer, x, y):\n",
        "  def loss_fn(model: MLP):\n",
        "    y_pred = model(x)\n",
        "    return jnp.mean((y - y_pred) ** 2)\n",
        "\n",
        "  loss, grads = nnx.value_and_grad(loss_fn)(model)\n",
        "  optimizer.update(grads)\n",
        "  return loss\n",
        "\n",
        "\n",
        "def dataset(steps, batch_size):\n",
        "  for _ in range(steps):\n",
        "    x = np.random.uniform(-2, 2, size=(batch_size, 1))\n",
        "    y = 0.8 * x**2 + 0.1 + np.random.normal(0, 0.1, size=x.shape)\n",
        "    yield x, y"
      ],
      "metadata": {
        "id": "v1mGmZygaS6V"
      },
      "execution_count": 34,
      "outputs": []
    },
    {
      "cell_type": "code",
      "source": [
        "for step, (x, y) in enumerate(dataset(1000, 16)):\n",
        "  # shard data\n",
        "  x, y = jax.device_put((x, y), batch_sharding)\n",
        "  # train\n",
        "  loss = train_step(model, optimizer, x, y)\n",
        "\n",
        "  if step == 0:\n",
        "    print('data sharding')\n",
        "    jax.debug.visualize_array_sharding(x)\n",
        "\n",
        "  if step % 100 == 0:\n",
        "    print(f'step={step}, loss={loss}')"
      ],
      "metadata": {
        "id": "OwSJkENmaCpK",
        "outputId": "a1ba28c8-5021-4ae7-c48f-0beafad06de7",
        "colab": {
          "base_uri": "https://localhost:8080/",
          "height": 477
        }
      },
      "execution_count": 35,
      "outputs": [
        {
          "output_type": "stream",
          "name": "stdout",
          "text": [
            "data sharding\n"
          ]
        },
        {
          "output_type": "display_data",
          "data": {
            "text/plain": [
              "\u001b[38;2;255;255;255;48;2;57;59;121m  \u001b[0m\u001b[38;2;255;255;255;48;2;57;59;121mTPU 0\u001b[0m\u001b[38;2;255;255;255;48;2;57;59;121m  \u001b[0m\n",
              "\u001b[38;2;255;255;255;48;2;57;59;121m         \u001b[0m\n",
              "\u001b[38;2;255;255;255;48;2;214;97;107m  \u001b[0m\u001b[38;2;255;255;255;48;2;214;97;107mTPU 1\u001b[0m\u001b[38;2;255;255;255;48;2;214;97;107m  \u001b[0m\n",
              "\u001b[38;2;255;255;255;48;2;214;97;107m         \u001b[0m\n",
              "\u001b[38;2;255;255;255;48;2;140;162;82m  \u001b[0m\u001b[38;2;255;255;255;48;2;140;162;82mTPU 2\u001b[0m\u001b[38;2;255;255;255;48;2;140;162;82m  \u001b[0m\n",
              "\u001b[38;2;255;255;255;48;2;140;162;82m         \u001b[0m\n",
              "\u001b[38;2;255;255;255;48;2;222;158;214m  \u001b[0m\u001b[38;2;255;255;255;48;2;222;158;214mTPU 3\u001b[0m\u001b[38;2;255;255;255;48;2;222;158;214m  \u001b[0m\n",
              "\u001b[38;2;255;255;255;48;2;222;158;214m         \u001b[0m\n",
              "\u001b[38;2;0;0;0;48;2;231;203;148m  \u001b[0m\u001b[38;2;0;0;0;48;2;231;203;148mTPU 6\u001b[0m\u001b[38;2;0;0;0;48;2;231;203;148m  \u001b[0m\n",
              "\u001b[38;2;0;0;0;48;2;231;203;148m         \u001b[0m\n",
              "\u001b[38;2;255;255;255;48;2;107;110;207m  \u001b[0m\u001b[38;2;255;255;255;48;2;107;110;207mTPU 7\u001b[0m\u001b[38;2;255;255;255;48;2;107;110;207m  \u001b[0m\n",
              "\u001b[38;2;255;255;255;48;2;107;110;207m         \u001b[0m\n",
              "\u001b[38;2;255;255;255;48;2;165;81;148m  \u001b[0m\u001b[38;2;255;255;255;48;2;165;81;148mTPU 4\u001b[0m\u001b[38;2;255;255;255;48;2;165;81;148m  \u001b[0m\n",
              "\u001b[38;2;255;255;255;48;2;165;81;148m         \u001b[0m\n",
              "\u001b[38;2;255;255;255;48;2;140;109;49m  \u001b[0m\u001b[38;2;255;255;255;48;2;140;109;49mTPU 5\u001b[0m\u001b[38;2;255;255;255;48;2;140;109;49m  \u001b[0m\n",
              "\u001b[38;2;255;255;255;48;2;140;109;49m         \u001b[0m\n"
            ],
            "text/html": [
              "<pre style=\"white-space:pre;overflow-x:auto;line-height:normal;font-family:Menlo,'DejaVu Sans Mono',consolas,'Courier New',monospace\"><span style=\"color: #ffffff; text-decoration-color: #ffffff; background-color: #393b79\">  TPU 0  </span>\n",
              "<span style=\"color: #ffffff; text-decoration-color: #ffffff; background-color: #393b79\">         </span>\n",
              "<span style=\"color: #ffffff; text-decoration-color: #ffffff; background-color: #d6616b\">  TPU 1  </span>\n",
              "<span style=\"color: #ffffff; text-decoration-color: #ffffff; background-color: #d6616b\">         </span>\n",
              "<span style=\"color: #ffffff; text-decoration-color: #ffffff; background-color: #8ca252\">  TPU 2  </span>\n",
              "<span style=\"color: #ffffff; text-decoration-color: #ffffff; background-color: #8ca252\">         </span>\n",
              "<span style=\"color: #ffffff; text-decoration-color: #ffffff; background-color: #de9ed6\">  TPU 3  </span>\n",
              "<span style=\"color: #ffffff; text-decoration-color: #ffffff; background-color: #de9ed6\">         </span>\n",
              "<span style=\"color: #000000; text-decoration-color: #000000; background-color: #e7cb94\">  TPU 6  </span>\n",
              "<span style=\"color: #000000; text-decoration-color: #000000; background-color: #e7cb94\">         </span>\n",
              "<span style=\"color: #ffffff; text-decoration-color: #ffffff; background-color: #6b6ecf\">  TPU 7  </span>\n",
              "<span style=\"color: #ffffff; text-decoration-color: #ffffff; background-color: #6b6ecf\">         </span>\n",
              "<span style=\"color: #ffffff; text-decoration-color: #ffffff; background-color: #a55194\">  TPU 4  </span>\n",
              "<span style=\"color: #ffffff; text-decoration-color: #ffffff; background-color: #a55194\">         </span>\n",
              "<span style=\"color: #ffffff; text-decoration-color: #ffffff; background-color: #8c6d31\">  TPU 5  </span>\n",
              "<span style=\"color: #ffffff; text-decoration-color: #ffffff; background-color: #8c6d31\">         </span>\n",
              "</pre>\n"
            ]
          },
          "metadata": {}
        },
        {
          "output_type": "stream",
          "name": "stdout",
          "text": [
            "step=0, loss=3.0337131023406982\n",
            "step=100, loss=0.04082110896706581\n",
            "step=200, loss=0.03399622440338135\n",
            "step=300, loss=0.016794903203845024\n",
            "step=400, loss=0.02406255342066288\n",
            "step=500, loss=0.013983037322759628\n",
            "step=600, loss=0.01109331101179123\n",
            "step=700, loss=0.024920038878917694\n",
            "step=800, loss=0.012097254395484924\n",
            "step=900, loss=0.008098714053630829\n"
          ]
        }
      ]
    },
    {
      "cell_type": "code",
      "source": [
        "# dereplicate state\n",
        "state = nnx.state((model, optimizer))\n",
        "state = jax.device_get(state)\n",
        "nnx.update((model, optimizer), state)"
      ],
      "metadata": {
        "id": "CcuXaSshahKZ"
      },
      "execution_count": 36,
      "outputs": []
    },
    {
      "cell_type": "code",
      "source": [
        "X, Y = next(dataset(1, 1000))\n",
        "x_range = np.linspace(X.min(), X.max(), 100)[:, None]\n",
        "y_pred = model(x_range)\n",
        "\n",
        "# plot\n",
        "plt.scatter(X, Y, label='data')\n",
        "plt.plot(x_range, y_pred, color='black', label='model')\n",
        "plt.legend()\n",
        "plt.show()"
      ],
      "metadata": {
        "id": "1FrQzqIoajtL",
        "outputId": "cccaf6b8-a7f8-4d91-ab75-f593861645a3",
        "colab": {
          "base_uri": "https://localhost:8080/",
          "height": 430
        }
      },
      "execution_count": 37,
      "outputs": [
        {
          "output_type": "display_data",
          "data": {
            "text/plain": [
              "<Figure size 640x480 with 1 Axes>"
            ],
            "image/png": "[encoded data removed]"
          },
          "metadata": {}
        }
      ]
    },
    {
      "cell_type": "markdown",
      "metadata": {
        "id": "2kmQDk0Fh3Q_"
      },
      "source": [
        "### Fully Sharded Data Parallelism (FSDP) Theory\n",
        "\n",
        "**Definition**: Activations, weights, and optimizer states are sharded along batch dimension. Weights are gathered just-in-time before use.\n",
        "\n",
        "**Mathematical representation**:\n",
        "$$\\text{In}[B_X, D] \\cdot_D W_{\\text{in}}[D_X, F] \\cdot_F W_{\\text{out}}[F, D_X] \\rightarrow \\text{Out}[B_X, D]$$\n",
        "\n",
        "where both batch and weight dimensions are sharded across $X$ devices.\n",
        "\n",
        "![FSDP](https://github.com/jax-ml/scaling-book/blob/main/assets/img/fsdp.png?raw=true)\n",
        "\n",
        "<sup> Image Source: [How To Scale Your Model](https://jax-ml.github.io/scaling-book) </sup>\n",
        "\n",
        "**Key properties**:\n",
        "- **Drastically reduces per-device memory usage**\n",
        "- Saves on backward pass FLOPs\n",
        "- Decomposes AllReduce into AllGather + ReduceScatter\n",
        "- Same communication cost as pure data parallelism\n",
        "- Also called \\\"ZeRO sharding\\\" (ZeRO-3 shards parameters, gradients, and optimizer states)\n",
        "\n",
        "**Algorithm**:\n",
        "\n",
        "**Forward pass:**\n",
        "1. W<sub>in</sub>[D, F] = **AllGather**(W<sub>in</sub>[D<sub>X</sub>, F])\n",
        "2. Tmp[B<sub>X</sub>, F] = In[B<sub>X</sub>, D] ×<sub>D</sub> W<sub>in</sub>[D, F]\n",
        "3. W<sub>out</sub>[F, D] = **AllGather**(W<sub>out</sub>[F, D<sub>X</sub>])\n",
        "4. Out[B<sub>X</sub>, D] = Tmp[B<sub>X</sub>, F] ×<sub>F</sub> W<sub>out</sub>[F, D]\n",
        "\n",
        "**Backward pass:**\n",
        "1. dW<sub>out</sub>[F, D<sub>X</sub>] = **ReduceScatter**(Tmp[B<sub>X</sub>, F] ×<sub>B</sub> dOut[B<sub>X</sub>, D])\n",
        "2. dW<sub>in</sub>[D<sub>X</sub>, F] = **ReduceScatter**(dTmp[B<sub>X</sub>, F] ×<sub>B</sub> In[B<sub>X</sub>, D])\n",
        "\n",
        "**Communication Analysis**:\n",
        "\n",
        "FSDP has the **same roofline as pure data parallelism** because:\n",
        "- AllReduce = AllGather + ReduceScatter\n",
        "- Total communication volume is identical\n",
        "- Same condition: $\\frac{B}{X} > \\frac{C}{W_{\\text{ici}}} = 2550$\n",
        "\n",
        "**Benefits**:\n",
        "- Memory reduction: Parameters and optimizer states sharded across devices\n",
        "- Zero overhead: Same FLOPs-to-communication ratio\n",
        "- Can upgrade from data parallelism without performance loss\n",
        "- Essential for models > 9B parameters\""
      ]
    },
    {
      "cell_type": "markdown",
      "metadata": {
        "id": "75jVrHq7h3Q_"
      },
      "source": [
        "## 3. Fully Sharded Data Parallel (FSDP) Training with Flax NNX\n",
        "\n",
        "Now let's implement FSDP where we shard both the data and model parameters across devices. This is especially useful for large models that don't fit on a single device."
      ]
    },
    {
      "cell_type": "markdown",
      "metadata": {
        "id": "-KATtRorh3Q_"
      },
      "source": [
        "### Understanding FSDP Memory Benefits\n",
        "\n",
        "The diagram below shows how FSDP reduces memory usage compared to pure data parallelism:\n",
        "\n",
        "![FSDP Memory Comparison](https://github.com/jax-ml/scaling-book/blob/main/assets/img/fsdp-figure.png?raw=true)\n",
        "\n",
        "<sup> Image Source: [How To Scale Your Model](https://jax-ml.github.io/scaling-book) </sup>\n",
        "\n",
        "The rows show:\n",
        "1. **Pure Data Parallelism**: Parameters and optimizer states fully replicated\n",
        "2. **ZeRO-1**: Optimizer states sharded\n",
        "3. **ZeRO-2**: Optimizer states and gradients sharded  \n",
        "4. **ZeRO-3 (FSDP)**: Parameters, gradients, and optimizer states all sharded\n",
        "\n",
        "**Why FSDP matters**: Standard data parallelism involves significant duplicated work and memory. With FSDP:\n",
        "- Each device only stores 1/N of the parameters\n",
        "- Each device only updates 1/N of the optimizer state\n",
        "- AllGather parameters as needed for forward pass\n",
        "- ReduceScatter gradients for efficient updates\n",
        "\n",
        "This enables training much larger models that wouldn't fit with pure data parallelism.\""
      ]
    },
    {
      "cell_type": "code",
      "execution_count": null,
      "metadata": {
        "id": "n0JFd67Dh3Q_"
      },
      "outputs": [],
      "source": [
        "# Create a 2D mesh for FSDP\n",
        "# We'll use 2 devices for data parallelism and 4 for model parallelism\n",
        "fsdp_mesh = jax.sharding.Mesh(\n",
        "    mesh_utils.create_device_mesh((2, 4)),\n",
        "    ('data', 'model')\n",
        ")\n",
        "print(f\"FSDP mesh shape: {fsdp_mesh.shape}\")\n",
        "print(f\"FSDP mesh axis names: {fsdp_mesh.axis_names}\")"
      ]
    },
    {
      "cell_type": "code",
      "execution_count": null,
      "metadata": {
        "id": "YZ6MhzDeh3Q_"
      },
      "outputs": [],
      "source": [
        "# Define a custom MLP with explicit parameter sharding for FSDP\n",
        "import dataclasses\n",
        "from typing import Optional\n",
        "\n",
        "@dataclasses.dataclass(unsafe_hash=True)\n",
        "class MeshRules:\n",
        "    \"\"\"Rules for how to shard different parts of the model.\"\"\"\n",
        "    input_dim: Optional[str] = None\n",
        "    output_dim: Optional[str] = 'model'\n",
        "    bias: Optional[str] = 'model'\n",
        "\n",
        "mesh_rules = MeshRules()\n",
        "\n",
        "class FSDP_MLP(nnx.Module):\n",
        "    \"\"\"MLP with explicit parameter sharding for FSDP.\"\"\"\n",
        "\n",
        "    def __init__(self, layer_sizes, rngs: nnx.Rngs):\n",
        "        self.layer_sizes = layer_sizes\n",
        "\n",
        "        # Create layers with sharded parameters\n",
        "        self.weights = []\n",
        "        self.biases = []\n",
        "\n",
        "        for i in range(len(layer_sizes) - 1):\n",
        "            in_dim, out_dim = layer_sizes[i], layer_sizes[i + 1]\n",
        "\n",
        "            # Initialize weight with sharding spec\n",
        "            w = nnx.Param(\n",
        "                nnx.initializers.lecun_normal()(rngs.params(), (in_dim, out_dim)),\n",
        "                sharding=(mesh_rules.input_dim, mesh_rules.output_dim)\n",
        "            )\n",
        "\n",
        "            # Initialize bias with sharding spec\n",
        "            # For the last layer with output_dim=1, we don't shard\n",
        "            if out_dim == 1:\n",
        "                b = nnx.Param(\n",
        "                    jnp.zeros((out_dim,)),\n",
        "                    sharding=(None,)  # Don't shard single-element bias\n",
        "                )\n",
        "            else:\n",
        "                b = nnx.Param(\n",
        "                    jnp.zeros((out_dim,)),\n",
        "                    sharding=(mesh_rules.bias,)\n",
        "                )\n",
        "\n",
        "            self.weights.append(w)\n",
        "            self.biases.append(b)\n",
        "\n",
        "    def __call__(self, x):\n",
        "        activations = x\n",
        "\n",
        "        # Apply each layer\n",
        "        for i in range(len(self.weights) - 1):\n",
        "            activations = jnp.dot(activations, self.weights[i]) + self.biases[i]\n",
        "            activations = jax.nn.relu(activations)\n",
        "\n",
        "        # Last layer\n",
        "        return jnp.dot(activations, self.weights[-1]) + self.biases[-1]"
      ]
    },
    {
      "cell_type": "code",
      "execution_count": null,
      "metadata": {
        "id": "8OFI2_KRh3Q_"
      },
      "outputs": [],
      "source": [
        "# Custom SGD optimizer for FSDP (based on flax_nnx_dp_fsdp.py)\n",
        "class SGDState(nnx.Variable):\n",
        "    pass\n",
        "\n",
        "class SGD(nnx.Object):\n",
        "    def __init__(self, params: nnx.State, lr, decay=0.9):\n",
        "        def init_optimizer_state(variable: nnx.Variable):\n",
        "            return SGDState(\n",
        "                jnp.zeros_like(variable.value), **variable.get_metadata()\n",
        "            )\n",
        "\n",
        "        self.lr = lr\n",
        "        self.params = params\n",
        "        self.momentum: nnx.State = jax.tree.map(init_optimizer_state, self.params)\n",
        "        self.decay = decay\n",
        "\n",
        "    def update(self, grads: nnx.State):\n",
        "        def update_fn(params: nnx.Variable, momentum: SGDState, grad: nnx.VariableState):\n",
        "            # Momentum update\n",
        "            momentum.value = self.decay * momentum + (1 - self.decay) * grad.value\n",
        "            # Parameter update\n",
        "            params.value -= self.lr * momentum\n",
        "\n",
        "        jax.tree.map(update_fn, self.params, self.momentum, grads)"
      ]
    },
    {
      "cell_type": "markdown",
      "metadata": {
        "id": "OsMxfnzDh3Q_"
      },
      "source": [
        "### Mixed FSDP and Tensor Parallelism\n",
        "\n",
        "For even larger models or smaller batch sizes, we can combine FSDP with tensor parallelism using a 2D mesh:\n",
        "\n",
        "![Mixed FSDP and Tensor Parallelism](https://github.com/jax-ml/scaling-book/blob/main/assets/img/mixed-fsdp-model-parallelism.png?raw=true)\n",
        "\n",
        "<sup> Image Source: [How To Scale Your Model](https://jax-ml.github.io/scaling-book) </sup>\n",
        "\n",
        "**Mathematical representation**:\n",
        "$$\\text{In}[B_X, D_Y] \\cdot_D W_{\\text{in}}[D_X, F_Y] \\cdot_F W_{\\text{out}}[F_Y, D_X] \\rightarrow \\text{Out}[B_X, D_Y]$$\n",
        "\n",
        "where:\n",
        "- $X$ = data/FSDP parallelism dimension\n",
        "- $Y$ = model/tensor parallelism dimension\n",
        "\n",
        "**Key insight**:\n",
        "- **FSDP moves weights** (communication scales with weight size)\n",
        "- **Tensor parallelism moves activations** (communication scales with activation size)\n",
        "- As batch size shrinks, activations get smaller → tensor parallelism becomes cheaper\n",
        "- As we add more tensor parallelism, weight gathers get smaller → FSDP becomes cheaper\n",
        "\n",
        "**Optimal sharding**: For $N = X \\times Y$ total chips:\n",
        "$$X_{\\text{opt}} = \\sqrt{\\frac{B}{F} \\frac{M_X}{M_Y} N}$$\n",
        "\n",
        "where $M_X$ and $M_Y$ are the number of mesh axes for FSDP and tensor parallelism respectively.\n",
        "\n",
        "**Communication bound condition**:\n",
        "$$\\frac{B}{N} > \\frac{4\\alpha^2}{M_X M_Y F}$$\n",
        "\n",
        "where $\\alpha = C/W_{\\text{ici}} = 2550$ for TPUv5p.\n",
        "\n",
        "This allows batch sizes as low as ~400 tokens per chip, roughly 2× better than pure FSDP.\""
      ]
    },
    {
      "cell_type": "code",
      "execution_count": null,
      "metadata": {
        "id": "PIfGspLWh3RA"
      },
      "outputs": [],
      "source": [
        "# Create and initialize FSDP model\n",
        "@nnx.jit\n",
        "def create_fsdp_model():\n",
        "    # Use smaller layer sizes for FSDP demo to avoid memory issues\n",
        "    fsdp_layer_sizes = [input_dim, 1024, 512, 1]\n",
        "    model = FSDP_MLP(fsdp_layer_sizes, rngs=nnx.Rngs(0))\n",
        "    optimizer = SGD(nnx.variables(model, nnx.Param), learning_rate, decay=0.9)\n",
        "\n",
        "    # Get sharding specifications for the state\n",
        "    state = nnx.state(optimizer)\n",
        "\n",
        "    def get_named_shardings(path: tuple, value: nnx.VariableState):\n",
        "        if hasattr(value, 'sharding') and value.sharding is not None:\n",
        "            return value.replace(NamedSharding(fsdp_mesh, P(*value.sharding)))\n",
        "        return value\n",
        "\n",
        "    named_shardings = nnx.map_state(get_named_shardings, state)\n",
        "    sharded_state = jax.lax.with_sharding_constraint(state, named_shardings)\n",
        "    nnx.update(optimizer, sharded_state)\n",
        "\n",
        "    return model, optimizer\n",
        "\n",
        "print(\"Creating FSDP model...\")\n",
        "fsdp_model, fsdp_optimizer = create_fsdp_model()\n",
        "\n",
        "# Visualize parameter sharding\n",
        "print(\"\n",
        "Weight sharding (distributed across model axis):\")\n",
        "jax.debug.visualize_array_sharding(fsdp_model.weights[0].value)\n",
        "print(\"\n",
        "Momentum sharding:\")\n",
        "jax.debug.visualize_array_sharding(fsdp_optimizer.momentum['weights'][0].value)"
      ]
    },
    {
      "cell_type": "code",
      "execution_count": null,
      "metadata": {
        "id": "kVmJ2hU6h3RA"
      },
      "outputs": [],
      "source": [
        "# FSDP training step\n",
        "@nnx.jit\n",
        "def fsdp_train_step(model: FSDP_MLP, optimizer: SGD, x_batch, y_batch):\n",
        "    \"\"\"FSDP training step.\"\"\"\n",
        "    def loss_fn(model):\n",
        "        predictions = model(x_batch)\n",
        "        return jnp.mean((predictions - y_batch) ** 2)\n",
        "\n",
        "    loss_value, grads = nnx.value_and_grad(loss_fn)(model)\n",
        "    optimizer.update(grads)\n",
        "    return loss_value\n",
        "\n",
        "# Training with FSDP\n",
        "print(\"\n",
        "Training with FSDP...\")\n",
        "losses_fsdp = []\n",
        "start_time = time.time()\n",
        "\n",
        "# Use smaller batch size for FSDP demo\n",
        "fsdp_batch_size = 256\n",
        "steps_per_epoch = num_samples // fsdp_batch_size\n",
        "\n",
        "for epoch in range(num_epochs):\n",
        "    # Shuffle data\n",
        "    key, subkey = jax.random.split(key)\n",
        "    perm = jax.random.permutation(subkey, num_samples)\n",
        "    x_shuffled = x_data[perm]\n",
        "    y_shuffled = y_data[perm]\n",
        "\n",
        "    epoch_losses = []\n",
        "\n",
        "    for step in range(steps_per_epoch):\n",
        "        # Get batch\n",
        "        idx_start = step * fsdp_batch_size\n",
        "        idx_end = idx_start + fsdp_batch_size\n",
        "        x_batch = x_shuffled[idx_start:idx_end]\n",
        "        y_batch = y_shuffled[idx_start:idx_end]\n",
        "\n",
        "        # Shard data across the data axis only\n",
        "        data_sharding = NamedSharding(fsdp_mesh, P('data', None))\n",
        "        x_batch = jax.device_put(x_batch, data_sharding)\n",
        "        y_batch = jax.device_put(y_batch, data_sharding)\n",
        "\n",
        "        # Perform training step\n",
        "        loss = fsdp_train_step(fsdp_model, fsdp_optimizer, x_batch, y_batch)\n",
        "        epoch_losses.append(float(loss))\n",
        "\n",
        "    avg_loss = sum(epoch_losses) / len(epoch_losses)\n",
        "    losses_fsdp.append(avg_loss)\n",
        "    print(f\"Epoch {epoch+1}/{num_epochs}, Loss: {avg_loss:.6f}\")\n",
        "\n",
        "end_time = time.time()\n",
        "time_fsdp = end_time - start_time\n",
        "print(f\"\n",
        "FSDP training time: {time_fsdp:.2f} seconds\")"
      ]
    },
    {
      "cell_type": "markdown",
      "metadata": {
        "id": "xiUFL6yoh3RA"
      },
      "source": [
        "## 4. Performance Comparison\n",
        "\n",
        "Let's compare the performance of all training approaches."
      ]
    },
    {
      "cell_type": "code",
      "execution_count": null,
      "metadata": {
        "id": "eCCdIGLph3RA"
      },
      "outputs": [],
      "source": [
        "# Plot training curves\n",
        "plt.figure(figsize=(12, 5))\n",
        "\n",
        "# Plot loss curves\n",
        "plt.subplot(1, 2, 1)\n",
        "plt.plot(losses_single, label='Single Device', linewidth=2)\n",
        "plt.plot(losses_dp, label='JAX Data Parallel (8-way)', linewidth=2)\n",
        "plt.plot(losses_nnx_dp, label='Flax NNX Data Parallel (8-way)', linewidth=2)\n",
        "plt.plot(losses_fsdp, label='Flax NNX FSDP', linewidth=2)\n",
        "plt.xlabel('Epoch')\n",
        "plt.ylabel('Loss')\n",
        "plt.title('Training Loss Comparison')\n",
        "plt.legend()\n",
        "plt.grid(True, alpha=0.3)\n",
        "\n",
        "# Plot speedup comparison\n",
        "plt.subplot(1, 2, 2)\n",
        "methods = ['Single\n",
        "Device', 'JAX\n",
        "DP', 'Flax NNX\n",
        "DP', 'FSDP']\n",
        "times = [time_single, time_dp, time_nnx_dp, time_fsdp]\n",
        "speedups = [time_single / t for t in times]\n",
        "colors = ['gray', 'blue', 'green', 'red']\n",
        "\n",
        "bars = plt.bar(methods, speedups, color=colors, alpha=0.7)\n",
        "plt.axhline(y=1, color='black', linestyle='--', alpha=0.5)\n",
        "plt.ylabel('Speedup (relative to single device)')\n",
        "plt.title('Training Speedup Comparison')\n",
        "plt.grid(True, alpha=0.3, axis='y')\n",
        "\n",
        "# Add speedup values on bars\n",
        "for bar, speedup in zip(bars, speedups):\n",
        "    height = bar.get_height()\n",
        "    plt.text(bar.get_x() + bar.get_width()/2., height + 0.1,\n",
        "             f'{speedup:.2f}x', ha='center', va='bottom')\n",
        "\n",
        "plt.tight_layout()\n",
        "plt.show()\n",
        "\n",
        "# Print summary\n",
        "print(\"\n",
        "=== Performance Summary ===\")\n",
        "print(f\"Single Device: {time_single:.2f}s\")\n",
        "print(f\"JAX Data Parallel (8-way): {time_dp:.2f}s (speedup: {time_single/time_dp:.2f}x)\")\n",
        "print(f\"Flax NNX Data Parallel (8-way): {time_nnx_dp:.2f}s (speedup: {time_single/time_nnx_dp:.2f}x)\")\n",
        "print(f\"FSDP: {time_fsdp:.2f}s (speedup: {time_single/time_fsdp:.2f}x)\")"
      ]
    },
    {
      "cell_type": "markdown",
      "metadata": {
        "id": "djBz3BQjh3RA"
      },
      "source": [
        "### Communication vs Computation Analysis\n",
        "\n",
        "The plot below shows how different parallelism strategies perform as batch size changes:\n",
        "\n",
        "![Communication vs FLOPs Analysis](https://github.com/jax-ml/scaling-book/blob/main/assets/img/mixed-fsdp-comms-2.png?raw=true)\n",
        "\n",
        "<sup> Image Source: [How To Scale Your Model](https://jax-ml.github.io/scaling-book) </sup>\n",
        "\n",
        "Key observations:\n",
        "- **Pure Data Parallelism/FSDP** (green): Ratio scales linearly with batch size. Best for large batches.\n",
        "- **Tensor Parallelism** (blue): Fixed ratio independent of batch size. Limited by feed-forward dimension.\n",
        "- **Mixed FSDP + Tensor Parallelism** (red): Ratio scales with √B. Optimal for intermediate batch sizes.\n",
        "\n",
        "**The horizontal line at ratio = 1** marks the boundary between compute-bound (above) and communication-bound (below) regimes.\n",
        "\n",
        "**Practical implications**:\n",
        "- Large batch sizes (>850 per chip): Use pure FSDP\n",
        "- Intermediate batch sizes (400-850 per chip): Use mixed FSDP + tensor parallelism\n",
        "- Very small batch sizes: May become communication-bound regardless\n",
        "\n",
        "This analysis helps choose the right parallelism strategy based on your model size, batch size, and available hardware.\""
      ]
    },
    {
      "cell_type": "markdown",
      "metadata": {
        "id": "JKv7On3ah3RA"
      },
      "source": [
        "### Summary: Parallelism Strategies Comparison\n",
        "\n",
        "Here's a comprehensive comparison of the parallelism strategies covered:\n",
        "\n",
        "| **Strategy** | **Mathematical Formula** | **Communication** | **Memory** | **Best Use Case** |\n",
        "|--------------|---------------------------|-------------------|------------|-------------------|\n",
        "| **Data Parallelism** | In[B<sub>X</sub>, D] ⋅ W[D, F] → Out[B<sub>X</sub>, D] | AllReduce gradients (backward only) | Parameters replicated | Model fits on single device |\n",
        "| **FSDP** | In[B<sub>X</sub>, D] ⋅ W[D<sub>X</sub>, F] → Out[B<sub>X</sub>, D] | AllGather weights + ReduceScatter grads | Parameters sharded | Large models, memory constraints |\n",
        "| **Tensor Parallelism** | In[B, D<sub>Y</sub>] ⋅ W[D, F<sub>Y</sub>] → Out[B, D<sub>Y</sub>] | AllGather activations + ReduceScatter | Weights sharded by FF dim | Small batch sizes |\n",
        "| **Mixed FSDP + TP** | In[B<sub>X</sub>, D<sub>Y</sub>] ⋅ W[D<sub>X</sub>, F<sub>Y</sub>] → Out[B<sub>X</sub>, D<sub>Y</sub>] | Both weight and activation movement | Both sharding strategies | Very large models, small batches |\n",
        "\n",
        "**Communication Bound Conditions** (for TPUv5p):\n",
        "- **Data Parallelism & FSDP**: Batch size per chip > 2,550\n",
        "- **Tensor Parallelism**: F > Y × 2,550 (typically 8-16 way max)\n",
        "- **Mixed FSDP + TP**: Batch size per chip > 400 (optimal combination)\n",
        "\n",
        "**Key Insight**: The choice of parallelism strategy depends on the interplay between:\n",
        "1. **Model size** (does it fit on one device?)\n",
        "2. **Batch size** (how much data per device?)\n",
        "3. **Hardware constraints** (memory, bandwidth, number of devices)\n",
        "\n",
        "For this tutorial's examples, we demonstrated the progression from simple data parallelism to more sophisticated FSDP approaches, showing how each strategy addresses different scaling challenges.\""
      ]
    },
    {
      "cell_type": "markdown",
      "metadata": {
        "id": "e9ww5ulWh3RA"
      },
      "source": [
        "## 5. Key Takeaways\n",
        "\n",
        "In this tutorial, we've explored different approaches to parallel training:\n",
        "\n",
        "1. **8-way Data Parallel with Plain JAX**\n",
        "   - Simple to implement using `jax.jit` and sharding specifications\n",
        "   - Model is replicated across all devices\n",
        "   - Data is sharded along the batch dimension\n",
        "   - Good speedup for compute-intensive workloads\n",
        "\n",
        "2. **Data Parallel with Flax NNX**\n",
        "   - Higher-level API makes implementation cleaner\n",
        "   - Same performance as plain JAX implementation\n",
        "   - Better for complex models with many components\n",
        "\n",
        "3. **Fully Sharded Data Parallel (FSDP) with Flax NNX**\n",
        "   - Shards both model parameters and data\n",
        "   - Uses a 2D mesh (data × model axes)\n",
        "   - Essential for large models that don't fit on single device\n",
        "   - More complex but enables training of massive models\n",
        "\n",
        "### When to Use Each Approach:\n",
        "\n",
        "- **Data Parallel**: When your model fits on a single device and you want to scale training speed\n",
        "- **FSDP**: When your model is too large for a single device or you need maximum memory efficiency\n",
        "\n",
        "### References:\n",
        "- Example implementations: `jax_data_parallel.py` and `flax_nnx_dp_fsdp.py` in the root directory\n",
        "- JAX documentation on [distributed arrays and automatic parallelization](https://jax.readthedocs.io/en/latest/jax-101/08-pjit.html)\n",
        "- Flax NNX documentation on [distributed training](https://flax.readthedocs.io/en/latest/nnx/index.html)"
      ]
    }
  ],
  "metadata": {
    "kernelspec": {
      "display_name": "Python 3",
      "name": "python3"
    },
    "language_info": {
      "codemirror_mode": {
        "name": "ipython",
        "version": 3
      },
      "file_extension": ".py",
      "mimetype": "text/x-python",
      "name": "python",
      "nbconvert_exporter": "python",
      "pygments_lexer": "ipython3",
      "version": "3.8.0"
    },
    "colab": {
      "provenance": [],
      "gpuType": "V28"
    },
    "accelerator": "TPU"
  },
  "nbformat": 4,
  "nbformat_minor": 0
}