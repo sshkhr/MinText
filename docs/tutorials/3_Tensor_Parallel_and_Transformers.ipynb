{
  "cells": [
    {
      "cell_type": "markdown",
      "id": "17be077e",
      "metadata": {
        "id": "17be077e"
      },
      "source": [
        "# Tutorial 3: Tensor Parallel and Transformers Scaling\n",
        "\n",
        "[![Open in GitHub](https://img.shields.io/badge/Open%20in-GitHub-181717?style=flat-square&logo=github)](https://github.com/sshkhr/MinText/blob/main/docs/tutorials/3_Tensor_Parallel_and_Transformers.ipynb)\n",
        "[![Open in Colab](https://colab.research.google.com/assets/colab-badge.svg)](https://colab.research.google.com/github/sshkhr/MinText/blob/main/docs/tutorials/3_Tensor_Parallel_and_Transformers.ipynb)"
      ]
    },
    {
      "cell_type": "markdown",
      "id": "47d7d9d3",
      "metadata": {
        "id": "47d7d9d3"
      },
      "source": [
        "In the previous tutorial, we learned about data parallelism and how to use it to shard data batches across devices. We also learned about Fully Sharded Data Parallel (FSDP) and how it can be used to shard model parameters, gradients and optimizer states across devices. In this part, we will cover tensor parallelism and how it can be used to shard model layers across devices. We will also learn how to use the different parallelism techniques together to scale up training of large transformer models."
      ]
    },
    {
      "cell_type": "markdown",
      "id": "992ec8d3",
      "metadata": {
        "id": "992ec8d3"
      },
      "source": [
        "### 0.1 Setup\n",
        "\n",
        "Let's start by importing the necessary libraries and initializing our environment."
      ]
    },
    {
      "cell_type": "code",
      "source": [
        "# we need to install tensorboard plugin to perform profiling later in the notebook\n",
        "try:\n",
        "  import tensorboard\n",
        "  import xprof\n",
        "except:\n",
        "  !pip install xprof tensorboard tensorboard-plugin-profile"
      ],
      "metadata": {
        "collapsed": true,
        "id": "-A82jKGBTuBv"
      },
      "id": "-A82jKGBTuBv",
      "execution_count": 1,
      "outputs": []
    },
    {
      "cell_type": "code",
      "execution_count": 2,
      "id": "bd37fc51",
      "metadata": {
        "id": "bd37fc51"
      },
      "outputs": [],
      "source": [
        "import os\n",
        "# Force JAX to see 8 devices for this tutorial (only use if not using TPU runtime)\n",
        "#os.environ['XLA_FLAGS'] = '--xla_force_host_platform_device_count=8'\n",
        "\n",
        "import jax\n",
        "import jax.numpy as jnp\n",
        "from jax.sharding import Mesh, PartitionSpec as P, NamedSharding\n",
        "from jax.experimental import mesh_utils\n",
        "from flax import nnx\n",
        "import numpy as np\n",
        "import matplotlib.pyplot as plt\n",
        "import time\n",
        "from functools import partial\n",
        "import dataclasses\n",
        "\n",
        "import optax"
      ]
    },
    {
      "cell_type": "code",
      "execution_count": 3,
      "id": "ea947ba6",
      "metadata": {
        "id": "ea947ba6",
        "outputId": "ece2e4d0-dc96-47d9-f873-402752584f2e",
        "colab": {
          "base_uri": "https://localhost:8080/"
        }
      },
      "outputs": [
        {
          "output_type": "stream",
          "name": "stdout",
          "text": [
            "JAX version: 0.5.2\n",
            "Available devices: [TpuDevice(id=0, process_index=0, coords=(0,0,0), core_on_chip=0), TpuDevice(id=1, process_index=0, coords=(0,0,0), core_on_chip=1), TpuDevice(id=2, process_index=0, coords=(1,0,0), core_on_chip=0), TpuDevice(id=3, process_index=0, coords=(1,0,0), core_on_chip=1)]...\n",
            "Number of devices: 8\n"
          ]
        }
      ],
      "source": [
        "# Check available devices\n",
        "print(f\"JAX version: {jax.__version__}\")\n",
        "print(f\"Available devices: {jax.devices()[:4]}...\")\n",
        "print(f\"Number of devices: {jax.device_count()}\")"
      ]
    },
    {
      "cell_type": "code",
      "source": [
        "# Requirements for Language Modelling\n",
        "!pip install -Uq tiktoken grain matplotlib"
      ],
      "metadata": {
        "id": "nm_GcLiSWxbx",
        "outputId": "d27e899a-83be-496e-b144-f6f719df0259",
        "colab": {
          "base_uri": "https://localhost:8080/"
        }
      },
      "id": "nm_GcLiSWxbx",
      "execution_count": 14,
      "outputs": [
        {
          "output_type": "stream",
          "name": "stdout",
          "text": [
            "\u001b[?25l   \u001b[90m━━━━━━━━━━━━━━━━━━━━━━━━━━━━━━━━━━━━━━━━\u001b[0m \u001b[32m0.0/1.2 MB\u001b[0m \u001b[31m?\u001b[0m eta \u001b[36m-:--:--\u001b[0m\r\u001b[2K   \u001b[91m━━━━━━━━━━━━━━━━━━━━━━━━━━━━━━━━━━━━\u001b[0m\u001b[90m╺\u001b[0m\u001b[90m━━━\u001b[0m \u001b[32m1.1/1.2 MB\u001b[0m \u001b[31m32.4 MB/s\u001b[0m eta \u001b[36m0:00:01\u001b[0m\r\u001b[2K   \u001b[90m━━━━━━━━━━━━━━━━━━━━━━━━━━━━━━━━━━━━━━━━\u001b[0m \u001b[32m1.2/1.2 MB\u001b[0m \u001b[31m20.5 MB/s\u001b[0m eta \u001b[36m0:00:00\u001b[0m\n",
            "\u001b[2K   \u001b[90m━━━━━━━━━━━━━━━━━━━━━━━━━━━━━━━━━━━━━━━━\u001b[0m \u001b[32m485.5/485.5 kB\u001b[0m \u001b[31m26.9 MB/s\u001b[0m eta \u001b[36m0:00:00\u001b[0m\n",
            "\u001b[2K   \u001b[90m━━━━━━━━━━━━━━━━━━━━━━━━━━━━━━━━━━━━━━━━\u001b[0m \u001b[32m8.6/8.6 MB\u001b[0m \u001b[31m78.7 MB/s\u001b[0m eta \u001b[36m0:00:00\u001b[0m\n",
            "\u001b[2K   \u001b[90m━━━━━━━━━━━━━━━━━━━━━━━━━━━━━━━━━━━━━━━━\u001b[0m \u001b[32m65.3/65.3 kB\u001b[0m \u001b[31m4.0 MB/s\u001b[0m eta \u001b[36m0:00:00\u001b[0m\n",
            "\u001b[?25h"
          ]
        }
      ]
    },
    {
      "cell_type": "markdown",
      "id": "425d3061",
      "metadata": {
        "id": "425d3061"
      },
      "source": [
        "## 1. Tensor Parallelism\n",
        "\n",
        "While fully-sharded data parallelism distributes model weights across different devices during the AllReduce operation, tensor parallelism takes a different approach. Also known as \"1D model parallelism\" or Megatron sharding, this technique shards the feedforward dimensions of individual model layers and distributes activations between devices during computation. This method enables smaller effective batch sizes per device, making it particularly useful for training very large models. The diagram below illustrates how a single matrix is partitioned across devices using this approach:"
      ]
    },
    {
      "cell_type": "markdown",
      "id": "7c76edab",
      "metadata": {
        "id": "7c76edab"
      },
      "source": [
        "### 1.1 Tensor Parallelism Theory\n",
        "\n",
        "**Sharding**: Model layer activations are sharded along tenso axes across devices, model parameters are replicated on each device.\n",
        "\n",
        "**Equation** (for our MLP example):\n",
        "$$\\text{In}[B, D_Y] \\cdot_D W_\\text{in}[D, F_Y] \\cdot_F W_\\text{out}[F_Y, D] \\rightarrow \\text{Out}[B, D_Y]$$\n",
        "\n",
        "where $F_Y$ indicates the activations are sharded across $Y$ devices."
      ]
    },
    {
      "cell_type": "markdown",
      "id": "01006675",
      "metadata": {
        "id": "01006675"
      },
      "source": [
        "![Tensor Parallel](https://jax-ml.github.io/scaling-book/assets/img/model-parallelism-1400.webp)"
      ]
    },
    {
      "cell_type": "markdown",
      "id": "2f540e70",
      "metadata": {
        "id": "2f540e70"
      },
      "source": [
        "<sup> Image Source: [How To Scale Your Model](https://jax-ml.github.io/scaling-book) </sup>"
      ]
    },
    {
      "cell_type": "markdown",
      "id": "6a24d684",
      "metadata": {
        "id": "6a24d684"
      },
      "source": [
        "### 1.2 Tensor Parallelism Algorithm\n",
        "\n",
        "The computation pattern In[B, D_Y] * W_in[D, F_Y] * W_out[F_Y, D] → Out[B, D_Y] requires gathering activations prior to the initial matrix multiplication. This approach becomes more efficient than ZeRO sharding when activation sizes are smaller than weight sizes. However, this efficiency typically emerges only when combined with some degree of ZeRO sharding, which reduces the gather operation's overhead. This synergy explains why ZeRO sharding and model parallelism are commonly used together in practice.\n",
        "\n",
        "**Forward pass:** need to compute Loss[B]\n",
        "\n",
        "1.  In[B, D] = **AllGather**(In[B, D<sub>Y</sub>]) *(on critical path)*\n",
        "2.  Tmp[B, F<sub>Y</sub>] = In[B, D] \\*<sub>D</sub> W<sub>in</sub>[D, F<sub>Y</sub>] *(not sharded along contracting, so no comms)*\n",
        "3.  Out[B, D] {U<sub>Y</sub>} = Tmp[B, F<sub>Y</sub>] \\*<sub>F</sub> W<sub>out</sub>[F<sub>Y</sub>, D]\n",
        "4.  Out[B, D<sub>Y</sub>] = **ReduceScatter**(Out[B, D] {U<sub>Y</sub>}) *(on critical path)*\n",
        "5.  Loss[B] = ...\n",
        "\n",
        "**Backward pass:** need to compute dW<sub>out</sub>[F<sub>Y</sub>, D], dW<sub>in</sub>[D, F<sub>Y</sub>]\n",
        "\n",
        "1.  dOut[B, D<sub>Y</sub>] = ...\n",
        "2.  dOut[B, D] = **AllGather**(dOut[B, D<sub>Y</sub>]) *(on critical path)*\n",
        "3.  dW<sub>out</sub>[F<sub>Y</sub>, D] = Tmp[B, F<sub>Y</sub>] \\*<sub>B</sub> dOut[B, D]\n",
        "4.  dTmp[B, F<sub>Y</sub>] = dOut[B, D] \\*<sub>D</sub> W<sub>out</sub>[F<sub>Y</sub>, D] *(can throw away dOut[B, D] here)*\n",
        "5.  In[B, D] = **AllGather**(In[B, D<sub>Y</sub>]) *(this can be skipped by sharing with (1) from the forward pass)*\n",
        "6.  dW<sub>in</sub>[D, F<sub>Y</sub>] = dTmp[B, F<sub>Y</sub>] \\*<sub>B</sub> In[B, D]\n",
        "7.  dIn[B, D] {U.Y} = dTmp[B, F<sub>Y</sub>] \\*<sub>F</sub> W<sub>in</sub>[D, F<sub>Y</sub>] *(needed for previous layers)*\n",
        "8.  dIn[B, D<sub>Y</sub>] = **ReduceScatter**(dIn[B, D] {U.Y}) *(on critical path)*\n",
        "\n",
        "A key advantage of the two matrix operations in our MLP forward pass is that tensor parallelism integrates nicely with this setup. Without this optimization, we would need to perform an AllReduce operation after each matrix multiplication. However, the sequential computation In[B, D_Y] * W_in[D, F_Y] → Tmp[B, F_Y] followed by Tmp[B, F_Y] * W_out[F_Y, D] → Out[B, D_Y] allows us to perform a single AllGather on the input at the start and a single ReduceScatter on the output at the end, eliminating the need for intermediate AllReduce operations."
      ]
    },
    {
      "cell_type": "markdown",
      "id": "5334a065",
      "metadata": {
        "id": "5334a065"
      },
      "source": [
        "## 2. Combining Parallelism Techniques\n",
        "\n",
        "In this section, we will combine data parallelism, FSDP, and tensor parallelism to implemnt distributed training of a simple MLP model.\n"
      ]
    },
    {
      "cell_type": "markdown",
      "id": "60a857dc",
      "metadata": {
        "id": "60a857dc"
      },
      "source": [
        "### 2.1 Mesh Definition"
      ]
    },
    {
      "cell_type": "code",
      "execution_count": 4,
      "id": "45ed2560",
      "metadata": {
        "id": "45ed2560"
      },
      "outputs": [],
      "source": [
        "# Assign logical names 'data' and 'model' to the axes of this grid.\n",
        "# The first dimension (size 2) is named 'data'.\n",
        "# The second dimension (size 4) is named 'model'.\n",
        "mesh = jax.sharding.Mesh(\n",
        "  mesh_utils.create_device_mesh((2, 4)),\n",
        "  ('data', 'model'),\n",
        ")"
      ]
    },
    {
      "cell_type": "markdown",
      "id": "9ce31aa1",
      "metadata": {
        "id": "9ce31aa1"
      },
      "source": [
        "### 2.2 Sharding Helper Functions"
      ]
    },
    {
      "cell_type": "code",
      "execution_count": 5,
      "id": "5d266bc6",
      "metadata": {
        "id": "5d266bc6"
      },
      "outputs": [],
      "source": [
        "# A helper function to quickly create a NamedSharding object\n",
        "# using the globally defined 'mesh'.\n",
        "def named_sharding(*names: str | None) -> NamedSharding:\n",
        "  # P(*names) creates a PartitionSpec, e.g., P('data', None)\n",
        "  # NamedSharding binds this PartitionSpec to the 'mesh'.\n",
        "  return NamedSharding(mesh, P(*names))\n",
        "\n",
        "\n",
        "# A dataclass to hold sharding rules for different parts of the model/data.\n",
        "# Makes it easy to manage and change sharding strategies.\n",
        "@dataclasses.dataclass(unsafe_hash=True)\n",
        "class MeshRules:\n",
        "  embed: str | None = None # Sharding rule for embedding-like dimensions\n",
        "  mlp: str | None = None   # Sharding rule for MLP layers dimensions\n",
        "  data: str | None = None  # Sharding rule for the data batch dimension\n",
        "\n",
        "  # Allows calling the instance like `mesh_rules('embed', 'mlp')`\n",
        "  # to get a tuple of the corresponding sharding rules.\n",
        "  def __call__(self, *keys: str) -> tuple[str, ...]:\n",
        "    return tuple(getattr(self, key) for key in keys)\n",
        "\n",
        "# Create an instance of MeshRules defining the specific strategy:\n",
        "# - 'embed' dimensions will be replicated (None).\n",
        "# - 'mlp' dimensions will be sharded along the 'model' mesh axis.\n",
        "# - 'data' dimensions will be sharded along the 'data' mesh axis.\n",
        "mesh_rules = MeshRules(\n",
        "  embed=None,\n",
        "  mlp='model',\n",
        "  data='data',\n",
        ")"
      ]
    },
    {
      "cell_type": "markdown",
      "id": "8f6e98b3",
      "metadata": {
        "id": "8f6e98b3"
      },
      "source": [
        "### 2.3 Define The Sharded Model"
      ]
    },
    {
      "cell_type": "code",
      "execution_count": 6,
      "id": "31970b77",
      "metadata": {
        "id": "31970b77"
      },
      "outputs": [],
      "source": [
        "# Define the MLP using Flax NNX API.\n",
        "class MLP(nnx.Module):\n",
        "  def __init__(self, din, dmid, dout, rngs: nnx.Rngs):\n",
        "    self.w1 = nnx.Param(\n",
        "      nnx.initializers.lecun_normal()(rngs.params(), (din, dmid)),\n",
        "      # ('embed', 'mlp') -> (None, 'model') -> Replicate dim 0, shard dim 1 along 'model' axis.\n",
        "      sharding=mesh_rules('embed', 'mlp'),\n",
        "    )\n",
        "    self.b1 = nnx.Param(\n",
        "      jnp.zeros((dmid,)),\n",
        "      # Sharding: ('mlp',) -> ('model',) -> Shard dim 0 along 'model' axis.\n",
        "      sharding=mesh_rules('mlp'),\n",
        "    )\n",
        "    self.w2 = nnx.Param(\n",
        "      nnx.initializers.lecun_normal()(rngs.params(), (dmid, dout)),\n",
        "       # Sharding: ('embed', 'mlp') -> (None, 'model') -> Replicate dim 0, shard dim 1 along 'model' axis.\n",
        "      sharding=mesh_rules('embed', 'mlp'),\n",
        "    )\n",
        "\n",
        "  def __call__(self, x: jax.Array):\n",
        "    return nnx.relu(x @ self.w1 + self.b1) @ self.w2\n"
      ]
    },
    {
      "cell_type": "markdown",
      "id": "06d184b8",
      "metadata": {
        "id": "06d184b8"
      },
      "source": [
        "### 2.4 Handling Sharded Optimizer State"
      ]
    },
    {
      "cell_type": "code",
      "execution_count": 7,
      "id": "1d9f4258",
      "metadata": {
        "id": "1d9f4258"
      },
      "outputs": [],
      "source": [
        "# Define a custom type for SGD momentum state, inheriting from nnx.Variable.\n",
        "# This allows it to be tracked as part of the NNX state tree.\n",
        "class SGDState(nnx.Variable):\n",
        "  pass\n",
        "\n",
        "# Define the SGD optimizer using NNX API.\n",
        "class SGD(nnx.Object):\n",
        "  # Constructor takes the model parameters (as nnx.State), learning rate, and decay.\n",
        "  def __init__(self, params: nnx.State, lr, decay=0.9):\n",
        "    # Helper function to initialize momentum buffer for a given parameter.\n",
        "    def init_optimizer_state(variable: nnx.Variable):\n",
        "      # Create momentum state with zeros, same shape and metadata (incl. sharding)\n",
        "      # as the parameter it corresponds to.\n",
        "      return SGDState(\n",
        "        jnp.zeros_like(variable.value), **variable.get_metadata()\n",
        "      )\n",
        "\n",
        "    self.lr = lr\n",
        "    # Store a reference to the parameter State tree.\n",
        "    self.params = params\n",
        "    # Create the momentum state tree, mirroring the structure of 'params',\n",
        "    # using the helper function. Momentum will have the same sharding as params.\n",
        "    self.momentum = jax.tree.map(init_optimizer_state, self.params)\n",
        "    self.decay = decay\n",
        "\n",
        "  # Method to update parameters based on gradients.\n",
        "  def update(self, grads: nnx.State):\n",
        "    # Define the update logic for a single parameter/momentum/gradient triple.\n",
        "    def update_fn(\n",
        "      params: nnx.Variable, momentum: SGDState, grad: nnx.VariableState\n",
        "    ):\n",
        "      # Standard SGD with momentum update rule.\n",
        "      # v_t = β * v_{t-1} + (1 - β) * ∇J(θ_t)\n",
        "      momentum.value = self.decay * momentum.value + (1 - self.decay) * grad.value\n",
        "      # θ_{t+1} = θ_t - α * v_t\n",
        "      params.value -= self.lr * momentum.value # NOTE: Direct mutation of param value!\n",
        "\n",
        "    # Apply the update function across the parameter, momentum, and gradient trees.\n",
        "    # This performs the update in-place on the parameter values referenced by self.params.\n",
        "    jax.tree.map(update_fn, self.params, self.momentum, grads)\n"
      ]
    },
    {
      "cell_type": "markdown",
      "id": "850d7981",
      "metadata": {
        "id": "850d7981"
      },
      "source": [
        "### 2.5 Applying Sharding to the Model and Optimizer"
      ]
    },
    {
      "cell_type": "code",
      "execution_count": 8,
      "id": "3f54c41e",
      "metadata": {
        "id": "3f54c41e",
        "outputId": "2a518f32-02d4-4bdb-f736-2a8c02f19663",
        "colab": {
          "base_uri": "https://localhost:8080/",
          "height": 347
        }
      },
      "outputs": [
        {
          "output_type": "display_data",
          "data": {
            "text/plain": [
              "\u001b[38;2;255;255;255;48;2;57;59;121m                    \u001b[0m\u001b[38;2;255;255;255;48;2;222;158;214m                    \u001b[0m\u001b[38;2;255;255;255;48;2;173;73;74m                    \u001b[0m\u001b[38;2;0;0;0;48;2;181;207;107m                    \u001b[0m\n",
              "\u001b[38;2;255;255;255;48;2;57;59;121m                    \u001b[0m\u001b[38;2;255;255;255;48;2;222;158;214m                    \u001b[0m\u001b[38;2;255;255;255;48;2;173;73;74m                    \u001b[0m\u001b[38;2;0;0;0;48;2;181;207;107m                    \u001b[0m\n",
              "\u001b[38;2;255;255;255;48;2;57;59;121m                    \u001b[0m\u001b[38;2;255;255;255;48;2;222;158;214m                    \u001b[0m\u001b[38;2;255;255;255;48;2;173;73;74m                    \u001b[0m\u001b[38;2;0;0;0;48;2;181;207;107m                    \u001b[0m\n",
              "\u001b[38;2;255;255;255;48;2;57;59;121m                    \u001b[0m\u001b[38;2;255;255;255;48;2;222;158;214m                    \u001b[0m\u001b[38;2;255;255;255;48;2;173;73;74m                    \u001b[0m\u001b[38;2;0;0;0;48;2;181;207;107m                    \u001b[0m\n",
              "\u001b[38;2;255;255;255;48;2;57;59;121m                    \u001b[0m\u001b[38;2;255;255;255;48;2;222;158;214m                    \u001b[0m\u001b[38;2;255;255;255;48;2;173;73;74m                    \u001b[0m\u001b[38;2;0;0;0;48;2;181;207;107m                    \u001b[0m\n",
              "\u001b[38;2;255;255;255;48;2;57;59;121m                    \u001b[0m\u001b[38;2;255;255;255;48;2;222;158;214m                    \u001b[0m\u001b[38;2;255;255;255;48;2;173;73;74m                    \u001b[0m\u001b[38;2;0;0;0;48;2;181;207;107m                    \u001b[0m\n",
              "\u001b[38;2;255;255;255;48;2;57;59;121m                    \u001b[0m\u001b[38;2;255;255;255;48;2;222;158;214m                    \u001b[0m\u001b[38;2;255;255;255;48;2;173;73;74m                    \u001b[0m\u001b[38;2;0;0;0;48;2;181;207;107m                    \u001b[0m\n",
              "\u001b[38;2;255;255;255;48;2;57;59;121m                    \u001b[0m\u001b[38;2;255;255;255;48;2;222;158;214m                    \u001b[0m\u001b[38;2;255;255;255;48;2;173;73;74m                    \u001b[0m\u001b[38;2;0;0;0;48;2;181;207;107m                    \u001b[0m\n",
              "\u001b[38;2;255;255;255;48;2;57;59;121m                    \u001b[0m\u001b[38;2;255;255;255;48;2;222;158;214m                    \u001b[0m\u001b[38;2;255;255;255;48;2;173;73;74m                    \u001b[0m\u001b[38;2;0;0;0;48;2;181;207;107m                    \u001b[0m\n",
              "\u001b[38;2;255;255;255;48;2;57;59;121m                    \u001b[0m\u001b[38;2;255;255;255;48;2;222;158;214m                    \u001b[0m\u001b[38;2;255;255;255;48;2;173;73;74m                    \u001b[0m\u001b[38;2;0;0;0;48;2;181;207;107m                    \u001b[0m\n"
            ],
            "text/html": [
              "<pre style=\"white-space:pre;overflow-x:auto;line-height:normal;font-family:Menlo,'DejaVu Sans Mono',consolas,'Courier New',monospace\"><span style=\"color: #ffffff; text-decoration-color: #ffffff; background-color: #393b79\">                    </span><span style=\"color: #ffffff; text-decoration-color: #ffffff; background-color: #de9ed6\">                    </span><span style=\"color: #ffffff; text-decoration-color: #ffffff; background-color: #ad494a\">                    </span><span style=\"color: #000000; text-decoration-color: #000000; background-color: #b5cf6b\">                    </span>\n",
              "<span style=\"color: #ffffff; text-decoration-color: #ffffff; background-color: #393b79\">                    </span><span style=\"color: #ffffff; text-decoration-color: #ffffff; background-color: #de9ed6\">                    </span><span style=\"color: #ffffff; text-decoration-color: #ffffff; background-color: #ad494a\">                    </span><span style=\"color: #000000; text-decoration-color: #000000; background-color: #b5cf6b\">                    </span>\n",
              "<span style=\"color: #ffffff; text-decoration-color: #ffffff; background-color: #393b79\">                    </span><span style=\"color: #ffffff; text-decoration-color: #ffffff; background-color: #de9ed6\">                    </span><span style=\"color: #ffffff; text-decoration-color: #ffffff; background-color: #ad494a\">                    </span><span style=\"color: #000000; text-decoration-color: #000000; background-color: #b5cf6b\">                    </span>\n",
              "<span style=\"color: #ffffff; text-decoration-color: #ffffff; background-color: #393b79\">                    </span><span style=\"color: #ffffff; text-decoration-color: #ffffff; background-color: #de9ed6\">                    </span><span style=\"color: #ffffff; text-decoration-color: #ffffff; background-color: #ad494a\">                    </span><span style=\"color: #000000; text-decoration-color: #000000; background-color: #b5cf6b\">                    </span>\n",
              "<span style=\"color: #ffffff; text-decoration-color: #ffffff; background-color: #393b79\">                    </span><span style=\"color: #ffffff; text-decoration-color: #ffffff; background-color: #de9ed6\">                    </span><span style=\"color: #ffffff; text-decoration-color: #ffffff; background-color: #ad494a\">                    </span><span style=\"color: #000000; text-decoration-color: #000000; background-color: #b5cf6b\">                    </span>\n",
              "<span style=\"color: #ffffff; text-decoration-color: #ffffff; background-color: #393b79\">                    </span><span style=\"color: #ffffff; text-decoration-color: #ffffff; background-color: #de9ed6\">                    </span><span style=\"color: #ffffff; text-decoration-color: #ffffff; background-color: #ad494a\">                    </span><span style=\"color: #000000; text-decoration-color: #000000; background-color: #b5cf6b\">                    </span>\n",
              "<span style=\"color: #ffffff; text-decoration-color: #ffffff; background-color: #393b79\">                    </span><span style=\"color: #ffffff; text-decoration-color: #ffffff; background-color: #de9ed6\">                    </span><span style=\"color: #ffffff; text-decoration-color: #ffffff; background-color: #ad494a\">                    </span><span style=\"color: #000000; text-decoration-color: #000000; background-color: #b5cf6b\">                    </span>\n",
              "<span style=\"color: #ffffff; text-decoration-color: #ffffff; background-color: #393b79\">                    </span><span style=\"color: #ffffff; text-decoration-color: #ffffff; background-color: #de9ed6\">                    </span><span style=\"color: #ffffff; text-decoration-color: #ffffff; background-color: #ad494a\">                    </span><span style=\"color: #000000; text-decoration-color: #000000; background-color: #b5cf6b\">                    </span>\n",
              "<span style=\"color: #ffffff; text-decoration-color: #ffffff; background-color: #393b79\">                    </span><span style=\"color: #ffffff; text-decoration-color: #ffffff; background-color: #de9ed6\">                    </span><span style=\"color: #ffffff; text-decoration-color: #ffffff; background-color: #ad494a\">                    </span><span style=\"color: #000000; text-decoration-color: #000000; background-color: #b5cf6b\">                    </span>\n",
              "<span style=\"color: #ffffff; text-decoration-color: #ffffff; background-color: #393b79\">                    </span><span style=\"color: #ffffff; text-decoration-color: #ffffff; background-color: #de9ed6\">                    </span><span style=\"color: #ffffff; text-decoration-color: #ffffff; background-color: #ad494a\">                    </span><span style=\"color: #000000; text-decoration-color: #000000; background-color: #b5cf6b\">                    </span>\n",
              "</pre>\n"
            ]
          },
          "metadata": {}
        },
        {
          "output_type": "display_data",
          "data": {
            "text/plain": [
              "\u001b[38;2;255;255;255;48;2;57;59;121m                    \u001b[0m\u001b[38;2;255;255;255;48;2;222;158;214m                    \u001b[0m\u001b[38;2;255;255;255;48;2;173;73;74m                    \u001b[0m\u001b[38;2;0;0;0;48;2;181;207;107m                    \u001b[0m\n",
              "\u001b[38;2;255;255;255;48;2;57;59;121m                    \u001b[0m\u001b[38;2;255;255;255;48;2;222;158;214m                    \u001b[0m\u001b[38;2;255;255;255;48;2;173;73;74m                    \u001b[0m\u001b[38;2;0;0;0;48;2;181;207;107m                    \u001b[0m\n",
              "\u001b[38;2;255;255;255;48;2;57;59;121m                    \u001b[0m\u001b[38;2;255;255;255;48;2;222;158;214m                    \u001b[0m\u001b[38;2;255;255;255;48;2;173;73;74m                    \u001b[0m\u001b[38;2;0;0;0;48;2;181;207;107m                    \u001b[0m\n",
              "\u001b[38;2;255;255;255;48;2;57;59;121m                    \u001b[0m\u001b[38;2;255;255;255;48;2;222;158;214m                    \u001b[0m\u001b[38;2;255;255;255;48;2;173;73;74m                    \u001b[0m\u001b[38;2;0;0;0;48;2;181;207;107m                    \u001b[0m\n",
              "\u001b[38;2;255;255;255;48;2;57;59;121m                    \u001b[0m\u001b[38;2;255;255;255;48;2;222;158;214m                    \u001b[0m\u001b[38;2;255;255;255;48;2;173;73;74m                    \u001b[0m\u001b[38;2;0;0;0;48;2;181;207;107m                    \u001b[0m\n",
              "\u001b[38;2;255;255;255;48;2;57;59;121m                    \u001b[0m\u001b[38;2;255;255;255;48;2;222;158;214m                    \u001b[0m\u001b[38;2;255;255;255;48;2;173;73;74m                    \u001b[0m\u001b[38;2;0;0;0;48;2;181;207;107m                    \u001b[0m\n",
              "\u001b[38;2;255;255;255;48;2;57;59;121m                    \u001b[0m\u001b[38;2;255;255;255;48;2;222;158;214m                    \u001b[0m\u001b[38;2;255;255;255;48;2;173;73;74m                    \u001b[0m\u001b[38;2;0;0;0;48;2;181;207;107m                    \u001b[0m\n",
              "\u001b[38;2;255;255;255;48;2;57;59;121m                    \u001b[0m\u001b[38;2;255;255;255;48;2;222;158;214m                    \u001b[0m\u001b[38;2;255;255;255;48;2;173;73;74m                    \u001b[0m\u001b[38;2;0;0;0;48;2;181;207;107m                    \u001b[0m\n",
              "\u001b[38;2;255;255;255;48;2;57;59;121m                    \u001b[0m\u001b[38;2;255;255;255;48;2;222;158;214m                    \u001b[0m\u001b[38;2;255;255;255;48;2;173;73;74m                    \u001b[0m\u001b[38;2;0;0;0;48;2;181;207;107m                    \u001b[0m\n",
              "\u001b[38;2;255;255;255;48;2;57;59;121m                    \u001b[0m\u001b[38;2;255;255;255;48;2;222;158;214m                    \u001b[0m\u001b[38;2;255;255;255;48;2;173;73;74m                    \u001b[0m\u001b[38;2;0;0;0;48;2;181;207;107m                    \u001b[0m\n"
            ],
            "text/html": [
              "<pre style=\"white-space:pre;overflow-x:auto;line-height:normal;font-family:Menlo,'DejaVu Sans Mono',consolas,'Courier New',monospace\"><span style=\"color: #ffffff; text-decoration-color: #ffffff; background-color: #393b79\">                    </span><span style=\"color: #ffffff; text-decoration-color: #ffffff; background-color: #de9ed6\">                    </span><span style=\"color: #ffffff; text-decoration-color: #ffffff; background-color: #ad494a\">                    </span><span style=\"color: #000000; text-decoration-color: #000000; background-color: #b5cf6b\">                    </span>\n",
              "<span style=\"color: #ffffff; text-decoration-color: #ffffff; background-color: #393b79\">                    </span><span style=\"color: #ffffff; text-decoration-color: #ffffff; background-color: #de9ed6\">                    </span><span style=\"color: #ffffff; text-decoration-color: #ffffff; background-color: #ad494a\">                    </span><span style=\"color: #000000; text-decoration-color: #000000; background-color: #b5cf6b\">                    </span>\n",
              "<span style=\"color: #ffffff; text-decoration-color: #ffffff; background-color: #393b79\">                    </span><span style=\"color: #ffffff; text-decoration-color: #ffffff; background-color: #de9ed6\">                    </span><span style=\"color: #ffffff; text-decoration-color: #ffffff; background-color: #ad494a\">                    </span><span style=\"color: #000000; text-decoration-color: #000000; background-color: #b5cf6b\">                    </span>\n",
              "<span style=\"color: #ffffff; text-decoration-color: #ffffff; background-color: #393b79\">                    </span><span style=\"color: #ffffff; text-decoration-color: #ffffff; background-color: #de9ed6\">                    </span><span style=\"color: #ffffff; text-decoration-color: #ffffff; background-color: #ad494a\">                    </span><span style=\"color: #000000; text-decoration-color: #000000; background-color: #b5cf6b\">                    </span>\n",
              "<span style=\"color: #ffffff; text-decoration-color: #ffffff; background-color: #393b79\">                    </span><span style=\"color: #ffffff; text-decoration-color: #ffffff; background-color: #de9ed6\">                    </span><span style=\"color: #ffffff; text-decoration-color: #ffffff; background-color: #ad494a\">                    </span><span style=\"color: #000000; text-decoration-color: #000000; background-color: #b5cf6b\">                    </span>\n",
              "<span style=\"color: #ffffff; text-decoration-color: #ffffff; background-color: #393b79\">                    </span><span style=\"color: #ffffff; text-decoration-color: #ffffff; background-color: #de9ed6\">                    </span><span style=\"color: #ffffff; text-decoration-color: #ffffff; background-color: #ad494a\">                    </span><span style=\"color: #000000; text-decoration-color: #000000; background-color: #b5cf6b\">                    </span>\n",
              "<span style=\"color: #ffffff; text-decoration-color: #ffffff; background-color: #393b79\">                    </span><span style=\"color: #ffffff; text-decoration-color: #ffffff; background-color: #de9ed6\">                    </span><span style=\"color: #ffffff; text-decoration-color: #ffffff; background-color: #ad494a\">                    </span><span style=\"color: #000000; text-decoration-color: #000000; background-color: #b5cf6b\">                    </span>\n",
              "<span style=\"color: #ffffff; text-decoration-color: #ffffff; background-color: #393b79\">                    </span><span style=\"color: #ffffff; text-decoration-color: #ffffff; background-color: #de9ed6\">                    </span><span style=\"color: #ffffff; text-decoration-color: #ffffff; background-color: #ad494a\">                    </span><span style=\"color: #000000; text-decoration-color: #000000; background-color: #b5cf6b\">                    </span>\n",
              "<span style=\"color: #ffffff; text-decoration-color: #ffffff; background-color: #393b79\">                    </span><span style=\"color: #ffffff; text-decoration-color: #ffffff; background-color: #de9ed6\">                    </span><span style=\"color: #ffffff; text-decoration-color: #ffffff; background-color: #ad494a\">                    </span><span style=\"color: #000000; text-decoration-color: #000000; background-color: #b5cf6b\">                    </span>\n",
              "<span style=\"color: #ffffff; text-decoration-color: #ffffff; background-color: #393b79\">                    </span><span style=\"color: #ffffff; text-decoration-color: #ffffff; background-color: #de9ed6\">                    </span><span style=\"color: #ffffff; text-decoration-color: #ffffff; background-color: #ad494a\">                    </span><span style=\"color: #000000; text-decoration-color: #000000; background-color: #b5cf6b\">                    </span>\n",
              "</pre>\n"
            ]
          },
          "metadata": {}
        }
      ],
      "source": [
        "# JIT-compile the model and optimizer creation function.\n",
        "@nnx.jit\n",
        "def create_model():\n",
        "  # Instantiate the MLP model. rngs=nnx.Rngs(0) provides PRNG keys.\n",
        "  model = MLP(1, 32, 1, rngs=nnx.Rngs(0))\n",
        "  # Create the optimizer. nnx.variables(model, nnx.Param) extracts\n",
        "  # only the nnx.Param state variables from the model object.\n",
        "  optimizer = SGD(nnx.variables(model, nnx.Param), 0.01, decay=0.9)\n",
        "\n",
        "  # === Explicit Sharding Application ===\n",
        "  # 1. Extract ALL state (model params + optimizer momentum) into a flat State pytree.\n",
        "  state = nnx.state(optimizer)\n",
        "\n",
        "  # 2. Define the target sharding for the state pytree.\n",
        "  # This function maps state paths to NamedSharding objects based on stored metadata.\n",
        "  def get_named_shardings(path: tuple, value: nnx.VariableState):\n",
        "    # Assumes params and momentum use the sharding defined in their metadata.\n",
        "    if path[0] in ('params', 'momentum'):\n",
        "      # value.sharding contains the tuple like ('model',) or (None, 'model')\n",
        "      # stored during Param/SGDState creation.\n",
        "      return value.replace(NamedSharding(mesh, P(*value.sharding)))\n",
        "    else:\n",
        "      # Handle other state if necessary (e.g., learning rate if it were a Variable)\n",
        "      raise ValueError(f'Unknown path: {path}')\n",
        "  # Create the pytree of NamedSharding objects.\n",
        "  named_shardings = state.map(get_named_shardings)\n",
        "\n",
        "  # 3. Apply sharding constraint. This tells JAX how the 'state' pytree\n",
        "  # SHOULD be sharded when computations involving it are run under jit/pjit.\n",
        "  # It doesn't immediately move data but sets up the constraint for the compiler.\n",
        "  sharded_state = jax.lax.with_sharding_constraint(state, named_shardings)\n",
        "\n",
        "  # 4. Update the original objects (model params, optimizer momentum)\n",
        "  # with the constrained state values. This step makes the sharding\n",
        "  # \"stick\" to the objects themselves for subsequent use outside this function.\n",
        "  nnx.update(optimizer, sharded_state)\n",
        "\n",
        "  # Return the model and optimizer objects, now containing sharded state variables.\n",
        "  return model, optimizer\n",
        "\n",
        "# Call the function to create the sharded model and optimizer.\n",
        "model, optimizer = create_model()\n",
        "\n",
        "# Visualize the sharding of the first weight's parameter tensor.\n",
        "jax.debug.visualize_array_sharding(model.w1.value)\n",
        "# Visualize the sharding of the first weight's momentum tensor.\n",
        "jax.debug.visualize_array_sharding(optimizer.momentum.w1.value)\n"
      ]
    },
    {
      "cell_type": "markdown",
      "id": "0bcf251c",
      "metadata": {
        "id": "0bcf251c"
      },
      "source": [
        "### 2.6 Distributed Training"
      ]
    },
    {
      "cell_type": "code",
      "execution_count": 9,
      "id": "ca7002f6",
      "metadata": {
        "id": "ca7002f6"
      },
      "outputs": [],
      "source": [
        "# JIT-compile the training step function.\n",
        "@nnx.jit\n",
        "def train_step(model: MLP, optimizer: SGD, x, y):\n",
        "  # Define the loss function (Mean Squared Error).\n",
        "  # Takes the model object as input, consistent with nnx.value_and_grad.\n",
        "  def loss_fn(model):\n",
        "    y_pred = model(x) # Forward pass\n",
        "    loss = jnp.mean((y - y_pred) ** 2)\n",
        "    return loss\n",
        "\n",
        "  # Calculate loss and gradients w.r.t the model's state (its nnx.Param variables).\n",
        "  # 'grad' will be an nnx.State object mirroring model's Param structure.\n",
        "  loss, grad = nnx.value_and_grad(loss_fn)(model)\n",
        "\n",
        "  # Call the optimizer's update method to apply gradients.\n",
        "  # This updates the model parameters in-place.\n",
        "  optimizer.update(grad)\n",
        "\n",
        "  # Return the calculated loss.\n",
        "  return loss\n"
      ]
    },
    {
      "cell_type": "markdown",
      "id": "7296dd13",
      "metadata": {
        "id": "7296dd13"
      },
      "source": [
        "### 2.7 Training Loop and Results"
      ]
    },
    {
      "cell_type": "code",
      "execution_count": 10,
      "id": "beed9e47",
      "metadata": {
        "id": "beed9e47",
        "outputId": "45747907-cfd6-4f01-a2e8-e20a61cd9397",
        "colab": {
          "base_uri": "https://localhost:8080/",
          "height": 1000
        }
      },
      "outputs": [
        {
          "output_type": "stream",
          "name": "stdout",
          "text": [
            "Step 0: Loss = 5.070016860961914\n",
            "Step 1000: Loss = 0.0671892985701561\n",
            "Step 2000: Loss = 0.05522308126091957\n",
            "Step 3000: Loss = 0.03650468587875366\n",
            "Step 4000: Loss = 0.023694172501564026\n",
            "Step 5000: Loss = 0.016318200156092644\n",
            "Step 6000: Loss = 0.01757686585187912\n",
            "Step 7000: Loss = 0.013932915404438972\n",
            "Step 8000: Loss = 0.01590278185904026\n",
            "Step 9000: Loss = 0.014049261808395386\n"
          ]
        },
        {
          "output_type": "display_data",
          "data": {
            "text/plain": [
              "<Figure size 640x480 with 1 Axes>"
            ],
            "image/png": "[encoded data removed]"
          },
          "metadata": {}
        },
        {
          "output_type": "display_data",
          "data": {
            "text/plain": [
              "<Figure size 640x480 with 1 Axes>"
            ],
            "image/png": "[encoded data removed]"
          },
          "metadata": {}
        }
      ],
      "source": [
        "# Generate synthetic dataset: y = 0.8*x^2 + 0.1 + noise\n",
        "X = np.linspace(-2, 2, 100)[:, None] # Input features\n",
        "Y = 0.8 * X**2 + 0.1 + np.random.normal(0, 0.1, size=X.shape) # Target values\n",
        "\n",
        "# A generator function to yield batches of data for training.\n",
        "def dataset(batch_size, num_steps):\n",
        "  for _ in range(num_steps):\n",
        "    # Randomly sample indices for the batch.\n",
        "    idx = np.random.choice(len(X), size=batch_size)\n",
        "    # Yield the corresponding input and target pairs.\n",
        "    yield X[idx], Y[idx]\n",
        "\n",
        "# --- Training Loop ---\n",
        "losses = [] # To store loss values for plotting\n",
        "# Iterate through the dataset generator for 10,000 steps.\n",
        "for step, (x_batch, y_batch) in enumerate(\n",
        "  dataset(batch_size=32, num_steps=10_000)\n",
        "):\n",
        "  # CRITICAL: Place the NumPy data onto JAX devices AND apply sharding.\n",
        "  # named_sharding('data') -> Shard along the 'data' mesh axis (first dim, size 2).\n",
        "  # Each device along the 'data' axis gets a slice of the batch.\n",
        "  x_batch, y_batch = jax.device_put((x_batch, y_batch), named_sharding('data'))\n",
        "\n",
        "  # Execute the JIT-compiled training step with the sharded model, optimizer, and data.\n",
        "  loss = train_step(model, optimizer, x_batch, y_batch)\n",
        "\n",
        "  # Record the loss (move scalar loss back to host CPU).\n",
        "  losses.append(float(loss))\n",
        "  # Log progress periodically.\n",
        "  if step % 1000 == 0:\n",
        "    print(f'Step {step}: Loss = {loss}')\n",
        "\n",
        "# --- Plotting Results ---\n",
        "plt.figure()\n",
        "plt.title(\"Training Loss\")\n",
        "plt.plot(losses[20:]) # Plot loss, skipping initial noisy steps\n",
        "plt.xlabel(\"Step\")\n",
        "plt.ylabel(\"MSE Loss\")\n",
        "\n",
        "# Get model predictions on the full dataset (X is on host CPU).\n",
        "# Model applies function executes potentially on device, result brought back implicitly.\n",
        "y_pred = model(X)\n",
        "plt.figure()\n",
        "plt.title(\"Model Fit\")\n",
        "plt.scatter(X, Y, color='blue', label='Data') # Original data\n",
        "plt.plot(X, y_pred, color='black', label='Prediction') # Model's predictions\n",
        "plt.xlabel(\"X\")\n",
        "plt.ylabel(\"Y\")\n",
        "plt.legend()\n",
        "plt.show() # Display the plots\n"
      ]
    },
    {
      "cell_type": "markdown",
      "id": "22cf842d",
      "metadata": {
        "id": "22cf842d"
      },
      "source": [
        "## 3. Profiling Parallel Training"
      ]
    },
    {
      "cell_type": "code",
      "source": [
        "def block_all(xs):\n",
        "  jax.tree_util.tree_map(lambda x: x.block_until_ready(), xs)\n",
        "  return xs\n",
        "\n",
        "with jax.profiler.trace(\"/tmp/jax-trace/\"):\n",
        "  with mesh:\n",
        "    for step, (x_batch, y_batch) in enumerate(\n",
        "      dataset(batch_size=32, num_steps=10)\n",
        "    ):\n",
        "      # CRITICAL: Place the NumPy data onto JAX devices AND apply sharding.\n",
        "      # named_sharding('data') -> Shard along the 'data' mesh axis (first dim, size 2).\n",
        "      # Each device along the 'data' axis gets a slice of the batch.\n",
        "      x_batch, y_batch = jax.device_put((x_batch, y_batch), named_sharding('data'))\n",
        "\n",
        "      # Execute the JIT-compiled training step with the sharded model, optimizer, and data.\n",
        "      new_state = block_all(train_step(model, optimizer, x_batch, y_batch))"
      ],
      "metadata": {
        "id": "phfUqaFzUC3K"
      },
      "id": "phfUqaFzUC3K",
      "execution_count": 12,
      "outputs": []
    },
    {
      "cell_type": "code",
      "source": [
        "%tensorboard --logdir=/tmp/jax-trace/"
      ],
      "metadata": {
        "id": "GUK-tzEDUvhm",
        "outputId": "22d48221-dd9d-48eb-c517-8943999ec6b0",
        "colab": {
          "base_uri": "https://localhost:8080/"
        }
      },
      "id": "GUK-tzEDUvhm",
      "execution_count": 13,
      "outputs": [
        {
          "output_type": "stream",
          "name": "stderr",
          "text": [
            "UsageError: Line magic function `%tensorboard` not found.\n"
          ]
        }
      ]
    },
    {
      "cell_type": "markdown",
      "id": "aa58e237",
      "metadata": {
        "id": "aa58e237"
      },
      "source": [
        "## 4. Transformer Scaling with Tensor Parallelism"
      ]
    },
    {
      "cell_type": "markdown",
      "id": "373419be",
      "metadata": {
        "id": "373419be"
      },
      "source": [
        "![Megatraon-LM](https://docs.pytorch.org/tutorials/_images/megatron_lm.png)"
      ]
    },
    {
      "cell_type": "markdown",
      "id": "a36c340b",
      "metadata": {
        "id": "a36c340b"
      },
      "source": [
        "<sup> Image Source: [Megatron-LM](https://arxiv.org/abs/1909.08053) </sup>"
      ]
    },
    {
      "cell_type": "markdown",
      "id": "97fa5689",
      "metadata": {
        "id": "97fa5689"
      },
      "source": [
        "## 5. Scaling Transformers in Flax"
      ]
    },
    {
      "cell_type": "markdown",
      "source": [
        "### 5.1 Setup for training a small Transformer Language Model"
      ],
      "metadata": {
        "id": "XxWJxaO6WkGW"
      },
      "id": "XxWJxaO6WkGW"
    },
    {
      "cell_type": "code",
      "source": [
        "!wget https://huggingface.co/datasets/roneneldan/TinyStories/resolve/main/TinyStories-train.txt?download=true -O TinyStories-train.txt"
      ],
      "metadata": {
        "id": "OJNWFSa7WvJl"
      },
      "id": "OJNWFSa7WvJl",
      "execution_count": null,
      "outputs": []
    },
    {
      "cell_type": "code",
      "execution_count": null,
      "id": "24340e12",
      "metadata": {
        "id": "24340e12"
      },
      "outputs": [],
      "source": [
        "from dataclasses import dataclass\n",
        "import grain.python as pygrain\n",
        "import pandas as pd\n",
        "import tiktoken\n",
        "import time"
      ]
    },
    {
      "cell_type": "code",
      "source": [
        "tokenizer = tiktoken.get_encoding(\"gpt2\")"
      ],
      "metadata": {
        "id": "QR2QYRa1W_-u"
      },
      "id": "QR2QYRa1W_-u",
      "execution_count": null,
      "outputs": []
    },
    {
      "cell_type": "markdown",
      "source": [
        "### 5.2 Define a 2D Mesh"
      ],
      "metadata": {
        "id": "6UywwoVBX47m"
      },
      "id": "6UywwoVBX47m"
    },
    {
      "cell_type": "code",
      "source": [
        "# Create a `Mesh` object representing TPU device arrangement.\n",
        "mesh = Mesh(mesh_utils.create_device_mesh((4, 2)), ('batch', 'model'))\n",
        "\n",
        "### Alternatively, we could use the 8-way data parallelism with only one line of code change.\n",
        "### JAX enables quick experimentation with different partitioning strategies\n",
        "### like this. We will come back to this point at the end of this tutorial.\n",
        "# mesh = Mesh(mesh_utils.create_device_mesh((8, 1)), ('batch', 'model'))"
      ],
      "metadata": {
        "id": "5UUusIPNX8qs"
      },
      "id": "5UUusIPNX8qs",
      "execution_count": null,
      "outputs": []
    },
    {
      "cell_type": "markdown",
      "source": [
        "### 5.3 Define the Sharded Transformer in Flax"
      ],
      "metadata": {
        "id": "pDp_YV17XAVI"
      },
      "id": "pDp_YV17XAVI"
    },
    {
      "cell_type": "markdown",
      "source": [
        "#### 5.3.1 Define Sharded Transformer Block"
      ],
      "metadata": {
        "id": "ZswcXmfvXqVh"
      },
      "id": "ZswcXmfvXqVh"
    },
    {
      "cell_type": "code",
      "source": [
        "# Define a triangular mask for causal attention with `jax.numpy.tril` and `jax.numpy.ones`.\n",
        "def causal_attention_mask(seq_len):\n",
        "    return jnp.tril(jnp.ones((seq_len, seq_len)))"
      ],
      "metadata": {
        "id": "KpmgWSdIXuLO"
      },
      "id": "KpmgWSdIXuLO",
      "execution_count": null,
      "outputs": []
    },
    {
      "cell_type": "code",
      "source": [
        "class TransformerBlock(nnx.Module):\n",
        "    \"\"\" A single Transformer block.\n",
        "\n",
        "    Each Transformer block processes input sequences via self-attention and feed-forward networks.\n",
        "\n",
        "    Args:\n",
        "        embed_dim (int): Embedding dimensionality.\n",
        "        num_heads (int): Number of attention heads.\n",
        "        ff_dim (int): Dimensionality of the feed-forward network.\n",
        "        rngs (flax.nnx.Rngs): A Flax NNX stream of JAX PRNG keys.\n",
        "        rate (float): Dropout rate. Defaults to 0.1.\n",
        "    \"\"\"\n",
        "    def __init__(self, embed_dim: int, num_heads: int, ff_dim: int, *, rngs: nnx.Rngs, rate: float = 0.1):\n",
        "        # Multi-Head Attention (MHA) with `flax.nnx.MultiHeadAttention`.\n",
        "        # Specifies tensor sharding (depending on the mesh configuration)\n",
        "        # where we shard the weights across devices for parallel computation.\n",
        "        self.mha = nnx.MultiHeadAttention(num_heads=num_heads,\n",
        "                                          in_features=embed_dim,\n",
        "                                          kernel_init=nnx.with_partitioning(nnx.initializers.xavier_uniform(), NamedSharding(mesh, P(None, 'model'))),\n",
        "                                          bias_init=nnx.with_partitioning(nnx.initializers.zeros_init(), NamedSharding(mesh, P('model'))),\n",
        "                                          rngs=rngs)\n",
        "        # The first dropout with `flax.nnx.Dropout`.\n",
        "        self.dropout1 = nnx.Dropout(rate=rate)\n",
        "        # First layer normalization with `flax.nnx.LayerNorm`.\n",
        "        self.layer_norm1 = nnx.LayerNorm(epsilon=1e-6,\n",
        "                                         num_features=embed_dim,\n",
        "                                         scale_init=nnx.with_partitioning(nnx.initializers.ones_init(), NamedSharding(mesh, P('model'))),\n",
        "                                         bias_init=nnx.with_partitioning(nnx.initializers.zeros_init(), NamedSharding(mesh, P('model'))),\n",
        "                                         rngs=rngs)\n",
        "        # The first linear transformation for the feed-forward network with `flax.nnx.Linear`.\n",
        "        self.linear1 = nnx.Linear(in_features=embed_dim,\n",
        "                                  out_features=ff_dim,\n",
        "                                  kernel_init=nnx.with_partitioning(nnx.initializers.xavier_uniform(), NamedSharding(mesh, P(None, 'model'))),\n",
        "                                  bias_init=nnx.with_partitioning(nnx.initializers.zeros_init(), NamedSharding(mesh, P('model'))),\n",
        "                                  rngs=rngs)\n",
        "        # The second linear transformation for the feed-forward network with `flax.nnx.Linear`.\n",
        "        self.linear2 = nnx.Linear(in_features=ff_dim,\n",
        "                                  out_features=embed_dim,\n",
        "                                  kernel_init=nnx.with_partitioning(nnx.initializers.xavier_uniform(), NamedSharding(mesh, P(None, 'model'))),\n",
        "                                  bias_init=nnx.with_partitioning(nnx.initializers.zeros_init(), NamedSharding(mesh, P('model'))),\n",
        "                                  rngs=rngs)\n",
        "        # The second dropout with `flax.nnx.Dropout`.\n",
        "        self.dropout2 = nnx.Dropout(rate=rate)\n",
        "        # Second layer normalization with `flax.nnx.LayerNorm`.\n",
        "        self.layer_norm2 = nnx.LayerNorm(epsilon=1e-6,\n",
        "                                         num_features=embed_dim,\n",
        "                                         scale_init=nnx.with_partitioning(nnx.initializers.ones_init(), NamedSharding(mesh, P(None, 'model'))),\n",
        "                                         bias_init=nnx.with_partitioning(nnx.initializers.zeros_init(), NamedSharding(mesh, P(None, 'model'))),\n",
        "                                         rngs=rngs)\n",
        "\n",
        "\n",
        "    # Apply the Transformer block to the input sequence.\n",
        "    def __call__(self, inputs, training: bool = False):\n",
        "        input_shape = inputs.shape\n",
        "        _, seq_len, _ = input_shape\n",
        "\n",
        "        # Instantiate the causal attention mask.\n",
        "        mask = causal_attention_mask(seq_len)\n",
        "\n",
        "        # Apply Multi-Head Attention with the causal attention mask.\n",
        "        attention_output = self.mha(\n",
        "            inputs_q=inputs,\n",
        "            mask=mask,\n",
        "            decode=False\n",
        "        )\n",
        "        # Apply the first dropout.\n",
        "        attention_output = self.dropout1(attention_output, deterministic=not training)\n",
        "        # Apply the first layer normalization.\n",
        "        out1 = self.layer_norm1(inputs + attention_output)\n",
        "\n",
        "        # The feed-forward network.\n",
        "        # Apply the first linear transformation.\n",
        "        ffn_output = self.linear1(out1)\n",
        "        # Apply the ReLU activation with `flax.nnx.relu`.\n",
        "        ffn_output = nnx.relu(ffn_output)\n",
        "        # Apply the second linear transformation.\n",
        "        ffn_output = self.linear2(ffn_output)\n",
        "        # Apply the second dropout.\n",
        "        ffn_output = self.dropout2(ffn_output, deterministic=not training)\n",
        "        # Apply the second layer normalization and return the output of the Transformer block.\n",
        "        return self.layer_norm2(out1 + ffn_output)\n"
      ],
      "metadata": {
        "id": "1uyVHA9bXI9S"
      },
      "id": "1uyVHA9bXI9S",
      "execution_count": null,
      "outputs": []
    },
    {
      "cell_type": "markdown",
      "source": [
        "#### 5.3.2 Define Embeddings"
      ],
      "metadata": {
        "id": "J-FnRQnLXk4p"
      },
      "id": "J-FnRQnLXk4p"
    },
    {
      "cell_type": "code",
      "source": [
        "class TokenAndPositionEmbedding(nnx.Module):\n",
        "    \"\"\" Combines token embeddings (words in an input sentence) with\n",
        "    positional embeddings (the position of each word in a sentence).\n",
        "\n",
        "    Args:\n",
        "        maxlen (int): Matimum sequence length.\n",
        "        vocal_size (int): Vocabulary size.\n",
        "        embed_dim (int): Embedding dimensionality.\n",
        "        rngs (flax.nnx.Rngs): A Flax NNX stream of JAX PRNG keys.\n",
        "    \"\"\"\n",
        "    def __init__(self, maxlen: int, vocab_size: int, embed_dim: int, *, rngs: nnx.Rngs):\n",
        "        # Initialize token embeddings (using `flax.nnx.Embed`).\n",
        "        # Each unique word has an embedding vector.\n",
        "        self.token_emb = nnx.Embed(num_embeddings=vocab_size, features=embed_dim, rngs=rngs)\n",
        "        # Initialize positional embeddings (using `flax.nnx.Embed`).\n",
        "        self.pos_emb = nnx.Embed(num_embeddings=maxlen, features=embed_dim, rngs=rngs)\n",
        "\n",
        "    # Takes a token sequence (integers) and returns the combined token and positional embeddings.\n",
        "    def __call__(self, x):\n",
        "        # Generate a sequence of positions for the input tokens.\n",
        "        positions = jnp.arange(0, x.shape[1])[None, :]\n",
        "        # Look up the positional embeddings for each position in the input sequence.\n",
        "        position_embedding = self.pos_emb(positions)\n",
        "        # Look up the token embeddings for each token in the input sequence.\n",
        "        token_embedding = self.token_emb(x)\n",
        "        # Combine token and positional embeddings.\n",
        "        return token_embedding + position_embedding\n"
      ],
      "metadata": {
        "id": "ELCpQVw9XkO7"
      },
      "id": "ELCpQVw9XkO7",
      "execution_count": null,
      "outputs": []
    },
    {
      "cell_type": "markdown",
      "source": [
        "#### 5.3.3 Define the Transformer Module"
      ],
      "metadata": {
        "id": "ZA6K73cDXb1t"
      },
      "id": "ZA6K73cDXb1t"
    },
    {
      "cell_type": "code",
      "source": [
        "class MiniGPT(nnx.Module):\n",
        "    \"\"\" A miniGPT transformer model, inherits from `flax.nnx.Module`.\n",
        "\n",
        "    Args:\n",
        "        maxlen (int): Maximum sequence length.\n",
        "        vocab_size (int): Vocabulary size.\n",
        "        embed_dim (int): Embedding dimensionality.\n",
        "        num_heads (int): Number of attention heads.\n",
        "        feed_forward_dim (int): Dimensionality of the feed-forward network.\n",
        "        num_transformer_blocks (int): Number of transformer blocks. Each block contains attention and feed-forward networks.\n",
        "        rngs (nnx.Rngs): A Flax NNX stream of JAX PRNG keys.\n",
        "    \"\"\"\n",
        "    # Initialize miniGPT model components.\n",
        "    def __init__(self, maxlen: int, vocab_size: int, embed_dim: int, num_heads: int, feed_forward_dim: int, num_transformer_blocks: int, rngs: nnx.Rngs):\n",
        "        # Initiliaze the `TokenAndPositionEmbedding` that combines token and positional embeddings.\n",
        "        self.embedding_layer = TokenAndPositionEmbedding(\n",
        "                    maxlen, vocab_size, embed_dim, rngs=rngs\n",
        "                )\n",
        "        # Create a list of `TransformerBlock` instances.\n",
        "        # Each block processes input sequences using attention and feed-forward networks.\n",
        "        self.transformer_blocks = [TransformerBlock(\n",
        "            embed_dim, num_heads, feed_forward_dim, rngs=rngs\n",
        "        ) for _ in range(num_transformer_blocks)]\n",
        "        # Initialize the output `flax.nnx.Linear` layer producing logits over the vocabulary for next-token prediction.\n",
        "        self.output_layer = nnx.Linear(in_features=embed_dim,\n",
        "                                       out_features=vocab_size,\n",
        "                                       kernel_init=nnx.with_partitioning(nnx.initializers.xavier_uniform(), NamedSharding(mesh, P(None, 'model'))),\n",
        "                                       bias_init=nnx.with_partitioning(nnx.initializers.zeros_init(), NamedSharding(mesh, P(None, 'model'))),\n",
        "                                       rngs=rngs)\n",
        "\n",
        "    def __call__(self, inputs, training: bool = False):\n",
        "        # Pass the input tokens through the `embedding_layer` to get token embeddings.\n",
        "        # Apply each transformer block sequentially to the embedded input, use the `training` flag for the behavior of `flax.nnx.Dropout`.\n",
        "        x = self.embedding_layer(inputs)\n",
        "        for transformer_block in self.transformer_blocks:\n",
        "            x = transformer_block(x, training=training)\n",
        "        # Pass the output of the transformer blocks through the output layer,\n",
        "        # and obtain logits for each token in the vocabulary (for next token prediction).\n",
        "        outputs = self.output_layer(x)\n",
        "        return outputs\n",
        "\n",
        "    # Text generation.\n",
        "    def generate_text(self, max_tokens: int, start_tokens: [int], top_k=10):\n",
        "        # Sample the next token from a probability distribution based on\n",
        "        # `logits` and `tok_k` (top-k) sampling strategy.\n",
        "        def sample_from(logits):\n",
        "            logits, indices = jax.lax.top_k(logits, k=top_k)\n",
        "            # Convert logits to probabilities (using `flax.nnx.softmax`).\n",
        "            logits = nnx.softmax(logits)\n",
        "            return jax.random.choice(jax.random.PRNGKey(0), indices, p=logits)\n",
        "\n",
        "        # Generate text one token at a time until the maximum token limit is reached (`maxlen`).\n",
        "        def generate_step(start_tokens):\n",
        "            pad_len = maxlen - len(start_tokens)\n",
        "            # Index of the last token in the current sequence.\n",
        "            sample_index = len(start_tokens) - 1\n",
        "            # If the input is longer than `maxlen`, then truncate it.\n",
        "            if pad_len < 0:\n",
        "                x = jnp.array(start_tokens[:maxlen])\n",
        "                sample_index = maxlen - 1\n",
        "            # If the input is shorter than `maxlen`, then pad it (`pad_len`).\n",
        "            elif pad_len > 0:\n",
        "                x = jnp.array(start_tokens + [0] * pad_len)\n",
        "            else:\n",
        "                x = jnp.array(start_tokens)\n",
        "\n",
        "            # Add a batch dimension.\n",
        "            x = x[None, :]\n",
        "            logits = self(x)\n",
        "            next_token = sample_from(logits[0][sample_index])\n",
        "            return next_token\n",
        "\n",
        "        # Store generated tokens.\n",
        "        generated = []\n",
        "        # Generate tokens until the end-of-text token is encountered or the maximum token limit is reached.\n",
        "        for _ in range(max_tokens):\n",
        "            next_token = generate_step(start_tokens + generated)\n",
        "            # Truncate whatever is after '<|endoftext|>' (stop word)\n",
        "            if next_token == tokenizer.encode('<|endoftext|>', allowed_special={'<|endoftext|>'})[0]:\n",
        "              # Stop text generation if the end-of-text token is encountered.\n",
        "              break\n",
        "            generated.append(int(next_token))\n",
        "        # Decode the generated token IDs into text.\n",
        "        return tokenizer.decode(start_tokens + generated)"
      ],
      "metadata": {
        "id": "RGT3M7G_XagA"
      },
      "id": "RGT3M7G_XagA",
      "execution_count": null,
      "outputs": []
    },
    {
      "cell_type": "markdown",
      "source": [
        "#### 5.3.4 Create the Model"
      ],
      "metadata": {
        "id": "68otGuYcXPxF"
      },
      "id": "68otGuYcXPxF"
    },
    {
      "cell_type": "code",
      "source": [
        "vocab_size = tokenizer.n_vocab\n",
        "num_transformer_blocks = 8\n",
        "maxlen = 256\n",
        "embed_dim = 256\n",
        "num_heads = 8\n",
        "feed_forward_dim = 256\n",
        "batch_size = 256\n",
        "num_epochs = 1"
      ],
      "metadata": {
        "id": "GDLHM8wrYTPx"
      },
      "id": "GDLHM8wrYTPx",
      "execution_count": null,
      "outputs": []
    },
    {
      "cell_type": "code",
      "source": [
        "# Creates the miniGPT model with 4 transformer blocks.\n",
        "def create_model(rngs):\n",
        "    return MiniGPT(maxlen, vocab_size, embed_dim, num_heads, feed_forward_dim, num_transformer_blocks=4, rngs=rngs)"
      ],
      "metadata": {
        "id": "6KUp1vWSXOwn"
      },
      "id": "6KUp1vWSXOwn",
      "execution_count": null,
      "outputs": []
    },
    {
      "cell_type": "markdown",
      "source": [
        "### 5.4 Data Loading"
      ],
      "metadata": {
        "id": "rLAJra8HX_Zg"
      },
      "id": "rLAJra8HX_Zg"
    },
    {
      "cell_type": "code",
      "source": [
        "@dataclass\n",
        "class TextDataset:\n",
        "    data: list\n",
        "    maxlen: int\n",
        "\n",
        "    def __len__(self):\n",
        "        return len(self.data)\n",
        "\n",
        "    def __getitem__(self, idx: int):\n",
        "        # Use Tiktoken for tokenization\n",
        "        encoding = tokenizer.encode(self.data[idx], allowed_special={'<|endoftext|>'})[:self.maxlen]  # Tokenize and truncate\n",
        "        return encoding + [0] * (self.maxlen - len(encoding))  # Pad to maxlen\n",
        "\n",
        "def load_and_preprocess_data(file_path, batch_size, maxlen):\n",
        "\n",
        "    with open(file_path, 'r') as f:\n",
        "      text = f.read()\n",
        "\n",
        "    stories = text.split('<|endoftext|>')\n",
        "    stories = [story+'<|endoftext|>' for story in stories if story.strip()]\n",
        "    df = pd.DataFrame({'text': stories})\n",
        "    data = df['text'].dropna().tolist()\n",
        "    dataset = TextDataset(data, maxlen)\n",
        "\n",
        "    sampler = pygrain.IndexSampler(\n",
        "        len(dataset),\n",
        "        shuffle=False,\n",
        "        seed=42,\n",
        "        shard_options=pygrain.NoSharding(),\n",
        "        num_epochs=num_epochs,\n",
        "    )\n",
        "\n",
        "    dl = pygrain.DataLoader(\n",
        "        data_source=dataset,\n",
        "        sampler=sampler,\n",
        "        operations=[pygrain.Batch(batch_size=batch_size, drop_remainder=True)],\n",
        "    )\n",
        "\n",
        "    return dl\n",
        "\n",
        "text_dl = load_and_preprocess_data('TinyStories-train.txt', batch_size, maxlen)"
      ],
      "metadata": {
        "id": "VrTUOqyTYFN_"
      },
      "id": "VrTUOqyTYFN_",
      "execution_count": null,
      "outputs": []
    },
    {
      "cell_type": "markdown",
      "source": [
        "### 5.5 Loss Function and Training Step"
      ],
      "metadata": {
        "id": "_4XgtvUWYZz_"
      },
      "id": "_4XgtvUWYZz_"
    },
    {
      "cell_type": "code",
      "source": [
        "# Defines the loss function using `optax.softmax_cross_entropy_with_integer_labels`.\n",
        "def loss_fn(model, batch):\n",
        "    logits = model(batch[0])\n",
        "    loss = optax.softmax_cross_entropy_with_integer_labels(logits=logits, labels=batch[1]).mean()\n",
        "    return loss, logits\n",
        "\n",
        "# Define the training step with the `flax.nnx.jit` transformation decorator.\n",
        "@nnx.jit\n",
        "def train_step(model: MiniGPT, optimizer: nnx.Optimizer, metrics: nnx.MultiMetric, batch):\n",
        "    grad_fn = nnx.value_and_grad(loss_fn, has_aux=True)\n",
        "    (loss, logits), grads = grad_fn(model, batch)\n",
        "    metrics.update(loss=loss, logits=logits, lables=batch[1])\n",
        "    optimizer.update(grads)"
      ],
      "metadata": {
        "id": "Y6h0I6XtYfjM"
      },
      "id": "Y6h0I6XtYfjM",
      "execution_count": null,
      "outputs": []
    },
    {
      "cell_type": "markdown",
      "source": [
        "### 5.6 Train the model"
      ],
      "metadata": {
        "id": "Gdz1y5rpYggA"
      },
      "id": "Gdz1y5rpYggA"
    },
    {
      "cell_type": "code",
      "source": [
        "model = create_model(rngs=nnx.Rngs(0))\n",
        "optimizer = nnx.Optimizer(model, optax.adam(1e-3))\n",
        "metrics = nnx.MultiMetric(\n",
        "  loss=nnx.metrics.Average('loss'),\n",
        ")\n",
        "rng = jax.random.PRNGKey(0)\n",
        "\n",
        "start_prompt = \"Once upon a time\"\n",
        "start_tokens = tokenizer.encode(start_prompt)[:maxlen]\n",
        "generated_text = model.generate_text(\n",
        "    maxlen, start_tokens\n",
        ")\n",
        "print(f\"Initial generated text:\\n{generated_text}\\n\")\n",
        "\n",
        "\n",
        "metrics_history = {\n",
        "  'train_loss': [],\n",
        "}\n",
        "\n",
        "prep_target_batch = jax.vmap(lambda tokens: jnp.concatenate((tokens[1:], jnp.array([0]))))\n",
        "\n",
        "step = 0\n",
        "for epoch in range(num_epochs):\n",
        "    start_time = time.time()\n",
        "    for batch in text_dl:\n",
        "        if len(batch) % len(jax.devices()) != 0:\n",
        "          continue  # skip the remaining elements\n",
        "        input_batch = jnp.array(jnp.array(batch).T)\n",
        "        target_batch = prep_target_batch(input_batch)\n",
        "        train_step(model, optimizer, metrics, jax.device_put((input_batch, target_batch), NamedSharding(mesh, P('batch', None))))\n",
        "\n",
        "        if (step + 1) % 200 == 0:\n",
        "          for metric, value in metrics.compute().items():\n",
        "              metrics_history[f'train_{metric}'].append(value)\n",
        "          metrics.reset()\n",
        "\n",
        "          elapsed_time = time.time() - start_time\n",
        "          print(f\"Step {step + 1}, Loss: {metrics_history['train_loss'][-1]}, Elapsed Time: {elapsed_time:.2f} seconds\")\n",
        "          start_time = time.time()\n",
        "\n",
        "          generated_text = model.generate_text(\n",
        "              maxlen, start_tokens\n",
        "          )\n",
        "          print(f\"Generated text:\\n{generated_text}\\n\")\n",
        "        step += 1\n",
        "\n",
        "# Final text generation\n",
        "generated_text = model.generate_text(\n",
        "    maxlen, start_tokens\n",
        ")\n",
        "print(f\"Final generated text:\\n{generated_text}\")"
      ],
      "metadata": {
        "id": "_3WJfH3-Yp2N"
      },
      "id": "_3WJfH3-Yp2N",
      "execution_count": null,
      "outputs": []
    },
    {
      "cell_type": "markdown",
      "source": [
        "#### 5.7 Inspect Training Curve and Save Checkpoint"
      ],
      "metadata": {
        "id": "I4CfAK69Y2VF"
      },
      "id": "I4CfAK69Y2VF"
    },
    {
      "cell_type": "code",
      "source": [
        "plt.plot(metrics_history['train_loss'])\n",
        "plt.title('Training Loss')\n",
        "plt.xlabel('Step')\n",
        "plt.ylabel('Loss')\n",
        "plt.show()"
      ],
      "metadata": {
        "id": "IWCqOHBUY6gQ"
      },
      "id": "IWCqOHBUY6gQ",
      "execution_count": null,
      "outputs": []
    },
    {
      "cell_type": "code",
      "source": [
        "import orbax.checkpoint as orbax\n",
        "\n",
        "state = nnx.state(model)\n",
        "\n",
        "checkpointer = orbax.PyTreeCheckpointer()\n",
        "checkpointer.save('/content/save', state)\n",
        "\n",
        "# Make sure the files are there\n",
        "!ls /content/save/"
      ],
      "metadata": {
        "id": "MoqcdZQUZCqk"
      },
      "id": "MoqcdZQUZCqk",
      "execution_count": null,
      "outputs": []
    }
  ],
  "metadata": {
    "language_info": {
      "name": "python"
    },
    "colab": {
      "provenance": [],
      "toc_visible": true,
      "gpuType": "V28"
    },
    "kernelspec": {
      "name": "python3",
      "display_name": "Python 3"
    },
    "accelerator": "TPU"
  },
  "nbformat": 4,
  "nbformat_minor": 5
}