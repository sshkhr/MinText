{
  "cells": [
    {
      "cell_type": "markdown",
      "id": "17be077e",
      "metadata": {
        "id": "17be077e"
      },
      "source": [
        "# Tutorial 3: Tensor Parallel and Transformers Scaling\n",
        "\n",
        "[![Open in GitHub](https://img.shields.io/badge/Open%20in-GitHub-181717?style=flat-square&logo=github)](https://github.com/sshkhr/MinText/blob/main/docs/tutorials/3_Tensor_Parallel_and_Transformers.ipynb)\n",
        "[![Open in Colab](https://colab.research.google.com/assets/colab-badge.svg)](https://colab.research.google.com/github/sshkhr/MinText/blob/main/docs/tutorials/3_Tensor_Parallel_and_Transformers.ipynb)"
      ]
    },
    {
      "cell_type": "markdown",
      "id": "47d7d9d3",
      "metadata": {
        "id": "47d7d9d3"
      },
      "source": [
        "In the previous tutorial, we learned about data parallelism and how to use it to shard data batches across devices. We also learned about Fully Sharded Data Parallel (FSDP) and how it can be used to shard model parameters, gradients and optimizer states across devices. In this part, we will cover tensor parallelism and how it can be used to shard model layers across devices. We will also learn how to use the different parallelism techniques together to scale up training of an actual transformer model."
      ]
    },
    {
      "cell_type": "markdown",
      "id": "992ec8d3",
      "metadata": {
        "id": "992ec8d3"
      },
      "source": [
        "## 0. Setup\n",
        "\n",
        "Let's start by importing the necessary libraries and initializing our environment."
      ]
    },
    {
      "cell_type": "code",
      "execution_count": 1,
      "id": "bd37fc51",
      "metadata": {
        "id": "bd37fc51"
      },
      "outputs": [],
      "source": [
        "import os\n",
        "# Force JAX to see 8 devices for this tutorial (only use if not using TPU runtime)\n",
        "#os.environ['XLA_FLAGS'] = '--xla_force_host_platform_device_count=8'\n",
        "\n",
        "import jax\n",
        "import jax.numpy as jnp\n",
        "from jax.sharding import Mesh, PartitionSpec as P, NamedSharding\n",
        "from jax.experimental import mesh_utils\n",
        "from flax import nnx\n",
        "import numpy as np\n",
        "import matplotlib.pyplot as plt\n",
        "import time\n",
        "from functools import partial\n",
        "import dataclasses\n",
        "\n",
        "import optax"
      ]
    },
    {
      "cell_type": "code",
      "execution_count": 2,
      "id": "ea947ba6",
      "metadata": {
        "colab": {
          "base_uri": "https://localhost:8080/"
        },
        "id": "ea947ba6",
        "outputId": "3b056705-36ea-4bb3-ed1a-a7770c36ec3d"
      },
      "outputs": [
        {
          "output_type": "stream",
          "name": "stdout",
          "text": [
            "JAX version: 0.5.2\n",
            "Available devices: [TpuDevice(id=0, process_index=0, coords=(0,0,0), core_on_chip=0), TpuDevice(id=1, process_index=0, coords=(0,0,0), core_on_chip=1), TpuDevice(id=2, process_index=0, coords=(1,0,0), core_on_chip=0), TpuDevice(id=3, process_index=0, coords=(1,0,0), core_on_chip=1)]...\n",
            "Number of devices: 8\n"
          ]
        }
      ],
      "source": [
        "# Check available devices\n",
        "print(f\"JAX version: {jax.__version__}\")\n",
        "print(f\"Available devices: {jax.devices()[:4]}...\")\n",
        "print(f\"Number of devices: {jax.device_count()}\")"
      ]
    },
    {
      "cell_type": "code",
      "execution_count": 3,
      "id": "nm_GcLiSWxbx",
      "metadata": {
        "colab": {
          "base_uri": "https://localhost:8080/"
        },
        "id": "nm_GcLiSWxbx",
        "outputId": "7967fad5-fecf-4c5d-d817-7a289a663cd8"
      },
      "outputs": [
        {
          "output_type": "stream",
          "name": "stdout",
          "text": [
            "\u001b[?25l   \u001b[90m━━━━━━━━━━━━━━━━━━━━━━━━━━━━━━━━━━━━━━━━\u001b[0m \u001b[32m0.0/1.2 MB\u001b[0m \u001b[31m?\u001b[0m eta \u001b[36m-:--:--\u001b[0m\r\u001b[2K   \u001b[91m━━━━━━━━━━━━━━━━━━━━━━━━\u001b[0m\u001b[90m╺\u001b[0m\u001b[90m━━━━━━━━━━━━━━━\u001b[0m \u001b[32m0.7/1.2 MB\u001b[0m \u001b[31m22.2 MB/s\u001b[0m eta \u001b[36m0:00:01\u001b[0m\r\u001b[2K   \u001b[90m━━━━━━━━━━━━━━━━━━━━━━━━━━━━━━━━━━━━━━━━\u001b[0m \u001b[32m1.2/1.2 MB\u001b[0m \u001b[31m21.3 MB/s\u001b[0m eta \u001b[36m0:00:00\u001b[0m\n",
            "\u001b[?25h\u001b[?25l   \u001b[90m━━━━━━━━━━━━━━━━━━━━━━━━━━━━━━━━━━━━━━━━\u001b[0m \u001b[32m0.0/485.5 kB\u001b[0m \u001b[31m?\u001b[0m eta \u001b[36m-:--:--\u001b[0m\r\u001b[2K   \u001b[90m━━━━━━━━━━━━━━━━━━━━━━━━━━━━━━━━━━━━━━━━\u001b[0m \u001b[32m485.5/485.5 kB\u001b[0m \u001b[31m35.7 MB/s\u001b[0m eta \u001b[36m0:00:00\u001b[0m\n",
            "\u001b[2K   \u001b[90m━━━━━━━━━━━━━━━━━━━━━━━━━━━━━━━━━━━━━━━━\u001b[0m \u001b[32m8.6/8.6 MB\u001b[0m \u001b[31m127.5 MB/s\u001b[0m eta \u001b[36m0:00:00\u001b[0m\n",
            "\u001b[2K   \u001b[90m━━━━━━━━━━━━━━━━━━━━━━━━━━━━━━━━━━━━━━━━\u001b[0m \u001b[32m65.3/65.3 kB\u001b[0m \u001b[31m6.4 MB/s\u001b[0m eta \u001b[36m0:00:00\u001b[0m\n",
            "\u001b[?25h"
          ]
        }
      ],
      "source": [
        "# Requirements for Language Modelling\n",
        "!pip install -Uq tiktoken grain matplotlib"
      ]
    },
    {
      "cell_type": "markdown",
      "id": "425d3061",
      "metadata": {
        "id": "425d3061"
      },
      "source": [
        "## 1. Tensor Parallelism\n",
        "\n",
        "While fully-sharded data parallelism distributes model weights across different devices during the AllReduce operation, tensor parallelism takes a different approach. Also known as \"1D model parallelism\" or Megatron sharding, this technique shards the feedforward dimensions of individual model layers and distributes activations between devices during computation. This method enables smaller effective batch sizes per device, making it particularly useful for training very large models. The diagram below illustrates how a single matrix is partitioned across devices using this approach:"
      ]
    },
    {
      "cell_type": "markdown",
      "id": "7c76edab",
      "metadata": {
        "id": "7c76edab"
      },
      "source": [
        "### 1.1 Tensor Parallelism Theory\n",
        "\n",
        "**Sharding**: Model layer activations are sharded along tensor axes across devices, model parameters are replicated on each device.\n",
        "\n",
        "**Equation** (for our MLP example):\n",
        "$$\\text{In}[B, D_Y] \\cdot_D W_\\text{in}[D, F_Y] \\cdot_F W_\\text{out}[F_Y, D] \\rightarrow \\text{Out}[B, D_Y]$$\n",
        "\n",
        "where $F_Y$ indicates the activations are sharded across $Y$ devices."
      ]
    },
    {
      "cell_type": "markdown",
      "id": "01006675",
      "metadata": {
        "id": "01006675"
      },
      "source": [
        "![Tensor Parallel](https://jax-ml.github.io/scaling-book/assets/img/model-parallelism-1400.webp)"
      ]
    },
    {
      "cell_type": "markdown",
      "id": "2f540e70",
      "metadata": {
        "id": "2f540e70"
      },
      "source": [
        "<sup> Image Source: [How To Scale Your Model](https://jax-ml.github.io/scaling-book) </sup>"
      ]
    },
    {
      "cell_type": "markdown",
      "id": "6a24d684",
      "metadata": {
        "id": "6a24d684"
      },
      "source": [
        "### 1.2 Tensor Parallelism Algorithm\n",
        "\n",
        "The computation pattern In[B, D_Y] * W_in[D, F_Y] * W_out[F_Y, D] → Out[B, D_Y] requires gathering activations prior to the initial matrix multiplication. This approach becomes more efficient than ZeRO sharding when activation sizes are smaller than weight sizes.\n",
        "\n",
        "**Forward pass:** need to compute Loss[B]\n",
        "\n",
        "1.  In[B, D] = **AllGather**(In[B, D<sub>Y</sub>]) *(on critical path)*\n",
        "2.  Tmp[B, F<sub>Y</sub>] = In[B, D] \\*<sub>D</sub> W<sub>in</sub>[D, F<sub>Y</sub>] *(not sharded along contracting, so no comms)*\n",
        "3.  Out[B, D] {U<sub>Y</sub>} = Tmp[B, F<sub>Y</sub>] \\*<sub>F</sub> W<sub>out</sub>[F<sub>Y</sub>, D]\n",
        "4.  Out[B, D<sub>Y</sub>] = **ReduceScatter**(Out[B, D] {U<sub>Y</sub>}) *(on critical path)*\n",
        "5.  Loss[B] = ...\n",
        "\n",
        "**Backward pass:** need to compute dW<sub>out</sub>[F<sub>Y</sub>, D], dW<sub>in</sub>[D, F<sub>Y</sub>]\n",
        "\n",
        "1.  dOut[B, D<sub>Y</sub>] = ...\n",
        "2.  dOut[B, D] = **AllGather**(dOut[B, D<sub>Y</sub>]) *(on critical path)*\n",
        "3.  dW<sub>out</sub>[F<sub>Y</sub>, D] = Tmp[B, F<sub>Y</sub>] \\*<sub>B</sub> dOut[B, D]\n",
        "4.  dTmp[B, F<sub>Y</sub>] = dOut[B, D] \\*<sub>D</sub> W<sub>out</sub>[F<sub>Y</sub>, D] *(can throw away dOut[B, D] here)*\n",
        "5.  In[B, D] = **AllGather**(In[B, D<sub>Y</sub>]) *(this can be skipped by sharing with (1) from the forward pass)*\n",
        "6.  dW<sub>in</sub>[D, F<sub>Y</sub>] = dTmp[B, F<sub>Y</sub>] \\*<sub>B</sub> In[B, D]\n",
        "7.  dIn[B, D] {U.Y} = dTmp[B, F<sub>Y</sub>] \\*<sub>F</sub> W<sub>in</sub>[D, F<sub>Y</sub>] *(needed for previous layers)*\n",
        "8.  dIn[B, D<sub>Y</sub>] = **ReduceScatter**(dIn[B, D] {U.Y}) *(on critical path)*\n",
        "\n",
        "A key advantage of the two matrix operations in our MLP forward pass is that tensor parallelism integrates nicely with this setup. Without this optimization, we would need to perform an AllReduce operation after each matrix multiplication. However, the sequential computation In[B, D_Y] * W_in[D, F_Y] → Tmp[B, F_Y] followed by Tmp[B, F_Y] * W_out[F_Y, D] → Out[B, D_Y] allows us to perform a single AllGather on the input at the start and a single ReduceScatter on the output at the end, eliminating the need for intermediate AllReduce operations."
      ]
    },
    {
      "cell_type": "markdown",
      "id": "5334a065",
      "metadata": {
        "id": "5334a065"
      },
      "source": [
        "## 2. Combining Parallelism Techniques\n",
        "\n",
        "In this section, we will combine FSDP, and tensor parallelism to implemnt distributed training of a simple MLP model. The efficiency from gathering activations prior to matrix multiplyin tensor parallelism typically emerges only when combined with some degree of ZeRO sharding, which reduces the gather operation's overhead. This synergy explains why ZeRO sharding and model parallelism are commonly used together in practice.\n"
      ]
    },
    {
      "cell_type": "markdown",
      "id": "60a857dc",
      "metadata": {
        "id": "60a857dc"
      },
      "source": [
        "### 2.1 Mesh Definition"
      ]
    },
    {
      "cell_type": "code",
      "execution_count": 4,
      "id": "45ed2560",
      "metadata": {
        "id": "45ed2560"
      },
      "outputs": [],
      "source": [
        "# Assign logical names 'data' and 'model' to the axes of this grid.\n",
        "# The first dimension (size 2) is named 'data'.\n",
        "# The second dimension (size 4) is named 'model'.\n",
        "mesh = jax.sharding.Mesh(\n",
        "  mesh_utils.create_device_mesh((2, 4)),\n",
        "  ('data', 'model'),\n",
        ")"
      ]
    },
    {
      "cell_type": "markdown",
      "id": "9ce31aa1",
      "metadata": {
        "id": "9ce31aa1"
      },
      "source": [
        "### 2.2 Sharding Helper Functions"
      ]
    },
    {
      "cell_type": "code",
      "execution_count": 5,
      "id": "5d266bc6",
      "metadata": {
        "id": "5d266bc6"
      },
      "outputs": [],
      "source": [
        "# A helper function to quickly create a NamedSharding object\n",
        "# using the globally defined 'mesh'.\n",
        "def named_sharding(*names: str | None) -> NamedSharding:\n",
        "  # P(*names) creates a PartitionSpec, e.g., P('data', None)\n",
        "  # NamedSharding binds this PartitionSpec to the 'mesh'.\n",
        "  return NamedSharding(mesh, P(*names))\n",
        "\n",
        "\n",
        "@dataclasses.dataclass(unsafe_hash=True)\n",
        "class MeshRules:\n",
        "  \"\"\"Rules for combined FSDP (data parallel) + tensor parallel sharding\"\"\"\n",
        "  weight_0: str | None = None     # First dimension of weights\n",
        "  weight_1: str | None = 'model'  # Second dimension of weights (tensor parallel)\n",
        "  bias: str | None = 'model'      # Bias sharded along model axis\n",
        "  data: str | None = 'data'       # Data sharded along data axis\n",
        "\n",
        "  def __call__(self, *keys: str) -> tuple[str, ...]:\n",
        "    return tuple(getattr(self, key) for key in keys)\n",
        "\n",
        "mesh_rules = MeshRules()"
      ]
    },
    {
      "cell_type": "markdown",
      "id": "8f6e98b3",
      "metadata": {
        "id": "8f6e98b3"
      },
      "source": [
        "### 2.3 Define The Sharded Model"
      ]
    },
    {
      "cell_type": "code",
      "execution_count": 6,
      "id": "31970b77",
      "metadata": {
        "id": "31970b77"
      },
      "outputs": [],
      "source": [
        "# Modified MLP using nnx.Linear with tensor parallelism\n",
        "class MLP(nnx.Module):\n",
        "  def __init__(self, din, dmid, dout, *, rngs: nnx.Rngs):\n",
        "    # For linear1: (128, 2048) -> shard second dimension\n",
        "    self.linear1 = nnx.Linear(\n",
        "        din, dmid,\n",
        "        kernel_init=nnx.with_metadata(\n",
        "            nnx.initializers.lecun_normal(),\n",
        "            sharding=mesh_rules('weight_0', 'weight_1')  # (None, 'model')\n",
        "        ),\n",
        "        bias_init=nnx.with_metadata(\n",
        "            nnx.initializers.zeros_init(),\n",
        "            sharding=mesh_rules('bias')  # ('model',)\n",
        "        ),\n",
        "        rngs=rngs\n",
        "    )\n",
        "\n",
        "    # For linear2: (2048, 128) -> shard first dimension\n",
        "    self.linear2 = nnx.Linear(\n",
        "        dmid, dout,\n",
        "        kernel_init=nnx.with_metadata(\n",
        "            nnx.initializers.lecun_normal(),\n",
        "            sharding=('model', None)  # Custom sharding for this layer\n",
        "        ),\n",
        "        bias_init=nnx.with_metadata(\n",
        "            nnx.initializers.zeros_init(),\n",
        "            sharding=(None,)  # Don't shard output bias\n",
        "        ),\n",
        "        rngs=rngs\n",
        "    )\n",
        "\n",
        "  def __call__(self, x):\n",
        "    x = nnx.relu(self.linear1(x))\n",
        "    return self.linear2(x)"
      ]
    },
    {
      "cell_type": "markdown",
      "id": "06d184b8",
      "metadata": {
        "id": "06d184b8"
      },
      "source": [
        "### 2.4 Handling Sharded Optimizer State"
      ]
    },
    {
      "cell_type": "code",
      "execution_count": 7,
      "id": "1d9f4258",
      "metadata": {
        "id": "1d9f4258"
      },
      "outputs": [],
      "source": [
        "# Define a custom type for SGD momentum state, inheriting from nnx.Variable.\n",
        "# This allows it to be tracked as part of the NNX state tree.\n",
        "class SGDState(nnx.Variable):\n",
        "  pass\n",
        "\n",
        "# Define the SGD optimizer using NNX API.\n",
        "class SGD(nnx.Object):\n",
        "  # Constructor takes the model parameters (as nnx.State), learning rate, and decay.\n",
        "  def __init__(self, params: nnx.State, lr, decay=0.9):\n",
        "    # Helper function to initialize momentum buffer for a given parameter.\n",
        "    def init_optimizer_state(variable: nnx.Variable):\n",
        "      # Create momentum state with zeros, same shape and metadata (incl. sharding)\n",
        "      # as the parameter it corresponds to.\n",
        "      return SGDState(\n",
        "        jnp.zeros_like(variable.value), **variable.get_metadata()\n",
        "      )\n",
        "\n",
        "    self.lr = lr\n",
        "    # Store a reference to the parameter State tree.\n",
        "    self.params = params\n",
        "    # Create the momentum state tree, mirroring the structure of 'params',\n",
        "    # using the helper function. Momentum will have the same sharding as params.\n",
        "    self.momentum = jax.tree.map(init_optimizer_state, self.params)\n",
        "    self.decay = decay\n",
        "\n",
        "  # Method to update parameters based on gradients.\n",
        "  def update(self, grads: nnx.State):\n",
        "    # Define the update logic for a single parameter/momentum/gradient triple.\n",
        "    def update_fn(\n",
        "      params: nnx.Variable, momentum: SGDState, grad: nnx.VariableState\n",
        "    ):\n",
        "      # Standard SGD with momentum update rule.\n",
        "      # v_t = β * v_{t-1} + (1 - β) * ∇J(θ_t)\n",
        "      momentum.value = self.decay * momentum.value + (1 - self.decay) * grad.value\n",
        "      # θ_{t+1} = θ_t - α * v_t\n",
        "      params.value -= self.lr * momentum.value # NOTE: Direct mutation of param value!\n",
        "\n",
        "    # Apply the update function across the parameter, momentum, and gradient trees.\n",
        "    # This performs the update in-place on the parameter values referenced by self.params.\n",
        "    jax.tree.map(update_fn, self.params, self.momentum, grads)\n"
      ]
    },
    {
      "cell_type": "markdown",
      "id": "850d7981",
      "metadata": {
        "id": "850d7981"
      },
      "source": [
        "### 2.5 Applying Sharding to the Model and Optimizer"
      ]
    },
    {
      "cell_type": "code",
      "execution_count": 8,
      "id": "3f54c41e",
      "metadata": {
        "colab": {
          "base_uri": "https://localhost:8080/",
          "height": 434
        },
        "id": "3f54c41e",
        "outputId": "3100ce64-0cd4-4c5c-ff23-c0bfe3d7beb0"
      },
      "outputs": [
        {
          "output_type": "stream",
          "name": "stdout",
          "text": [
            "Linear1 kernel sharding (128, 2048):\n"
          ]
        },
        {
          "output_type": "display_data",
          "data": {
            "text/plain": [
              "\u001b[38;2;255;255;255;48;2;57;59;121m                    \u001b[0m\u001b[38;2;255;255;255;48;2;222;158;214m                    \u001b[0m\u001b[38;2;255;255;255;48;2;173;73;74m                    \u001b[0m\u001b[38;2;0;0;0;48;2;181;207;107m                    \u001b[0m\n",
              "\u001b[38;2;255;255;255;48;2;57;59;121m                    \u001b[0m\u001b[38;2;255;255;255;48;2;222;158;214m                    \u001b[0m\u001b[38;2;255;255;255;48;2;173;73;74m                    \u001b[0m\u001b[38;2;0;0;0;48;2;181;207;107m                    \u001b[0m\n",
              "\u001b[38;2;255;255;255;48;2;57;59;121m                    \u001b[0m\u001b[38;2;255;255;255;48;2;222;158;214m                    \u001b[0m\u001b[38;2;255;255;255;48;2;173;73;74m                    \u001b[0m\u001b[38;2;0;0;0;48;2;181;207;107m                    \u001b[0m\n",
              "\u001b[38;2;255;255;255;48;2;57;59;121m                    \u001b[0m\u001b[38;2;255;255;255;48;2;222;158;214m                    \u001b[0m\u001b[38;2;255;255;255;48;2;173;73;74m                    \u001b[0m\u001b[38;2;0;0;0;48;2;181;207;107m                    \u001b[0m\n",
              "\u001b[38;2;255;255;255;48;2;57;59;121m                    \u001b[0m\u001b[38;2;255;255;255;48;2;222;158;214m                    \u001b[0m\u001b[38;2;255;255;255;48;2;173;73;74m                    \u001b[0m\u001b[38;2;0;0;0;48;2;181;207;107m                    \u001b[0m\n",
              "\u001b[38;2;255;255;255;48;2;57;59;121m                    \u001b[0m\u001b[38;2;255;255;255;48;2;222;158;214m                    \u001b[0m\u001b[38;2;255;255;255;48;2;173;73;74m                    \u001b[0m\u001b[38;2;0;0;0;48;2;181;207;107m                    \u001b[0m\n",
              "\u001b[38;2;255;255;255;48;2;57;59;121m                    \u001b[0m\u001b[38;2;255;255;255;48;2;222;158;214m                    \u001b[0m\u001b[38;2;255;255;255;48;2;173;73;74m                    \u001b[0m\u001b[38;2;0;0;0;48;2;181;207;107m                    \u001b[0m\n",
              "\u001b[38;2;255;255;255;48;2;57;59;121m                    \u001b[0m\u001b[38;2;255;255;255;48;2;222;158;214m                    \u001b[0m\u001b[38;2;255;255;255;48;2;173;73;74m                    \u001b[0m\u001b[38;2;0;0;0;48;2;181;207;107m                    \u001b[0m\n",
              "\u001b[38;2;255;255;255;48;2;57;59;121m                    \u001b[0m\u001b[38;2;255;255;255;48;2;222;158;214m                    \u001b[0m\u001b[38;2;255;255;255;48;2;173;73;74m                    \u001b[0m\u001b[38;2;0;0;0;48;2;181;207;107m                    \u001b[0m\n",
              "\u001b[38;2;255;255;255;48;2;57;59;121m                    \u001b[0m\u001b[38;2;255;255;255;48;2;222;158;214m                    \u001b[0m\u001b[38;2;255;255;255;48;2;173;73;74m                    \u001b[0m\u001b[38;2;0;0;0;48;2;181;207;107m                    \u001b[0m\n"
            ],
            "text/html": [
              "<pre style=\"white-space:pre;overflow-x:auto;line-height:normal;font-family:Menlo,'DejaVu Sans Mono',consolas,'Courier New',monospace\"><span style=\"color: #ffffff; text-decoration-color: #ffffff; background-color: #393b79\">                    </span><span style=\"color: #ffffff; text-decoration-color: #ffffff; background-color: #de9ed6\">                    </span><span style=\"color: #ffffff; text-decoration-color: #ffffff; background-color: #ad494a\">                    </span><span style=\"color: #000000; text-decoration-color: #000000; background-color: #b5cf6b\">                    </span>\n",
              "<span style=\"color: #ffffff; text-decoration-color: #ffffff; background-color: #393b79\">                    </span><span style=\"color: #ffffff; text-decoration-color: #ffffff; background-color: #de9ed6\">                    </span><span style=\"color: #ffffff; text-decoration-color: #ffffff; background-color: #ad494a\">                    </span><span style=\"color: #000000; text-decoration-color: #000000; background-color: #b5cf6b\">                    </span>\n",
              "<span style=\"color: #ffffff; text-decoration-color: #ffffff; background-color: #393b79\">                    </span><span style=\"color: #ffffff; text-decoration-color: #ffffff; background-color: #de9ed6\">                    </span><span style=\"color: #ffffff; text-decoration-color: #ffffff; background-color: #ad494a\">                    </span><span style=\"color: #000000; text-decoration-color: #000000; background-color: #b5cf6b\">                    </span>\n",
              "<span style=\"color: #ffffff; text-decoration-color: #ffffff; background-color: #393b79\">                    </span><span style=\"color: #ffffff; text-decoration-color: #ffffff; background-color: #de9ed6\">                    </span><span style=\"color: #ffffff; text-decoration-color: #ffffff; background-color: #ad494a\">                    </span><span style=\"color: #000000; text-decoration-color: #000000; background-color: #b5cf6b\">                    </span>\n",
              "<span style=\"color: #ffffff; text-decoration-color: #ffffff; background-color: #393b79\">                    </span><span style=\"color: #ffffff; text-decoration-color: #ffffff; background-color: #de9ed6\">                    </span><span style=\"color: #ffffff; text-decoration-color: #ffffff; background-color: #ad494a\">                    </span><span style=\"color: #000000; text-decoration-color: #000000; background-color: #b5cf6b\">                    </span>\n",
              "<span style=\"color: #ffffff; text-decoration-color: #ffffff; background-color: #393b79\">                    </span><span style=\"color: #ffffff; text-decoration-color: #ffffff; background-color: #de9ed6\">                    </span><span style=\"color: #ffffff; text-decoration-color: #ffffff; background-color: #ad494a\">                    </span><span style=\"color: #000000; text-decoration-color: #000000; background-color: #b5cf6b\">                    </span>\n",
              "<span style=\"color: #ffffff; text-decoration-color: #ffffff; background-color: #393b79\">                    </span><span style=\"color: #ffffff; text-decoration-color: #ffffff; background-color: #de9ed6\">                    </span><span style=\"color: #ffffff; text-decoration-color: #ffffff; background-color: #ad494a\">                    </span><span style=\"color: #000000; text-decoration-color: #000000; background-color: #b5cf6b\">                    </span>\n",
              "<span style=\"color: #ffffff; text-decoration-color: #ffffff; background-color: #393b79\">                    </span><span style=\"color: #ffffff; text-decoration-color: #ffffff; background-color: #de9ed6\">                    </span><span style=\"color: #ffffff; text-decoration-color: #ffffff; background-color: #ad494a\">                    </span><span style=\"color: #000000; text-decoration-color: #000000; background-color: #b5cf6b\">                    </span>\n",
              "<span style=\"color: #ffffff; text-decoration-color: #ffffff; background-color: #393b79\">                    </span><span style=\"color: #ffffff; text-decoration-color: #ffffff; background-color: #de9ed6\">                    </span><span style=\"color: #ffffff; text-decoration-color: #ffffff; background-color: #ad494a\">                    </span><span style=\"color: #000000; text-decoration-color: #000000; background-color: #b5cf6b\">                    </span>\n",
              "<span style=\"color: #ffffff; text-decoration-color: #ffffff; background-color: #393b79\">                    </span><span style=\"color: #ffffff; text-decoration-color: #ffffff; background-color: #de9ed6\">                    </span><span style=\"color: #ffffff; text-decoration-color: #ffffff; background-color: #ad494a\">                    </span><span style=\"color: #000000; text-decoration-color: #000000; background-color: #b5cf6b\">                    </span>\n",
              "</pre>\n"
            ]
          },
          "metadata": {}
        },
        {
          "output_type": "stream",
          "name": "stdout",
          "text": [
            "\n",
            "Linear2 kernel sharding (2048, 128):\n"
          ]
        },
        {
          "output_type": "display_data",
          "data": {
            "text/plain": [
              "\u001b[38;2;255;255;255;48;2;57;59;121m         \u001b[0m\n",
              "\u001b[38;2;255;255;255;48;2;57;59;121m \u001b[0m\u001b[38;2;255;255;255;48;2;57;59;121mTPU 0,6\u001b[0m\u001b[38;2;255;255;255;48;2;57;59;121m \u001b[0m\n",
              "\u001b[38;2;255;255;255;48;2;57;59;121m         \u001b[0m\n",
              "\u001b[38;2;255;255;255;48;2;222;158;214m         \u001b[0m\n",
              "\u001b[38;2;255;255;255;48;2;222;158;214m \u001b[0m\u001b[38;2;255;255;255;48;2;222;158;214mTPU 1,7\u001b[0m\u001b[38;2;255;255;255;48;2;222;158;214m \u001b[0m\n",
              "\u001b[38;2;255;255;255;48;2;222;158;214m         \u001b[0m\n",
              "\u001b[38;2;255;255;255;48;2;173;73;74m         \u001b[0m\n",
              "\u001b[38;2;255;255;255;48;2;173;73;74m \u001b[0m\u001b[38;2;255;255;255;48;2;173;73;74mTPU 2,4\u001b[0m\u001b[38;2;255;255;255;48;2;173;73;74m \u001b[0m\n",
              "\u001b[38;2;255;255;255;48;2;173;73;74m         \u001b[0m\n",
              "\u001b[38;2;0;0;0;48;2;181;207;107m         \u001b[0m\n",
              "\u001b[38;2;0;0;0;48;2;181;207;107m \u001b[0m\u001b[38;2;0;0;0;48;2;181;207;107mTPU 3,5\u001b[0m\u001b[38;2;0;0;0;48;2;181;207;107m \u001b[0m\n",
              "\u001b[38;2;0;0;0;48;2;181;207;107m         \u001b[0m\n"
            ],
            "text/html": [
              "<pre style=\"white-space:pre;overflow-x:auto;line-height:normal;font-family:Menlo,'DejaVu Sans Mono',consolas,'Courier New',monospace\"><span style=\"color: #ffffff; text-decoration-color: #ffffff; background-color: #393b79\">         </span>\n",
              "<span style=\"color: #ffffff; text-decoration-color: #ffffff; background-color: #393b79\"> TPU 0,6 </span>\n",
              "<span style=\"color: #ffffff; text-decoration-color: #ffffff; background-color: #393b79\">         </span>\n",
              "<span style=\"color: #ffffff; text-decoration-color: #ffffff; background-color: #de9ed6\">         </span>\n",
              "<span style=\"color: #ffffff; text-decoration-color: #ffffff; background-color: #de9ed6\"> TPU 1,7 </span>\n",
              "<span style=\"color: #ffffff; text-decoration-color: #ffffff; background-color: #de9ed6\">         </span>\n",
              "<span style=\"color: #ffffff; text-decoration-color: #ffffff; background-color: #ad494a\">         </span>\n",
              "<span style=\"color: #ffffff; text-decoration-color: #ffffff; background-color: #ad494a\"> TPU 2,4 </span>\n",
              "<span style=\"color: #ffffff; text-decoration-color: #ffffff; background-color: #ad494a\">         </span>\n",
              "<span style=\"color: #000000; text-decoration-color: #000000; background-color: #b5cf6b\">         </span>\n",
              "<span style=\"color: #000000; text-decoration-color: #000000; background-color: #b5cf6b\"> TPU 3,5 </span>\n",
              "<span style=\"color: #000000; text-decoration-color: #000000; background-color: #b5cf6b\">         </span>\n",
              "</pre>\n"
            ]
          },
          "metadata": {}
        }
      ],
      "source": [
        "@nnx.jit\n",
        "def create_model():\n",
        "  model = MLP(128, 2048, 128, rngs=nnx.Rngs(0))\n",
        "  optimizer = SGD(nnx.variables(model, nnx.Param), 0.01, decay=0.9)\n",
        "\n",
        "  # Extract state\n",
        "  state = nnx.state(optimizer)\n",
        "\n",
        "  # Define sharding for the state pytree\n",
        "  def get_named_shardings(path: tuple, value: nnx.VariableState):\n",
        "    if path[0] == 'params':\n",
        "      return value.replace(NamedSharding(mesh, P(*value.sharding)))\n",
        "    elif path[0] == 'momentum':\n",
        "      return value.replace(NamedSharding(mesh, P(*value.sharding)))\n",
        "    else:\n",
        "      raise ValueError(f'Unknown path: {path}')\n",
        "\n",
        "  named_shardings = state.map(get_named_shardings)\n",
        "  sharded_state = jax.lax.with_sharding_constraint(state, named_shardings)\n",
        "  nnx.update(optimizer, sharded_state)\n",
        "\n",
        "  return model, optimizer\n",
        "\n",
        "model, optimizer = create_model()\n",
        "\n",
        "# Visualize sharding\n",
        "print(\"Linear1 kernel sharding (128, 2048):\")\n",
        "jax.debug.visualize_array_sharding(model.linear1.kernel.value)\n",
        "print(\"\\nLinear2 kernel sharding (2048, 128):\")\n",
        "jax.debug.visualize_array_sharding(model.linear2.kernel.value)"
      ]
    },
    {
      "cell_type": "markdown",
      "id": "0bcf251c",
      "metadata": {
        "id": "0bcf251c"
      },
      "source": [
        "### 2.6 Distributed Training"
      ]
    },
    {
      "cell_type": "code",
      "execution_count": 9,
      "id": "ca7002f6",
      "metadata": {
        "id": "ca7002f6"
      },
      "outputs": [],
      "source": [
        "# JIT-compile the training step function.\n",
        "@nnx.jit\n",
        "def train_step(model: MLP, optimizer: SGD, x, y):\n",
        "  # Define the loss function (Mean Squared Error).\n",
        "  # Takes the model object as input, consistent with nnx.value_and_grad.\n",
        "  def loss_fn(model):\n",
        "    y_pred = model(x) # Forward pass\n",
        "    loss = jnp.mean((y - y_pred) ** 2)\n",
        "    return loss\n",
        "\n",
        "  # Calculate loss and gradients w.r.t the model's state (its nnx.Param variables).\n",
        "  # 'grad' will be an nnx.State object mirroring model's Param structure.\n",
        "  loss, grad = nnx.value_and_grad(loss_fn)(model)\n",
        "\n",
        "  # Call the optimizer's update method to apply gradients.\n",
        "  # This updates the model parameters in-place.\n",
        "  optimizer.update(grad)\n",
        "\n",
        "  # Return the calculated loss.\n",
        "  return loss\n"
      ]
    },
    {
      "cell_type": "markdown",
      "id": "7296dd13",
      "metadata": {
        "id": "7296dd13"
      },
      "source": [
        "### 2.7 Training Loop and Results"
      ]
    },
    {
      "cell_type": "code",
      "execution_count": 10,
      "id": "ba4d14ce",
      "metadata": {
        "id": "ba4d14ce"
      },
      "outputs": [],
      "source": [
        "# Dataset function (as before)\n",
        "def dataset(steps, batch_size):\n",
        "  \"\"\"Generate 128D sequence data with underlying pattern.\"\"\"\n",
        "  for _ in range(steps):\n",
        "    # Generate base signal\n",
        "    t = np.linspace(0, 4*np.pi, 128)\n",
        "    base_patterns = np.array([\n",
        "      np.sin(t + np.random.uniform(0, 2*np.pi)),\n",
        "      np.cos(2*t + np.random.uniform(0, 2*np.pi)),\n",
        "      np.sin(3*t + np.random.uniform(0, 2*np.pi))\n",
        "    ])\n",
        "\n",
        "    # Create batch of sequences\n",
        "    x = np.zeros((batch_size, 128))\n",
        "    y = np.zeros((batch_size, 128))\n",
        "\n",
        "    for i in range(batch_size):\n",
        "      # Mix base patterns with random weights\n",
        "      weights = np.random.randn(3)\n",
        "      signal = np.sum(weights[:, np.newaxis] * base_patterns, axis=0)\n",
        "\n",
        "      # Add noise\n",
        "      x[i] = signal + np.random.normal(0, 0.1, 128)\n",
        "\n",
        "      # Output is a non-linear transformation of input\n",
        "      y[i] = np.roll(x[i], 5) * 0.8 + 0.1 * x[i]**2\n",
        "      y[i] += np.random.normal(0, 0.05, 128)\n",
        "\n",
        "    yield x.astype(np.float32), y.astype(np.float32)\n"
      ]
    },
    {
      "cell_type": "code",
      "execution_count": 11,
      "id": "beed9e47",
      "metadata": {
        "colab": {
          "base_uri": "https://localhost:8080/"
        },
        "id": "beed9e47",
        "outputId": "0a46bed1-5f28-4daf-f2cc-88441a0702c3"
      },
      "outputs": [
        {
          "output_type": "stream",
          "name": "stdout",
          "text": [
            "Step 0: Loss = 1.7442927360534668\n",
            "Step 100: Loss = 0.13562121987342834\n",
            "Step 200: Loss = 0.10096409171819687\n",
            "Step 300: Loss = 0.07630820572376251\n",
            "Step 400: Loss = 0.06262542307376862\n",
            "Step 500: Loss = 0.05251384899020195\n"
          ]
        }
      ],
      "source": [
        "# Training Loop\n",
        "losses = []\n",
        "for step, (x_batch, y_batch) in enumerate(\n",
        "  dataset(batch_size=8192, steps=501)\n",
        "):\n",
        "  # Shard data along 'data' axis\n",
        "  x_batch, y_batch = jax.device_put((x_batch, y_batch), named_sharding('data'))\n",
        "\n",
        "  loss = train_step(model, optimizer, x_batch, y_batch)\n",
        "  losses.append(float(loss))\n",
        "\n",
        "  if step % 100 == 0:\n",
        "    print(f'Step {step}: Loss = {loss}')"
      ]
    },
    {
      "cell_type": "code",
      "execution_count": 12,
      "id": "7dcef594",
      "metadata": {
        "id": "7dcef594",
        "outputId": "a406443e-480f-4462-877d-9afeef367b04",
        "colab": {
          "base_uri": "https://localhost:8080/",
          "height": 490
        }
      },
      "outputs": [
        {
          "output_type": "execute_result",
          "data": {
            "text/plain": [
              "Text(0, 0.5, 'MSE Loss')"
            ]
          },
          "metadata": {},
          "execution_count": 12
        },
        {
          "output_type": "display_data",
          "data": {
            "text/plain": [
              "<Figure size 640x480 with 1 Axes>"
            ],
            "image/png": "[encoded data removed]"
          },
          "metadata": {}
        }
      ],
      "source": [
        "# --- Plotting Results ---\n",
        "plt.figure()\n",
        "plt.title(\"Training Loss\")\n",
        "plt.plot(losses)\n",
        "plt.xlabel(\"Step\")\n",
        "plt.ylabel(\"MSE Loss\")"
      ]
    },
    {
      "cell_type": "code",
      "execution_count": 13,
      "id": "f780e782",
      "metadata": {
        "id": "f780e782",
        "outputId": "3f32dc47-64c8-404f-fd2d-26825e6ea7a4",
        "colab": {
          "base_uri": "https://localhost:8080/",
          "height": 312
        }
      },
      "outputs": [
        {
          "output_type": "display_data",
          "data": {
            "text/plain": [
              "<Figure size 1200x600 with 1 Axes>"
            ],
            "image/png": "[encoded data removed]"
          },
          "metadata": {}
        }
      ],
      "source": [
        "x_test, y_test = next(dataset(1, 1))\n",
        "y_pred = model(x_test)\n",
        "\n",
        "plt.figure(figsize=(12, 6))\n",
        "plt.subplot(2, 1, 1)\n",
        "plt.plot(x_test[0], label='Input Sequence', alpha=0.8)\n",
        "plt.plot(y_test[0], label='Target Sequence', alpha=0.8)\n",
        "plt.plot(y_pred[0], label='Predicted Sequence', linestyle='--', alpha=0.8)\n",
        "plt.xlabel('Sequence Position')\n",
        "plt.ylabel('Value')\n",
        "plt.title('Example Sequence Prediction')\n",
        "plt.legend()\n",
        "plt.grid(True, alpha=0.3)"
      ]
    },
    {
      "cell_type": "markdown",
      "id": "aa58e237",
      "metadata": {
        "id": "aa58e237"
      },
      "source": [
        "## 3. Transformer Scaling with Tensor Parallelism"
      ]
    },
    {
      "cell_type": "markdown",
      "id": "373419be",
      "metadata": {
        "id": "373419be"
      },
      "source": [
        "![Megatraon-LM](https://docs.pytorch.org/tutorials/_images/megatron_lm.png)"
      ]
    },
    {
      "cell_type": "markdown",
      "id": "a36c340b",
      "metadata": {
        "id": "a36c340b"
      },
      "source": [
        "<sup> Image Source: [Megatron-LM](https://arxiv.org/abs/1909.08053) </sup>"
      ]
    },
    {
      "cell_type": "markdown",
      "id": "97fa5689",
      "metadata": {
        "id": "97fa5689"
      },
      "source": [
        "## 4. Scaling Transformers in Flax"
      ]
    },
    {
      "cell_type": "markdown",
      "id": "XxWJxaO6WkGW",
      "metadata": {
        "id": "XxWJxaO6WkGW"
      },
      "source": [
        "### 4.1 Setup for training a small Transformer Language Model"
      ]
    },
    {
      "cell_type": "code",
      "execution_count": null,
      "id": "OJNWFSa7WvJl",
      "metadata": {
        "colab": {
          "base_uri": "https://localhost:8080/"
        },
        "id": "OJNWFSa7WvJl",
        "outputId": "7736de6b-3216-45f1-94a0-3c54396e4a29"
      },
      "outputs": [
        {
          "name": "stdout",
          "output_type": "stream",
          "text": [
            "--2025-06-17 01:06:45--  https://huggingface.co/datasets/roneneldan/TinyStories/resolve/main/TinyStories-train.txt?download=true\n",
            "Resolving huggingface.co (huggingface.co)... 18.172.134.124, 18.172.134.24, 18.172.134.4, ...\n",
            "Connecting to huggingface.co (huggingface.co)|18.172.134.124|:443... connected.\n",
            "HTTP request sent, awaiting response... 302 Found\n",
            "Location: https://cdn-lfs.hf.co/repos/42/7f/427f7497b6c6596c18b46d5a72e61364fcad12aa433c60a0dbd4d344477b9d81/c5cf5e22ff13614e830afbe61a99fbcbe8bcb7dd72252b989fa1117a368d401f?response-content-disposition=attachment%3B+filename*%3DUTF-8%27%27TinyStories-train.txt%3B+filename%3D%22TinyStories-train.txt%22%3B&response-content-type=text%2Fplain&Expires=1750126005&Policy=eyJTdGF0ZW1lbnQiOlt7IkNvbmRpdGlvbiI6eyJEYXRlTGVzc1RoYW4iOnsiQVdTOkVwb2NoVGltZSI6MTc1MDEyNjAwNX19LCJSZXNvdXJjZSI6Imh0dHBzOi8vY2RuLWxmcy5oZi5jby9yZXBvcy80Mi83Zi80MjdmNzQ5N2I2YzY1OTZjMThiNDZkNWE3MmU2MTM2NGZjYWQxMmFhNDMzYzYwYTBkYmQ0ZDM0NDQ3N2I5ZDgxL2M1Y2Y1ZTIyZmYxMzYxNGU4MzBhZmJlNjFhOTlmYmNiZThiY2I3ZGQ3MjI1MmI5ODlmYTExMTdhMzY4ZDQwMWY%7EcmVzcG9uc2UtY29udGVudC1kaXNwb3NpdGlvbj0qJnJlc3BvbnNlLWNvbnRlbnQtdHlwZT0qIn1dfQ__&Signature=N0bHmaWe-%7ETjLo%7EkOX31-6FqrTQ-DLzyfXMhj%7EbqyA6xO2WHPmBAUIIPZgpB77wo-Fx0MG-I4VZ-3G-PUwDvPzDlcUw5tE61MQygGqynyv4C5MMn91pe0LVp230V73Wb7KC-gsrYLaqym%7Ec1lyq72FTu0dLVwf8JD5aHyVi6WrQ9WJas7Id2cZCMAyXymIfsxC6eLebaSkiSzYT6Y11y0pC36A5imVZca-psHhL3AY-anuW53lmGl0wV1ZAWeGoqLd8OzB4Hxs0t9CnEgf0mqWYZhtG989Zc5Rzmfj%7EhE4kDIh%7EQqq-8Pn8%7EaUk%7EYAnpjanaE%7E30FWZlJzaGms1DXQ__&Key-Pair-Id=K3RPWS32NSSJCE [following]\n",
            "--2025-06-17 01:06:45--  https://cdn-lfs.hf.co/repos/42/7f/427f7497b6c6596c18b46d5a72e61364fcad12aa433c60a0dbd4d344477b9d81/c5cf5e22ff13614e830afbe61a99fbcbe8bcb7dd72252b989fa1117a368d401f?response-content-disposition=attachment%3B+filename*%3DUTF-8%27%27TinyStories-train.txt%3B+filename%3D%22TinyStories-train.txt%22%3B&response-content-type=text%2Fplain&Expires=1750126005&Policy=eyJTdGF0ZW1lbnQiOlt7IkNvbmRpdGlvbiI6eyJEYXRlTGVzc1RoYW4iOnsiQVdTOkVwb2NoVGltZSI6MTc1MDEyNjAwNX19LCJSZXNvdXJjZSI6Imh0dHBzOi8vY2RuLWxmcy5oZi5jby9yZXBvcy80Mi83Zi80MjdmNzQ5N2I2YzY1OTZjMThiNDZkNWE3MmU2MTM2NGZjYWQxMmFhNDMzYzYwYTBkYmQ0ZDM0NDQ3N2I5ZDgxL2M1Y2Y1ZTIyZmYxMzYxNGU4MzBhZmJlNjFhOTlmYmNiZThiY2I3ZGQ3MjI1MmI5ODlmYTExMTdhMzY4ZDQwMWY%7EcmVzcG9uc2UtY29udGVudC1kaXNwb3NpdGlvbj0qJnJlc3BvbnNlLWNvbnRlbnQtdHlwZT0qIn1dfQ__&Signature=N0bHmaWe-%7ETjLo%7EkOX31-6FqrTQ-DLzyfXMhj%7EbqyA6xO2WHPmBAUIIPZgpB77wo-Fx0MG-I4VZ-3G-PUwDvPzDlcUw5tE61MQygGqynyv4C5MMn91pe0LVp230V73Wb7KC-gsrYLaqym%7Ec1lyq72FTu0dLVwf8JD5aHyVi6WrQ9WJas7Id2cZCMAyXymIfsxC6eLebaSkiSzYT6Y11y0pC36A5imVZca-psHhL3AY-anuW53lmGl0wV1ZAWeGoqLd8OzB4Hxs0t9CnEgf0mqWYZhtG989Zc5Rzmfj%7EhE4kDIh%7EQqq-8Pn8%7EaUk%7EYAnpjanaE%7E30FWZlJzaGms1DXQ__&Key-Pair-Id=K3RPWS32NSSJCE\n",
            "Resolving cdn-lfs.hf.co (cdn-lfs.hf.co)... 3.167.152.37, 3.167.152.106, 3.167.152.12, ...\n",
            "Connecting to cdn-lfs.hf.co (cdn-lfs.hf.co)|3.167.152.37|:443... connected.\n",
            "HTTP request sent, awaiting response... 200 OK\n",
            "Length: 1924281556 (1.8G) [text/plain]\n",
            "Saving to: ‘TinyStories-train.txt’\n",
            "\n",
            "TinyStories-train.t 100%[===================>]   1.79G   311MB/s    in 6.0s    \n",
            "\n",
            "2025-06-17 01:06:52 (304 MB/s) - ‘TinyStories-train.txt’ saved [1924281556/1924281556]\n",
            "\n"
          ]
        }
      ],
      "source": [
        "!wget https://huggingface.co/datasets/roneneldan/TinyStories/resolve/main/TinyStories-train.txt?download=true -O TinyStories-train.txt"
      ]
    },
    {
      "cell_type": "code",
      "execution_count": null,
      "id": "24340e12",
      "metadata": {
        "id": "24340e12"
      },
      "outputs": [],
      "source": [
        "from dataclasses import dataclass\n",
        "import grain.python as pygrain\n",
        "import pandas as pd\n",
        "import tiktoken\n",
        "import time"
      ]
    },
    {
      "cell_type": "code",
      "execution_count": null,
      "id": "QR2QYRa1W_-u",
      "metadata": {
        "id": "QR2QYRa1W_-u"
      },
      "outputs": [],
      "source": [
        "tokenizer = tiktoken.get_encoding(\"gpt2\")"
      ]
    },
    {
      "cell_type": "markdown",
      "id": "6UywwoVBX47m",
      "metadata": {
        "id": "6UywwoVBX47m"
      },
      "source": [
        "### 5.2 Define a 2D Mesh"
      ]
    },
    {
      "cell_type": "code",
      "execution_count": null,
      "id": "5UUusIPNX8qs",
      "metadata": {
        "id": "5UUusIPNX8qs"
      },
      "outputs": [],
      "source": [
        "# Create a `Mesh` object representing TPU device arrangement.\n",
        "mesh = Mesh(mesh_utils.create_device_mesh((4, 2)), ('batch', 'model'))"
      ]
    },
    {
      "cell_type": "markdown",
      "id": "pDp_YV17XAVI",
      "metadata": {
        "id": "pDp_YV17XAVI"
      },
      "source": [
        "### 5.3 Define the Sharded Transformer in Flax"
      ]
    },
    {
      "cell_type": "markdown",
      "id": "ZswcXmfvXqVh",
      "metadata": {
        "id": "ZswcXmfvXqVh"
      },
      "source": [
        "#### 5.3.1 Define Sharded Transformer Block"
      ]
    },
    {
      "cell_type": "code",
      "execution_count": null,
      "id": "KpmgWSdIXuLO",
      "metadata": {
        "id": "KpmgWSdIXuLO"
      },
      "outputs": [],
      "source": [
        "# Define a triangular mask for causal attention with `jax.numpy.tril` and `jax.numpy.ones`.\n",
        "def causal_attention_mask(seq_len):\n",
        "    return jnp.tril(jnp.ones((seq_len, seq_len)))"
      ]
    },
    {
      "cell_type": "code",
      "execution_count": null,
      "id": "1uyVHA9bXI9S",
      "metadata": {
        "id": "1uyVHA9bXI9S"
      },
      "outputs": [],
      "source": [
        "class TransformerBlock(nnx.Module):\n",
        "    \"\"\" A single Transformer block.\n",
        "\n",
        "    Each Transformer block processes input sequences via self-attention and feed-forward networks.\n",
        "\n",
        "    Args:\n",
        "        embed_dim (int): Embedding dimensionality.\n",
        "        num_heads (int): Number of attention heads.\n",
        "        ff_dim (int): Dimensionality of the feed-forward network.\n",
        "        rngs (flax.nnx.Rngs): A Flax NNX stream of JAX PRNG keys.\n",
        "        rate (float): Dropout rate. Defaults to 0.1.\n",
        "    \"\"\"\n",
        "    def __init__(self, embed_dim: int, num_heads: int, ff_dim: int, *, rngs: nnx.Rngs, rate: float = 0.1):\n",
        "        # Multi-Head Attention (MHA) with `flax.nnx.MultiHeadAttention`.\n",
        "        # Specifies tensor sharding (depending on the mesh configuration)\n",
        "        # where we shard the weights across devices for parallel computation.\n",
        "        self.mha = nnx.MultiHeadAttention(num_heads=num_heads,\n",
        "                                          in_features=embed_dim,\n",
        "                                          kernel_init=nnx.with_partitioning(nnx.initializers.xavier_uniform(), NamedSharding(mesh, P(None, 'model'))),\n",
        "                                          bias_init=nnx.with_partitioning(nnx.initializers.zeros_init(), NamedSharding(mesh, P('model'))),\n",
        "                                          rngs=rngs)\n",
        "        # The first dropout with `flax.nnx.Dropout`.\n",
        "        self.dropout1 = nnx.Dropout(rate=rate)\n",
        "        # First layer normalization with `flax.nnx.LayerNorm`.\n",
        "        self.layer_norm1 = nnx.LayerNorm(epsilon=1e-6,\n",
        "                                         num_features=embed_dim,\n",
        "                                         scale_init=nnx.with_partitioning(nnx.initializers.ones_init(), NamedSharding(mesh, P('model'))),\n",
        "                                         bias_init=nnx.with_partitioning(nnx.initializers.zeros_init(), NamedSharding(mesh, P('model'))),\n",
        "                                         rngs=rngs)\n",
        "        # The first linear transformation for the feed-forward network with `flax.nnx.Linear`.\n",
        "        self.linear1 = nnx.Linear(in_features=embed_dim,\n",
        "                                  out_features=ff_dim,\n",
        "                                  kernel_init=nnx.with_partitioning(nnx.initializers.xavier_uniform(), NamedSharding(mesh, P(None, 'model'))),\n",
        "                                  bias_init=nnx.with_partitioning(nnx.initializers.zeros_init(), NamedSharding(mesh, P('model'))),\n",
        "                                  rngs=rngs)\n",
        "        # The second linear transformation for the feed-forward network with `flax.nnx.Linear`.\n",
        "        self.linear2 = nnx.Linear(in_features=ff_dim,\n",
        "                                  out_features=embed_dim,\n",
        "                                  kernel_init=nnx.with_partitioning(nnx.initializers.xavier_uniform(), NamedSharding(mesh, P(None, 'model'))),\n",
        "                                  bias_init=nnx.with_partitioning(nnx.initializers.zeros_init(), NamedSharding(mesh, P('model'))),\n",
        "                                  rngs=rngs)\n",
        "        # The second dropout with `flax.nnx.Dropout`.\n",
        "        self.dropout2 = nnx.Dropout(rate=rate)\n",
        "        # Second layer normalization with `flax.nnx.LayerNorm`.\n",
        "        self.layer_norm2 = nnx.LayerNorm(epsilon=1e-6,\n",
        "                                         num_features=embed_dim,\n",
        "                                         scale_init=nnx.with_partitioning(nnx.initializers.ones_init(), NamedSharding(mesh, P(None, 'model'))),\n",
        "                                         bias_init=nnx.with_partitioning(nnx.initializers.zeros_init(), NamedSharding(mesh, P(None, 'model'))),\n",
        "                                         rngs=rngs)\n",
        "\n",
        "\n",
        "    # Apply the Transformer block to the input sequence.\n",
        "    def __call__(self, inputs, training: bool = False):\n",
        "        input_shape = inputs.shape\n",
        "        _, seq_len, _ = input_shape\n",
        "\n",
        "        # Instantiate the causal attention mask.\n",
        "        mask = causal_attention_mask(seq_len)\n",
        "\n",
        "        # Apply Multi-Head Attention with the causal attention mask.\n",
        "        attention_output = self.mha(\n",
        "            inputs_q=inputs,\n",
        "            mask=mask,\n",
        "            decode=False\n",
        "        )\n",
        "        # Apply the first dropout.\n",
        "        attention_output = self.dropout1(attention_output, deterministic=not training)\n",
        "        # Apply the first layer normalization.\n",
        "        out1 = self.layer_norm1(inputs + attention_output)\n",
        "\n",
        "        # The feed-forward network.\n",
        "        # Apply the first linear transformation.\n",
        "        ffn_output = self.linear1(out1)\n",
        "        # Apply the ReLU activation with `flax.nnx.relu`.\n",
        "        ffn_output = nnx.relu(ffn_output)\n",
        "        # Apply the second linear transformation.\n",
        "        ffn_output = self.linear2(ffn_output)\n",
        "        # Apply the second dropout.\n",
        "        ffn_output = self.dropout2(ffn_output, deterministic=not training)\n",
        "        # Apply the second layer normalization and return the output of the Transformer block.\n",
        "        return self.layer_norm2(out1 + ffn_output)\n"
      ]
    },
    {
      "cell_type": "markdown",
      "id": "J-FnRQnLXk4p",
      "metadata": {
        "id": "J-FnRQnLXk4p"
      },
      "source": [
        "#### 5.3.2 Define Embeddings"
      ]
    },
    {
      "cell_type": "code",
      "execution_count": null,
      "id": "ELCpQVw9XkO7",
      "metadata": {
        "id": "ELCpQVw9XkO7"
      },
      "outputs": [],
      "source": [
        "class TokenAndPositionEmbedding(nnx.Module):\n",
        "    \"\"\" Combines token embeddings (words in an input sentence) with\n",
        "    positional embeddings (the position of each word in a sentence).\n",
        "\n",
        "    Args:\n",
        "        maxlen (int): Matimum sequence length.\n",
        "        vocal_size (int): Vocabulary size.\n",
        "        embed_dim (int): Embedding dimensionality.\n",
        "        rngs (flax.nnx.Rngs): A Flax NNX stream of JAX PRNG keys.\n",
        "    \"\"\"\n",
        "    def __init__(self, maxlen: int, vocab_size: int, embed_dim: int, *, rngs: nnx.Rngs):\n",
        "        # Initialize token embeddings (using `flax.nnx.Embed`).\n",
        "        # Each unique word has an embedding vector.\n",
        "        self.token_emb = nnx.Embed(num_embeddings=vocab_size, features=embed_dim, rngs=rngs)\n",
        "        # Initialize positional embeddings (using `flax.nnx.Embed`).\n",
        "        self.pos_emb = nnx.Embed(num_embeddings=maxlen, features=embed_dim, rngs=rngs)\n",
        "\n",
        "    # Takes a token sequence (integers) and returns the combined token and positional embeddings.\n",
        "    def __call__(self, x):\n",
        "        # Generate a sequence of positions for the input tokens.\n",
        "        positions = jnp.arange(0, x.shape[1])[None, :]\n",
        "        # Look up the positional embeddings for each position in the input sequence.\n",
        "        position_embedding = self.pos_emb(positions)\n",
        "        # Look up the token embeddings for each token in the input sequence.\n",
        "        token_embedding = self.token_emb(x)\n",
        "        # Combine token and positional embeddings.\n",
        "        return token_embedding + position_embedding\n"
      ]
    },
    {
      "cell_type": "markdown",
      "id": "ZA6K73cDXb1t",
      "metadata": {
        "id": "ZA6K73cDXb1t"
      },
      "source": [
        "#### 5.3.3 Define the Transformer Module"
      ]
    },
    {
      "cell_type": "code",
      "execution_count": null,
      "id": "RGT3M7G_XagA",
      "metadata": {
        "id": "RGT3M7G_XagA"
      },
      "outputs": [],
      "source": [
        "class MiniGPT(nnx.Module):\n",
        "    \"\"\" A miniGPT transformer model, inherits from `flax.nnx.Module`.\n",
        "\n",
        "    Args:\n",
        "        maxlen (int): Maximum sequence length.\n",
        "        vocab_size (int): Vocabulary size.\n",
        "        embed_dim (int): Embedding dimensionality.\n",
        "        num_heads (int): Number of attention heads.\n",
        "        feed_forward_dim (int): Dimensionality of the feed-forward network.\n",
        "        num_transformer_blocks (int): Number of transformer blocks. Each block contains attention and feed-forward networks.\n",
        "        rngs (nnx.Rngs): A Flax NNX stream of JAX PRNG keys.\n",
        "    \"\"\"\n",
        "    # Initialize miniGPT model components.\n",
        "    def __init__(self, maxlen: int, vocab_size: int, embed_dim: int, num_heads: int, feed_forward_dim: int, num_transformer_blocks: int, rngs: nnx.Rngs):\n",
        "        # Initiliaze the `TokenAndPositionEmbedding` that combines token and positional embeddings.\n",
        "        self.embedding_layer = TokenAndPositionEmbedding(\n",
        "                    maxlen, vocab_size, embed_dim, rngs=rngs\n",
        "                )\n",
        "        # Create a list of `TransformerBlock` instances.\n",
        "        # Each block processes input sequences using attention and feed-forward networks.\n",
        "        self.transformer_blocks = [TransformerBlock(\n",
        "            embed_dim, num_heads, feed_forward_dim, rngs=rngs\n",
        "        ) for _ in range(num_transformer_blocks)]\n",
        "        # Initialize the output `flax.nnx.Linear` layer producing logits over the vocabulary for next-token prediction.\n",
        "        self.output_layer = nnx.Linear(in_features=embed_dim,\n",
        "                                       out_features=vocab_size,\n",
        "                                       kernel_init=nnx.with_partitioning(nnx.initializers.xavier_uniform(), NamedSharding(mesh, P(None, 'model'))),\n",
        "                                       bias_init=nnx.with_partitioning(nnx.initializers.zeros_init(), NamedSharding(mesh, P(None, 'model'))),\n",
        "                                       rngs=rngs)\n",
        "\n",
        "    def __call__(self, inputs, training: bool = False):\n",
        "        # Pass the input tokens through the `embedding_layer` to get token embeddings.\n",
        "        # Apply each transformer block sequentially to the embedded input, use the `training` flag for the behavior of `flax.nnx.Dropout`.\n",
        "        x = self.embedding_layer(inputs)\n",
        "        for transformer_block in self.transformer_blocks:\n",
        "            x = transformer_block(x, training=training)\n",
        "        # Pass the output of the transformer blocks through the output layer,\n",
        "        # and obtain logits for each token in the vocabulary (for next token prediction).\n",
        "        outputs = self.output_layer(x)\n",
        "        return outputs\n",
        "\n",
        "    # Text generation.\n",
        "    def generate_text(self, max_tokens: int, start_tokens: [int], top_k=10):\n",
        "        # Sample the next token from a probability distribution based on\n",
        "        # `logits` and `tok_k` (top-k) sampling strategy.\n",
        "        def sample_from(logits):\n",
        "            logits, indices = jax.lax.top_k(logits, k=top_k)\n",
        "            # Convert logits to probabilities (using `flax.nnx.softmax`).\n",
        "            logits = nnx.softmax(logits)\n",
        "            return jax.random.choice(jax.random.PRNGKey(0), indices, p=logits)\n",
        "\n",
        "        # Generate text one token at a time until the maximum token limit is reached (`maxlen`).\n",
        "        def generate_step(start_tokens):\n",
        "            pad_len = maxlen - len(start_tokens)\n",
        "            # Index of the last token in the current sequence.\n",
        "            sample_index = len(start_tokens) - 1\n",
        "            # If the input is longer than `maxlen`, then truncate it.\n",
        "            if pad_len < 0:\n",
        "                x = jnp.array(start_tokens[:maxlen])\n",
        "                sample_index = maxlen - 1\n",
        "            # If the input is shorter than `maxlen`, then pad it (`pad_len`).\n",
        "            elif pad_len > 0:\n",
        "                x = jnp.array(start_tokens + [0] * pad_len)\n",
        "            else:\n",
        "                x = jnp.array(start_tokens)\n",
        "\n",
        "            # Add a batch dimension.\n",
        "            x = x[None, :]\n",
        "            logits = self(x)\n",
        "            next_token = sample_from(logits[0][sample_index])\n",
        "            return next_token\n",
        "\n",
        "        # Store generated tokens.\n",
        "        generated = []\n",
        "        # Generate tokens until the end-of-text token is encountered or the maximum token limit is reached.\n",
        "        for _ in range(max_tokens):\n",
        "            next_token = generate_step(start_tokens + generated)\n",
        "            # Truncate whatever is after '<|endoftext|>' (stop word)\n",
        "            if next_token == tokenizer.encode('<|endoftext|>', allowed_special={'<|endoftext|>'})[0]:\n",
        "              # Stop text generation if the end-of-text token is encountered.\n",
        "              break\n",
        "            generated.append(int(next_token))\n",
        "        # Decode the generated token IDs into text.\n",
        "        return tokenizer.decode(start_tokens + generated)"
      ]
    },
    {
      "cell_type": "markdown",
      "id": "68otGuYcXPxF",
      "metadata": {
        "id": "68otGuYcXPxF"
      },
      "source": [
        "#### 5.3.4 Create the Model"
      ]
    },
    {
      "cell_type": "code",
      "execution_count": null,
      "id": "GDLHM8wrYTPx",
      "metadata": {
        "id": "GDLHM8wrYTPx"
      },
      "outputs": [],
      "source": [
        "vocab_size = tokenizer.n_vocab\n",
        "num_transformer_blocks = 8\n",
        "maxlen = 256\n",
        "embed_dim = 256\n",
        "num_heads = 8\n",
        "feed_forward_dim = 256\n",
        "batch_size = 256\n",
        "num_epochs = 1"
      ]
    },
    {
      "cell_type": "code",
      "execution_count": null,
      "id": "6KUp1vWSXOwn",
      "metadata": {
        "id": "6KUp1vWSXOwn"
      },
      "outputs": [],
      "source": [
        "# Creates the miniGPT model with 4 transformer blocks.\n",
        "def create_model(rngs):\n",
        "    return MiniGPT(maxlen, vocab_size, embed_dim, num_heads, feed_forward_dim, num_transformer_blocks=4, rngs=rngs)"
      ]
    },
    {
      "cell_type": "markdown",
      "id": "rLAJra8HX_Zg",
      "metadata": {
        "id": "rLAJra8HX_Zg"
      },
      "source": [
        "### 5.4 Data Loading"
      ]
    },
    {
      "cell_type": "code",
      "execution_count": null,
      "id": "VrTUOqyTYFN_",
      "metadata": {
        "id": "VrTUOqyTYFN_"
      },
      "outputs": [],
      "source": [
        "@dataclass\n",
        "class TextDataset:\n",
        "    data: list\n",
        "    maxlen: int\n",
        "\n",
        "    def __len__(self):\n",
        "        return len(self.data)\n",
        "\n",
        "    def __getitem__(self, idx: int):\n",
        "        # Use Tiktoken for tokenization\n",
        "        encoding = tokenizer.encode(self.data[idx], allowed_special={'<|endoftext|>'})[:self.maxlen]  # Tokenize and truncate\n",
        "        return encoding + [0] * (self.maxlen - len(encoding))  # Pad to maxlen\n",
        "\n",
        "def load_and_preprocess_data(file_path, batch_size, maxlen):\n",
        "\n",
        "    with open(file_path, 'r') as f:\n",
        "      text = f.read()\n",
        "\n",
        "    stories = text.split('<|endoftext|>')\n",
        "    stories = [story+'<|endoftext|>' for story in stories if story.strip()]\n",
        "    df = pd.DataFrame({'text': stories})\n",
        "    data = df['text'].dropna().tolist()\n",
        "    dataset = TextDataset(data, maxlen)\n",
        "\n",
        "    sampler = pygrain.IndexSampler(\n",
        "        len(dataset),\n",
        "        shuffle=False,\n",
        "        seed=42,\n",
        "        shard_options=pygrain.NoSharding(),\n",
        "        num_epochs=num_epochs,\n",
        "    )\n",
        "\n",
        "    dl = pygrain.DataLoader(\n",
        "        data_source=dataset,\n",
        "        sampler=sampler,\n",
        "        operations=[pygrain.Batch(batch_size=batch_size, drop_remainder=True)],\n",
        "    )\n",
        "\n",
        "    return dl\n",
        "\n",
        "text_dl = load_and_preprocess_data('TinyStories-train.txt', batch_size, maxlen)"
      ]
    },
    {
      "cell_type": "markdown",
      "id": "_4XgtvUWYZz_",
      "metadata": {
        "id": "_4XgtvUWYZz_"
      },
      "source": [
        "### 5.5 Loss Function and Training Step"
      ]
    },
    {
      "cell_type": "code",
      "execution_count": null,
      "id": "Y6h0I6XtYfjM",
      "metadata": {
        "id": "Y6h0I6XtYfjM"
      },
      "outputs": [],
      "source": [
        "# Defines the loss function using `optax.softmax_cross_entropy_with_integer_labels`.\n",
        "def loss_fn(model, batch):\n",
        "    logits = model(batch[0])\n",
        "    loss = optax.softmax_cross_entropy_with_integer_labels(logits=logits, labels=batch[1]).mean()\n",
        "    return loss, logits\n",
        "\n",
        "# Define the training step with the `flax.nnx.jit` transformation decorator.\n",
        "@nnx.jit\n",
        "def train_step(model: MiniGPT, optimizer: nnx.Optimizer, metrics: nnx.MultiMetric, batch):\n",
        "    grad_fn = nnx.value_and_grad(loss_fn, has_aux=True)\n",
        "    (loss, logits), grads = grad_fn(model, batch)\n",
        "    metrics.update(loss=loss, logits=logits, lables=batch[1])\n",
        "    optimizer.update(grads)"
      ]
    },
    {
      "cell_type": "markdown",
      "id": "Gdz1y5rpYggA",
      "metadata": {
        "id": "Gdz1y5rpYggA"
      },
      "source": [
        "### 5.6 Train the model"
      ]
    },
    {
      "cell_type": "code",
      "execution_count": null,
      "id": "_3WJfH3-Yp2N",
      "metadata": {
        "id": "_3WJfH3-Yp2N"
      },
      "outputs": [],
      "source": [
        "model = create_model(rngs=nnx.Rngs(0))\n",
        "optimizer = nnx.Optimizer(model, optax.adam(1e-3))\n",
        "metrics = nnx.MultiMetric(\n",
        "  loss=nnx.metrics.Average('loss'),\n",
        ")\n",
        "rng = jax.random.PRNGKey(0)\n",
        "\n",
        "start_prompt = \"Once upon a time\"\n",
        "start_tokens = tokenizer.encode(start_prompt)[:maxlen]\n",
        "generated_text = model.generate_text(\n",
        "    maxlen, start_tokens\n",
        ")\n",
        "print(f\"Initial generated text:\\n{generated_text}\\n\")\n",
        "\n",
        "\n",
        "metrics_history = {\n",
        "  'train_loss': [],\n",
        "}\n",
        "\n",
        "prep_target_batch = jax.vmap(lambda tokens: jnp.concatenate((tokens[1:], jnp.array([0]))))\n",
        "\n",
        "step = 0\n",
        "for epoch in range(num_epochs):\n",
        "    start_time = time.time()\n",
        "    for batch in text_dl:\n",
        "        if len(batch) % len(jax.devices()) != 0:\n",
        "          continue  # skip the remaining elements\n",
        "        input_batch = jnp.array(jnp.array(batch).T)\n",
        "        target_batch = prep_target_batch(input_batch)\n",
        "        train_step(model, optimizer, metrics, jax.device_put((input_batch, target_batch), NamedSharding(mesh, P('batch', None))))\n",
        "\n",
        "        if (step + 1) % 200 == 0:\n",
        "          for metric, value in metrics.compute().items():\n",
        "              metrics_history[f'train_{metric}'].append(value)\n",
        "          metrics.reset()\n",
        "\n",
        "          elapsed_time = time.time() - start_time\n",
        "          print(f\"Step {step + 1}, Loss: {metrics_history['train_loss'][-1]}, Elapsed Time: {elapsed_time:.2f} seconds\")\n",
        "          start_time = time.time()\n",
        "\n",
        "          generated_text = model.generate_text(\n",
        "              maxlen, start_tokens\n",
        "          )\n",
        "          print(f\"Generated text:\\n{generated_text}\\n\")\n",
        "        step += 1\n",
        "\n",
        "# Final text generation\n",
        "generated_text = model.generate_text(\n",
        "    maxlen, start_tokens\n",
        ")\n",
        "print(f\"Final generated text:\\n{generated_text}\")"
      ]
    },
    {
      "cell_type": "markdown",
      "id": "6b08042b",
      "metadata": {
        "id": "6b08042b"
      },
      "source": [
        "**LLM Output**\n",
        "\n",
        "```\n",
        "Initial generated text:\n",
        "Once upon a timeaciaGender gearuser Analysisval {} Bruce Lauren helic Lauren Bruce againstliterally SQU retire Path {}valascript northwest {} Bruceuit Pathascript northwestdrops freelyvic996 curated hysteria survivor {}sclaxteradvert Sitting qualifiers snack {} scenariovalameron {} Path {}Nick VeganExcept peasantascript Whites retire {} retire {} Analysisrest {} Mine psychedelic flankForgeModLoader Path Bravo {} inflic {} strutConnector psychedelic beyond Beforeocker interesting Dani {}sclaxter retire {}Nick sorrow Typesrest interestingUV FSyrus resorts {} Dani {} perished {} retire interesting sorrow reversibleurned {} Womanlast 118 reass gentlestudyManager {} retire {} verb Captain forbid Bruce {} Analysis ox {} inexplicable tumor psychedelic {} serverpel perished Tang {} cropDisclaimeruti nond {} scenario teach serverlast {} Woman {}absor northwestroid variable {} Whites {} dancers iPod {} {}valolate Assist hiding ox {}ampionscre lineman servesShould decision psychedelicShould beyondwaves {} retire interesting Tangresterv ribbon complicationsaggressiverest {} SessionSmith {}Nick abnorm dissatisfiedundrum {} perished {} Gustav rolled shamefulundrum retire {}valundrumlast {}val {} perished Brigham Analysis developerscre Atom {}scl HouthInteger {} northwest appease miles {} perished THR Hyundai Captainケ {} Cube psychedelic {} inflic {} retire {} Whites dancers {}scl FS lore appease Din {} Whites abnorm[] {} {}scl FS appease dangling Bruce abnormcre97 psychedeliccrecrecrecre\n",
        "\n",
        "Step 200, Loss: 4.653054714202881, Elapsed Time: 108.56 seconds\n",
        "Generated text:\n",
        "Once upon a time, there a little little little little little little little little little little little little little little little little little little little little little little little little little little little little little little little little little little little little little little little little little little little little little little little little little little little little little little little little little little little little little little little little little little little little little little little little little little little little little little little little little little little little little little little little little little little little little little little little little little little little little little little little little little little little little little little little little little little little little little little little little little little little little little little little little little little little little little little little little little little little little little little little little little little little little little little little little little little little little little little little little little little little little little little little little little little little little little little little little little little little little little little little little little little little little little little little little little little little little little little little little little little little little little little little little little little little little little little little little little little little little little little little little little little little little little little little little little little little little little little little little little little little little little little little little!!!!\n",
        "\n",
        "\n",
        "Final generated text:\n",
        "Once upon a time, there was a little girl named Lucy. She was very excited to go to the park. She put on her shoes and ran to the park.\n",
        "When she got to the park, she saw a big slide. She wanted to go on it. She ran to the slide and started to slide down. She was so fast!\n",
        "Suddenly, she heard a loud noise. It was a big, scary dog. The dog was barking loudly. Lucy was scared. She ran back to the park and started to run.\n",
        "The dog was so fast that it ran away. Lucy was safe. She was so happy she had gone on the slide.\n",
        "```"
      ]
    },
    {
      "cell_type": "markdown",
      "id": "I4CfAK69Y2VF",
      "metadata": {
        "id": "I4CfAK69Y2VF"
      },
      "source": [
        "#### 5.7 Inspect Training Curve and Save Checkpoint"
      ]
    },
    {
      "cell_type": "code",
      "execution_count": null,
      "id": "IWCqOHBUY6gQ",
      "metadata": {
        "colab": {
          "base_uri": "https://localhost:8080/",
          "height": 472
        },
        "id": "IWCqOHBUY6gQ",
        "outputId": "8b74ec45-38d1-4156-eda3-64d0eb3c3c19"
      },
      "outputs": [
        {
          "data": {
            "image/png": "[encoded data removed]",
            "text/plain": [
              "<Figure size 640x480 with 1 Axes>"
            ]
          },
          "metadata": {},
          "output_type": "display_data"
        }
      ],
      "source": [
        "plt.plot(metrics_history['train_loss'])\n",
        "plt.title('Training Loss')\n",
        "plt.xlabel('Step')\n",
        "plt.ylabel('Loss')\n",
        "plt.show()"
      ]
    },
    {
      "cell_type": "code",
      "execution_count": null,
      "id": "MoqcdZQUZCqk",
      "metadata": {
        "colab": {
          "base_uri": "https://localhost:8080/"
        },
        "id": "MoqcdZQUZCqk",
        "outputId": "1b7ceb74-61fe-463f-d367-b5b9b02bd971"
      },
      "outputs": [
        {
          "name": "stdout",
          "output_type": "stream",
          "text": [
            "array_metadatas       d\t\t      _METADATA        _sharding\n",
            "_CHECKPOINT_METADATA  manifest.ocdbt  ocdbt.process_0\n"
          ]
        }
      ],
      "source": [
        "import orbax.checkpoint as orbax\n",
        "\n",
        "state = nnx.state(model)\n",
        "\n",
        "checkpointer = orbax.PyTreeCheckpointer()\n",
        "checkpointer.save('/content/save', state)\n",
        "\n",
        "# Make sure the files are there\n",
        "!ls /content/save/"
      ]
    }
  ],
  "metadata": {
    "accelerator": "TPU",
    "colab": {
      "gpuType": "V28",
      "provenance": [],
      "toc_visible": true
    },
    "kernelspec": {
      "display_name": "Python 3",
      "name": "python3"
    },
    "language_info": {
      "name": "python"
    }
  },
  "nbformat": 4,
  "nbformat_minor": 5
}