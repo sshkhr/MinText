{
  "cells": [
    {
      "cell_type": "markdown",
      "metadata": {
        "id": "P26jqMgJh3Q9"
      },
      "source": [
        "# Tutorial 2: Data Parallel and Fully Sharded Data Parallel Training\n",
        "\n",
        "[![Open in GitHub](https://img.shields.io/badge/Open%20in-GitHub-181717?style=flat-square&logo=github)](https://github.com/sshkhr/MinText/blob/main/docs/tutorials/2_Data_Parallel_and_FSDP.ipynb)\n",
        "[![Open in Colab](https://colab.research.google.com/assets/colab-badge.svg)](https://colab.research.google.com/github/sshkhr/MinText/blob/main/docs/tutorials/2_Data_Parallel_and_FSDP.ipynb)"
      ]
    },
    {
      "cell_type": "markdown",
      "metadata": {
        "id": "Y589kcC_h84I"
      },
      "source": [
        "In the previous tutorial, we explored the basics of JAX parallelization, including device meshes, sharded matrices, and collective operations. In this tutorial, we'll build on those concepts to explore the first parallelism strategy used in scaling models: data parallelism (DP). We will also learn about how to profile distributed machine learning in order to identify potential bottlenecks.\n"
      ]
    },
    {
      "cell_type": "markdown",
      "metadata": {
        "id": "BZry_w4N15Vy"
      },
      "source": [
        "## 0. Background"
      ]
    },
    {
      "cell_type": "markdown",
      "metadata": {
        "id": "C_wGnB2mh3Q9"
      },
      "source": [
        "### 0.1 Setup\n",
        "\n",
        "Let's start by importing the necessary libraries and initializing our environment."
      ]
    },
    {
      "cell_type": "code",
      "execution_count": 1,
      "metadata": {
        "id": "si6y3Ea7h3Q-"
      },
      "outputs": [],
      "source": [
        "import os\n",
        "# Force JAX to see 8 devices for this tutorial (only use if not using TPU runtime)\n",
        "#os.environ['XLA_FLAGS'] = '--xla_force_host_platform_device_count=8'\n",
        "\n",
        "import jax\n",
        "import jax.numpy as jnp\n",
        "from jax.sharding import Mesh, PartitionSpec as P, NamedSharding\n",
        "from jax.experimental import mesh_utils\n",
        "import numpy as np\n",
        "import matplotlib.pyplot as plt\n",
        "import time\n",
        "from functools import partial\n",
        "import dataclasses"
      ]
    },
    {
      "cell_type": "code",
      "execution_count": 2,
      "metadata": {
        "colab": {
          "base_uri": "https://localhost:8080/"
        },
        "id": "IVxCl7LUigdF",
        "outputId": "240867a2-ab10-4c25-d691-766faf6f1457"
      },
      "outputs": [
        {
          "name": "stdout",
          "output_type": "stream",
          "text": [
            "JAX version: 0.5.2\n",
            "Available devices: [TpuDevice(id=0, process_index=0, coords=(0,0,0), core_on_chip=0), TpuDevice(id=1, process_index=0, coords=(0,0,0), core_on_chip=1), TpuDevice(id=2, process_index=0, coords=(1,0,0), core_on_chip=0), TpuDevice(id=3, process_index=0, coords=(1,0,0), core_on_chip=1)]...\n",
            "Number of devices: 8\n"
          ]
        }
      ],
      "source": [
        "# Check available devices\n",
        "print(f\"JAX version: {jax.__version__}\")\n",
        "print(f\"Available devices: {jax.devices()[:4]}...\")\n",
        "print(f\"Number of devices: {jax.device_count()}\")"
      ]
    },
    {
      "cell_type": "markdown",
      "metadata": {
        "id": "3kAeWl08h3Q-"
      },
      "source": [
        "### 0.2 Model Representation\n",
        "\n",
        "For simplicity, we will start with a simple feed-forward model. The model consists of two fully-connected (or dense) layers:\n",
        "\n",
        "- **W<sub>in</sub>**: `bf16[D, F]` (up-projection)\n",
        "- **W<sub>out</sub>**: `bf16[F, D]` (down-projection)\n",
        "\n",
        "And the input and output are defined as:\n",
        "- **Input**: `bf16[B, D]`\n",
        "- **Out**: `bf16[B, D]`\n",
        "\n",
        "Where:\n",
        "- **D** = d<sub>model</sub> (input/output dimension)\n",
        "- **F** = d<sub>ff</sub> (feed-forward or hidden dimension)\n",
        "- **B** = batch size (total tokens)\n"
      ]
    },
    {
      "cell_type": "markdown",
      "metadata": {
        "id": "ackK14iBw8Mb"
      },
      "source": [
        "![MLP](https://github.com/jax-ml/scaling-book/blob/main/assets/img/simple-transformer.png?raw=true)\n",
        "\n",
        "<sup> Image Source: [How To Scale Your Model](https://jax-ml.github.io/scaling-book) </sup>"
      ]
    },
    {
      "cell_type": "markdown",
      "metadata": {
        "id": "k7P0-zkOuMNM"
      },
      "source": [
        "### 0.3 Why Parallelism?\n",
        "\n",
        "As we scale up our models and datasets, we need to distribute the computation across multiple devices in order to train these models in reasonable periods of time. For example, 2048 A100 GPUs were used to train LLaMa. Most LLM models today are large enough where they cannot fit on a single device for pre-training.\n"
      ]
    },
    {
      "cell_type": "markdown",
      "metadata": {
        "id": "HYoUSMnyxS2A"
      },
      "source": [
        "### 0.4 Communication vs Computation Trade-offs\n",
        "\n",
        "The goal of scaling is to achieve **strong scaling**, a linear increase in throughput with more chips. In order to achieve good scaling performance, parallel algorithms are designed to hide inter-chip communication by overlapping it with useful FLOPs."
      ]
    },
    {
      "cell_type": "markdown",
      "metadata": {},
      "source": [
        "Let $T_\\text{ops}$ represent the time spent on computation (FLOPs) and $T_{\\text{comms}}$ represent the time spent on communication (data transfer). For the purpose of this tutorial, let us ignore intra-chip communication cost and focus on inter-chip communication costs (although in the real world, you would consider both - but let's assume that intra-chip communication and computation overlap have already been optimized).\n",
        "\n",
        "The ratio of these two times ($T_\\text{ops}$ and $T_{\\text{comms}}$) is crucial for determining the efficiency of our parallel training:\n",
        "\n",
        "An algorithm become **compute-bound** when:\n",
        "\n",
        "$$\\frac{T_{\\text{ops}}}{T_{\\text{comms}}} > 1$$\n",
        "\n",
        "This means that the time spent on computation is greater than the time spent on communication, and we can achieve good scaling performance by hiding communication time between the time spend on computation. Let us see what this means in practice."
      ]
    },
    {
      "cell_type": "markdown",
      "metadata": {
        "id": "Wk_MulhTxMes"
      },
      "source": [
        "## 2. Data Parallel"
      ]
    },
    {
      "cell_type": "markdown",
      "metadata": {},
      "source": [
        "Data parallelism (DP) is a parallelization strategy where we split the input data batch across multiple devices, allowing each device to compute on a different subset of the data. This is particularly useful for large datasets that cannot fit into the memory of a single device. When the model is small enough to fit on a single device, we can use data parallelism to scale up the training by distributing the data across multiple devices."
      ]
    },
    {
      "cell_type": "markdown",
      "metadata": {
        "id": "5BybVQZ6h3Q-"
      },
      "source": [
        "### 2.1 Data Parallelism Theory\n",
        "\n",
        "**Sharding**: Input data and model activations are sharded along batch dimension across devices, model parameters are replicated on each device.\n",
        "\n",
        "**Equation** (for our MLP example):\n",
        "$$\\text{In}[B_X, D] \\cdot_D W_{\\text{in}}[D, F] \\cdot_F W_{\\text{out}}[F, D] \\rightarrow \\text{Out}[B_X, D]$$\n",
        "\n",
        "where $B_X$ indicates the batch is sharded across $X$ devices."
      ]
    },
    {
      "cell_type": "markdown",
      "metadata": {},
      "source": [
        "![Data Parallelism](https://github.com/jax-ml/scaling-book/blob/main/assets/img/data-parallelism.png?raw=true)\n",
        "\n",
        "<sup> Image Source: [How To Scale Your Model](https://jax-ml.github.io/scaling-book) </sup>"
      ]
    },
    {
      "cell_type": "markdown",
      "metadata": {
        "id": "LmEAlrsuh3Q-"
      },
      "source": [
        "## 3. Example: 8-way Data Parallel Training with Plain JAX"
      ]
    },
    {
      "cell_type": "markdown",
      "metadata": {
        "id": "Z1skQ8igh3Q-"
      },
      "source": [
        "### 3.1 Create (fake) data and define Model\n",
        "\n",
        "First, let's generate our synthetic dataset and simple feed-forward neural network."
      ]
    },
    {
      "cell_type": "code",
      "execution_count": 3,
      "metadata": {
        "id": "aka1dFaWh3Q-"
      },
      "outputs": [],
      "source": [
        "def get_linear_layer(key, dim_in, dim_hidden):\n",
        "  k1, k2 = jax.random.split(key)\n",
        "  W = jax.random.normal(k1, (dim_in, dim_hidden)) / jnp.sqrt(dim_in)\n",
        "  b = jax.random.normal(k2, (dim_hidden,))\n",
        "  return W, b\n",
        "\n",
        "def get_model_and_data(key, layer_sizes, batch_size):\n",
        "  keys, *keys = jax.random.split(key, len(layer_sizes))\n",
        "\n",
        "  model = list(map(get_linear_layer, keys, layer_sizes[:-1], layer_sizes[1:]))\n",
        "\n",
        "  keys, *keys = jax.random.split(key, 2)\n",
        "  input_data = jax.random.normal(keys[0], (batch_size, layer_sizes[0]))\n",
        "  target_data = jax.random.normal(keys[0], (batch_size, layer_sizes[-1]))\n",
        "\n",
        "  return model, (input_data, target_data)"
      ]
    },
    {
      "cell_type": "markdown",
      "metadata": {},
      "source": [
        "We will use a simple feed-forward neural network with two linear layers, as described in the background section. The input and output dimensions are set to 128, which is a common choice of hidden dimension in transformer models. The batch size is set to 8192."
      ]
    },
    {
      "cell_type": "code",
      "execution_count": null,
      "metadata": {
        "id": "y_EO4Cc99Lo6"
      },
      "outputs": [],
      "source": [
        "# A simple sqeuence-modelling architecture: 128 -> 2048 -> 2048 -> 128\n",
        "layer_sizes = [128, 2048, 2048, 128]\n",
        "batch_size = 8192"
      ]
    },
    {
      "cell_type": "code",
      "execution_count": 5,
      "metadata": {
        "id": "rUkwAjZr-LnO"
      },
      "outputs": [],
      "source": [
        "model, batch = get_model_and_data(jax.random.key(0), layer_sizes, batch_size)"
      ]
    },
    {
      "cell_type": "markdown",
      "metadata": {},
      "source": [
        "Now we define our model's forward pass and loss function. We are using JAX for now, so this might seem a bit verbose if you are coming from PyTorch or TensorFlow, but we will see how to simplify the neural network modelling with Flax in the next section."
      ]
    },
    {
      "cell_type": "code",
      "execution_count": null,
      "metadata": {
        "id": "ftK4v74m-ZP9"
      },
      "outputs": [],
      "source": [
        "def predict(model, inputs):\n",
        "  for W, b in model:\n",
        "    outputs = jnp.dot(inputs, W) + b\n",
        "    inputs = jnp.maximum(outputs, 0) # ReLU activation\n",
        "  return outputs\n",
        "\n",
        "def loss(model, batch):\n",
        "  inputs, targets = batch\n",
        "  predictions = predict(model, inputs)\n",
        "  return jnp.mean(jnp.sum((predictions - targets)**2, axis=-1))"
      ]
    },
    {
      "cell_type": "markdown",
      "metadata": {},
      "source": [
        "Finally, we will compile our model using `jax.jit` to utilize JAX compiler to optimize the performance of our forward and backward pass."
      ]
    },
    {
      "cell_type": "code",
      "execution_count": 7,
      "metadata": {
        "id": "CdizzgTi_olY"
      },
      "outputs": [],
      "source": [
        "loss_jit = jax.jit(loss)\n",
        "gradfun = jax.jit(jax.grad(loss))"
      ]
    },
    {
      "cell_type": "markdown",
      "metadata": {
        "id": "nZyEdC3Zh3Q-"
      },
      "source": [
        "### 3.2 Single-Device Baseline\n",
        "\n",
        "Let's first establish a baseline by training on a single device."
      ]
    },
    {
      "cell_type": "code",
      "execution_count": 8,
      "metadata": {
        "id": "KFq25YzKh3Q-"
      },
      "outputs": [],
      "source": [
        "batch_single = jax.device_put(batch, jax.devices()[0])\n",
        "params_single = jax.device_put(model, jax.devices()[0])"
      ]
    },
    {
      "cell_type": "code",
      "execution_count": 9,
      "metadata": {
        "colab": {
          "base_uri": "https://localhost:8080/"
        },
        "id": "a1wHGqYh_0gR",
        "outputId": "1972c6d8-c326-4850-e701-f472cbc413e6"
      },
      "outputs": [
        {
          "data": {
            "text/plain": [
              "Array(2324.8494, dtype=float32)"
            ]
          },
          "execution_count": 9,
          "metadata": {},
          "output_type": "execute_result"
        }
      ],
      "source": [
        "loss_jit(params_single, batch_single)"
      ]
    },
    {
      "cell_type": "code",
      "execution_count": 10,
      "metadata": {
        "colab": {
          "base_uri": "https://localhost:8080/"
        },
        "id": "bUvLRRplAUK7",
        "outputId": "3d41d974-940f-48ba-c34a-a35182e5382b"
      },
      "outputs": [
        {
          "name": "stdout",
          "output_type": "stream",
          "text": [
            "The slowest run took 25.78 times longer than the fastest. This could mean that an intermediate result is being cached.\n",
            "58.9 ms ± 97 ms per loop (mean ± std. dev. of 5 runs, 5 loops each)\n"
          ]
        }
      ],
      "source": [
        "%timeit -n 5 -r 5 gradfun(params_single, batch_single)[0][0].block_until_ready()"
      ]
    },
    {
      "cell_type": "markdown",
      "metadata": {
        "id": "wEhK17TPh3Q_"
      },
      "source": [
        "### 3.3 8-way Data Parallel Training\n",
        "\n",
        "Now let's implement 8-way data parallel training where we'll shard the batch across 8 devices."
      ]
    },
    {
      "cell_type": "code",
      "execution_count": 11,
      "metadata": {
        "colab": {
          "base_uri": "https://localhost:8080/"
        },
        "id": "mhH5pGm_h3Q_",
        "outputId": "0ca053a5-c259-42f9-8e54-d5f5f270e83b"
      },
      "outputs": [
        {
          "name": "stdout",
          "output_type": "stream",
          "text": [
            "Mesh shape: OrderedDict([('batch', 8)])\n",
            "Mesh axis names: ('batch',)\n"
          ]
        }
      ],
      "source": [
        "# Create an 8-device mesh for data parallelism\n",
        "mesh = jax.make_mesh((8,), ('batch',))\n",
        "print(f\"Mesh shape: {mesh.shape}\")\n",
        "print(f\"Mesh axis names: {mesh.axis_names}\")\n",
        "\n",
        "# Create sharding specifications\n",
        "\n",
        "## Shard data along the batch dimension\n",
        "batch_sharding = NamedSharding(mesh, P('batch'))\n",
        "## Replicate parameters across all devices\n",
        "replicated_sharding = NamedSharding(mesh, P())"
      ]
    },
    {
      "cell_type": "markdown",
      "metadata": {},
      "source": [
        "We shard our batch along `batch` dimension, while our model is replicated across all devices."
      ]
    },
    {
      "cell_type": "code",
      "execution_count": 12,
      "metadata": {
        "id": "6I47F3-tADf6"
      },
      "outputs": [],
      "source": [
        "batch = jax.device_put(batch, batch_sharding)\n",
        "params = jax.device_put(model, replicated_sharding)"
      ]
    },
    {
      "cell_type": "code",
      "execution_count": 13,
      "metadata": {
        "colab": {
          "base_uri": "https://localhost:8080/"
        },
        "id": "HZ4VRe8bh3Q_",
        "outputId": "6ba1b2d2-c23c-4306-db17-3a7b9e9a08a8"
      },
      "outputs": [
        {
          "data": {
            "text/plain": [
              "Array(2324.849, dtype=float32)"
            ]
          },
          "execution_count": 13,
          "metadata": {},
          "output_type": "execute_result"
        }
      ],
      "source": [
        "loss_jit(params, batch)"
      ]
    },
    {
      "cell_type": "code",
      "execution_count": 14,
      "metadata": {
        "colab": {
          "base_uri": "https://localhost:8080/"
        },
        "id": "tdS8RpmEAJWh",
        "outputId": "f957a320-56e6-4257-dfb2-3b3c72f6f203"
      },
      "outputs": [
        {
          "name": "stdout",
          "output_type": "stream",
          "text": [
            "The slowest run took 96.83 times longer than the fastest. This could mean that an intermediate result is being cached.\n",
            "62.3 ms ± 118 ms per loop (mean ± std. dev. of 5 runs, 5 loops each)\n"
          ]
        }
      ],
      "source": [
        "%timeit -n 5 -r 5 gradfun(params, batch)[0][0].block_until_ready()"
      ]
    },
    {
      "cell_type": "code",
      "execution_count": null,
      "metadata": {
        "colab": {
          "base_uri": "https://localhost:8080/"
        },
        "id": "3kmUnp4fRw8i",
        "outputId": "0ebfeb44-2516-4927-a4fd-b15f92431c02"
      },
      "outputs": [
        {
          "name": "stdout",
          "output_type": "stream",
          "text": [
            "559.45996\n"
          ]
        }
      ],
      "source": [
        "step_size = 1e-5\n",
        "losses = []\n",
        "\n",
        "for step in range(30):\n",
        "  grads = gradfun(params, batch)\n",
        "  params = [(W - step_size * dW, b - step_size * db)\n",
        "            for (W, b), (dW, db) in zip(params, grads)]\n",
        "  \n",
        "  current_loss = loss_jit(params, batch)\n",
        "  losses.append(float(current_loss))\n",
        "  \n",
        "  if step % 5 == 0:\n",
        "    print(f\"Step {step}, loss: {current_loss:.6f}\")\n",
        "\n",
        "print(f\"\\nFinal loss: {loss_jit(params, batch):.6f}\")"
      ]
    },
    {
      "cell_type": "code",
      "execution_count": null,
      "metadata": {},
      "outputs": [],
      "source": [
        "# Visualize the loss curve\n",
        "plt.figure(figsize=(8, 6))\n",
        "plt.plot(losses)\n",
        "plt.xlabel('Step')\n",
        "plt.ylabel('Loss')\n",
        "plt.title('Training Loss Curve')\n",
        "plt.grid(True)\n",
        "plt.show()"
      ]
    },
    {
      "cell_type": "markdown",
      "metadata": {
        "id": "T1R8mquih3Q_"
      },
      "source": [
        "### 3.4 Visualizing Data Parallel Sharding\n",
        "\n",
        "Let's visualize how the batch is sharded across devices."
      ]
    },
    {
      "cell_type": "code",
      "execution_count": 16,
      "metadata": {
        "colab": {
          "base_uri": "https://localhost:8080/",
          "height": 460
        },
        "id": "K0X-gnLLh3Q_",
        "outputId": "cc4b8f52-c7fe-4cda-e854-abd5e7a4fbe7"
      },
      "outputs": [
        {
          "name": "stdout",
          "output_type": "stream",
          "text": [
            "Visualizing batch sharding across 8 devices:\n",
            "Original batch shape: (8192, 768)\n",
            "TPU_0(process=0,(0,0,0,0)) slice(0, 1024, None) (1024, 768)\n",
            "TPU_1(process=0,(0,0,0,1)) slice(1024, 2048, None) (1024, 768)\n",
            "TPU_2(process=0,(1,0,0,0)) slice(2048, 3072, None) (1024, 768)\n",
            "TPU_3(process=0,(1,0,0,1)) slice(3072, 4096, None) (1024, 768)\n",
            "TPU_6(process=0,(1,1,0,0)) slice(4096, 5120, None) (1024, 768)\n",
            "TPU_7(process=0,(1,1,0,1)) slice(5120, 6144, None) (1024, 768)\n",
            "TPU_4(process=0,(0,1,0,0)) slice(6144, 7168, None) (1024, 768)\n",
            "TPU_5(process=0,(0,1,0,1)) slice(7168, 8192, None) (1024, 768)\n"
          ]
        },
        {
          "data": {
            "text/html": [
              "<pre style=\"white-space:pre;overflow-x:auto;line-height:normal;font-family:Menlo,'DejaVu Sans Mono',consolas,'Courier New',monospace\"><span style=\"color: #ffffff; text-decoration-color: #ffffff; background-color: #393b79\">  TPU 0  </span>\n",
              "<span style=\"color: #ffffff; text-decoration-color: #ffffff; background-color: #393b79\">         </span>\n",
              "<span style=\"color: #ffffff; text-decoration-color: #ffffff; background-color: #d6616b\">  TPU 1  </span>\n",
              "<span style=\"color: #ffffff; text-decoration-color: #ffffff; background-color: #d6616b\">         </span>\n",
              "<span style=\"color: #ffffff; text-decoration-color: #ffffff; background-color: #8ca252\">  TPU 2  </span>\n",
              "<span style=\"color: #ffffff; text-decoration-color: #ffffff; background-color: #8ca252\">         </span>\n",
              "<span style=\"color: #ffffff; text-decoration-color: #ffffff; background-color: #de9ed6\">  TPU 3  </span>\n",
              "<span style=\"color: #ffffff; text-decoration-color: #ffffff; background-color: #de9ed6\">         </span>\n",
              "<span style=\"color: #000000; text-decoration-color: #000000; background-color: #e7cb94\">  TPU 6  </span>\n",
              "<span style=\"color: #000000; text-decoration-color: #000000; background-color: #e7cb94\">         </span>\n",
              "<span style=\"color: #ffffff; text-decoration-color: #ffffff; background-color: #6b6ecf\">  TPU 7  </span>\n",
              "<span style=\"color: #ffffff; text-decoration-color: #ffffff; background-color: #6b6ecf\">         </span>\n",
              "<span style=\"color: #ffffff; text-decoration-color: #ffffff; background-color: #a55194\">  TPU 4  </span>\n",
              "<span style=\"color: #ffffff; text-decoration-color: #ffffff; background-color: #a55194\">         </span>\n",
              "<span style=\"color: #ffffff; text-decoration-color: #ffffff; background-color: #8c6d31\">  TPU 5  </span>\n",
              "<span style=\"color: #ffffff; text-decoration-color: #ffffff; background-color: #8c6d31\">         </span>\n",
              "</pre>\n"
            ],
            "text/plain": [
              "\u001b[38;2;255;255;255;48;2;57;59;121m  \u001b[0m\u001b[38;2;255;255;255;48;2;57;59;121mTPU 0\u001b[0m\u001b[38;2;255;255;255;48;2;57;59;121m  \u001b[0m\n",
              "\u001b[38;2;255;255;255;48;2;57;59;121m         \u001b[0m\n",
              "\u001b[38;2;255;255;255;48;2;214;97;107m  \u001b[0m\u001b[38;2;255;255;255;48;2;214;97;107mTPU 1\u001b[0m\u001b[38;2;255;255;255;48;2;214;97;107m  \u001b[0m\n",
              "\u001b[38;2;255;255;255;48;2;214;97;107m         \u001b[0m\n",
              "\u001b[38;2;255;255;255;48;2;140;162;82m  \u001b[0m\u001b[38;2;255;255;255;48;2;140;162;82mTPU 2\u001b[0m\u001b[38;2;255;255;255;48;2;140;162;82m  \u001b[0m\n",
              "\u001b[38;2;255;255;255;48;2;140;162;82m         \u001b[0m\n",
              "\u001b[38;2;255;255;255;48;2;222;158;214m  \u001b[0m\u001b[38;2;255;255;255;48;2;222;158;214mTPU 3\u001b[0m\u001b[38;2;255;255;255;48;2;222;158;214m  \u001b[0m\n",
              "\u001b[38;2;255;255;255;48;2;222;158;214m         \u001b[0m\n",
              "\u001b[38;2;0;0;0;48;2;231;203;148m  \u001b[0m\u001b[38;2;0;0;0;48;2;231;203;148mTPU 6\u001b[0m\u001b[38;2;0;0;0;48;2;231;203;148m  \u001b[0m\n",
              "\u001b[38;2;0;0;0;48;2;231;203;148m         \u001b[0m\n",
              "\u001b[38;2;255;255;255;48;2;107;110;207m  \u001b[0m\u001b[38;2;255;255;255;48;2;107;110;207mTPU 7\u001b[0m\u001b[38;2;255;255;255;48;2;107;110;207m  \u001b[0m\n",
              "\u001b[38;2;255;255;255;48;2;107;110;207m         \u001b[0m\n",
              "\u001b[38;2;255;255;255;48;2;165;81;148m  \u001b[0m\u001b[38;2;255;255;255;48;2;165;81;148mTPU 4\u001b[0m\u001b[38;2;255;255;255;48;2;165;81;148m  \u001b[0m\n",
              "\u001b[38;2;255;255;255;48;2;165;81;148m         \u001b[0m\n",
              "\u001b[38;2;255;255;255;48;2;140;109;49m  \u001b[0m\u001b[38;2;255;255;255;48;2;140;109;49mTPU 5\u001b[0m\u001b[38;2;255;255;255;48;2;140;109;49m  \u001b[0m\n",
              "\u001b[38;2;255;255;255;48;2;140;109;49m         \u001b[0m\n"
            ]
          },
          "metadata": {},
          "output_type": "display_data"
        }
      ],
      "source": [
        "print(\"Visualizing batch sharding across 8 devices:\")\n",
        "print(\"Original batch shape:\", batch[0].shape)\n",
        "\n",
        "for shard in batch[0].addressable_shards:\n",
        "  print(shard.device, shard.index[0], shard.data.shape)\n",
        "\n",
        "jax.debug.visualize_array_sharding(batch[0])"
      ]
    },
    {
      "cell_type": "markdown",
      "metadata": {
        "id": "sart6ZiFx2xN"
      },
      "source": [
        "## 4. Data Parallel Algorithm"
      ]
    },
    {
      "cell_type": "markdown",
      "metadata": {},
      "source": [
        "One of the key advantages of data parallelism is that there is no communication between devices during the forward pass. Each device computes its own forward pass independently on the sharded batch without moving any data around."
      ]
    },
    {
      "cell_type": "markdown",
      "metadata": {
        "id": "YKV30p8qy49L"
      },
      "source": [
        "### 4.1 Forward pass\n",
        "\n",
        "1. Tmp[B<sub>X</sub>, F] = In[B<sub>X</sub>, D] ×<sub>D</sub> W<sub>in</sub>[D, F]\n",
        "2. Out[B<sub>X</sub>, D] = Tmp[B<sub>X</sub>, F] ×<sub>F</sub> W<sub>out</sub>[F, D]\n",
        "3. Loss[B<sub>X</sub>] = ..."
      ]
    },
    {
      "cell_type": "markdown",
      "metadata": {},
      "source": [
        "In the backward pass, we need the gradients from the full batch across all devices. In order to do so, we first compute the gradients for each device (Steps 2 and 5 below). However, these are only the gradients for the sharded batch on each device. To compute the gradients for the full batch, we need to aggregate the gradients across all devices (Steps 3 and 6 below). This is done with `AllReduce` operation on the gradients from all devices.\n",
        "\n",
        "One important thing to note is that the backward pass computation for the current iteration does not involve the collected gradients from this iteration. We say that the gradient accumulation in the backward passs is not on a **critical path** - the rest of the backward pass can continue while the gradients are being communicated. This means that we can overlap the communication of the gradients with the computation on each device. This is crucial for achieving good scaling performance."
      ]
    },
    {
      "cell_type": "markdown",
      "metadata": {
        "id": "CdWyc3xmy98l"
      },
      "source": [
        "### 4.2 Backward pass\n",
        "\n",
        "1.  dOut[B<sub>X</sub>, D] = ...\n",
        "2.  dW<sub>out</sub>[F, D] {U<sub>X</sub>} = Tmp[B<sub>X</sub>, F] \\*<sub>B</sub> dOut[B<sub>X</sub>, D]\n",
        "3.  dW<sub>out</sub>[F, D] = **AllReduce**(dW<sub>out</sub>[F, D] {U<sub>X</sub>}) (*not on critical path, can be done async*)\n",
        "4.  dTmp[B<sub>X</sub>, F] = dOut[B<sub>X</sub>, D] \\*<sub>D</sub> W<sub>out</sub>[F, D]\n",
        "5.  dW<sub>in</sub>[D, F] {U<sub>X</sub>} = In[B<sub>X</sub>, D] \\*<sub>B</sub> dTmp[B<sub>X</sub>, F]\n",
        "6.  dW<sub>in</sub>[D, F] = **AllReduce**(dW<sub>in</sub>[D, F] {U<sub>X</sub>}) (*not on critical path, can be done async*)\n",
        "7.  dIn[B<sub>X</sub>, D] = dTmp[B<sub>X</sub>, F] \\*<sub>F</sub> W<sub>in</sub>[D, F] (*needed for previous layers*)"
      ]
    },
    {
      "cell_type": "markdown",
      "metadata": {
        "id": "MqllNMSEyEnr"
      },
      "source": [
        "### 4.3 Compute Bound versus Communication Bound\n",
        "\n",
        "ToDo (or maybe skip)"
      ]
    },
    {
      "cell_type": "markdown",
      "metadata": {
        "id": "rLuPnH66h3Q_"
      },
      "source": [
        "## 5. Data Parallel Training with Flax NNX\n",
        "\n",
        "While JAX has its own advantages, it is often too low level of an API when implementing neural networks. For people familiar with PyTorch, the JAX ecosystem offers [Flax](https://flax.readthedocs.io/en/latest/) - a neural network modelling library with an API much more similar to that offered by PyTorch. Let's implement the same 8-way data parallel training using the Flax NNX API, which provides higher-level abstractions."
      ]
    },
    {
      "cell_type": "markdown",
      "metadata": {
        "id": "nJ-NDbFy2VKK"
      },
      "source": [
        "### 5.1 Import Flax"
      ]
    },
    {
      "cell_type": "code",
      "execution_count": 17,
      "metadata": {
        "id": "4E8YR_rlh3Q_"
      },
      "outputs": [],
      "source": [
        "# Import Flax NNX\n",
        "try:\n",
        "    import flax.nnx as nnx\n",
        "    import optax\n",
        "except ImportError:\n",
        "    !pip install -q flax optax\n",
        "    import flax.nnx as nnx\n",
        "    import optax"
      ]
    },
    {
      "cell_type": "markdown",
      "metadata": {
        "id": "Snm3tRbC2ZFA"
      },
      "source": [
        "### 5.2 Define Model using Flax NNX API"
      ]
    },
    {
      "cell_type": "code",
      "execution_count": null,
      "metadata": {
        "id": "K9Wlxs67h3Q_"
      },
      "outputs": [],
      "source": [
        "class MLP(nnx.Module):\n",
        "  def __init__(self, din, dmid, dout, *, rngs: nnx.Rngs):\n",
        "    self.linear1 = nnx.Linear(din, dmid, rngs=rngs)\n",
        "    self.linear2 = nnx.Linear(dmid, dout, rngs=rngs)\n",
        "\n",
        "  def __call__(self, x):\n",
        "    x = nnx.relu(self.linear1(x))\n",
        "    return self.linear3(x)"
      ]
    },
    {
      "cell_type": "markdown",
      "metadata": {
        "id": "sthOrJSt2rpe"
      },
      "source": [
        "### 5.3 Replicate Model State across devices"
      ]
    },
    {
      "cell_type": "code",
      "execution_count": null,
      "metadata": {
        "id": "Ittq3UFPZ_zY"
      },
      "outputs": [],
      "source": [
        "model = MLP(128, 2048, 128, rngs=nnx.Rngs(0))\n",
        "optimizer = nnx.Optimizer(model, optax.adamw(1e-2))\n",
        "\n",
        "# replicate model and optimizer states across shards\n",
        "state = nnx.state((model, optimizer))\n",
        "state = jax.device_put(state, replicated_sharding)\n",
        "nnx.update((model, optimizer), state)"
      ]
    },
    {
      "cell_type": "code",
      "execution_count": 20,
      "metadata": {
        "colab": {
          "base_uri": "https://localhost:8080/",
          "height": 216
        },
        "id": "4LM_wq6kaLtU",
        "outputId": "d8ac1a6c-cfde-48cf-e0ab-45b018173d44"
      },
      "outputs": [
        {
          "name": "stdout",
          "output_type": "stream",
          "text": [
            "model sharding\n"
          ]
        },
        {
          "data": {
            "text/html": [
              "<pre style=\"white-space:pre;overflow-x:auto;line-height:normal;font-family:Menlo,'DejaVu Sans Mono',consolas,'Courier New',monospace\"><span style=\"color: #ffffff; text-decoration-color: #ffffff; background-color: #393b79\">                                                                                </span>\n",
              "<span style=\"color: #ffffff; text-decoration-color: #ffffff; background-color: #393b79\">                                                                                </span>\n",
              "<span style=\"color: #ffffff; text-decoration-color: #ffffff; background-color: #393b79\">                                                                                </span>\n",
              "<span style=\"color: #ffffff; text-decoration-color: #ffffff; background-color: #393b79\">                                                                                </span>\n",
              "<span style=\"color: #ffffff; text-decoration-color: #ffffff; background-color: #393b79\">                                                                                </span>\n",
              "<span style=\"color: #ffffff; text-decoration-color: #ffffff; background-color: #393b79\">                              TPU 0,1,2,3,4,5,6,7                               </span>\n",
              "<span style=\"color: #ffffff; text-decoration-color: #ffffff; background-color: #393b79\">                                                                                </span>\n",
              "<span style=\"color: #ffffff; text-decoration-color: #ffffff; background-color: #393b79\">                                                                                </span>\n",
              "<span style=\"color: #ffffff; text-decoration-color: #ffffff; background-color: #393b79\">                                                                                </span>\n",
              "<span style=\"color: #ffffff; text-decoration-color: #ffffff; background-color: #393b79\">                                                                                </span>\n",
              "<span style=\"color: #ffffff; text-decoration-color: #ffffff; background-color: #393b79\">                                                                                </span>\n",
              "</pre>\n"
            ],
            "text/plain": [
              "\u001b[38;2;255;255;255;48;2;57;59;121m                                                                                \u001b[0m\n",
              "\u001b[38;2;255;255;255;48;2;57;59;121m                                                                                \u001b[0m\n",
              "\u001b[38;2;255;255;255;48;2;57;59;121m                                                                                \u001b[0m\n",
              "\u001b[38;2;255;255;255;48;2;57;59;121m                                                                                \u001b[0m\n",
              "\u001b[38;2;255;255;255;48;2;57;59;121m                                                                                \u001b[0m\n",
              "\u001b[38;2;255;255;255;48;2;57;59;121m                              \u001b[0m\u001b[38;2;255;255;255;48;2;57;59;121mTPU 0,1,2,3,4,5,6,7\u001b[0m\u001b[38;2;255;255;255;48;2;57;59;121m                               \u001b[0m\n",
              "\u001b[38;2;255;255;255;48;2;57;59;121m                                                                                \u001b[0m\n",
              "\u001b[38;2;255;255;255;48;2;57;59;121m                                                                                \u001b[0m\n",
              "\u001b[38;2;255;255;255;48;2;57;59;121m                                                                                \u001b[0m\n",
              "\u001b[38;2;255;255;255;48;2;57;59;121m                                                                                \u001b[0m\n",
              "\u001b[38;2;255;255;255;48;2;57;59;121m                                                                                \u001b[0m\n"
            ]
          },
          "metadata": {},
          "output_type": "display_data"
        }
      ],
      "source": [
        "# visualize model sharding\n",
        "print('model sharding')\n",
        "jax.debug.visualize_array_sharding(model.linear1.kernel.value)"
      ]
    },
    {
      "cell_type": "markdown",
      "metadata": {
        "id": "sIclsMKG2yVJ"
      },
      "source": [
        "### 5.4 Define Train Step"
      ]
    },
    {
      "cell_type": "code",
      "execution_count": 21,
      "metadata": {
        "id": "v1mGmZygaS6V"
      },
      "outputs": [],
      "source": [
        "@nnx.jit\n",
        "def train_step(model: MLP, optimizer: nnx.Optimizer, x, y):\n",
        "  def loss_fn(model: MLP):\n",
        "    y_pred = model(x)\n",
        "    return jnp.mean((y - y_pred) ** 2)\n",
        "\n",
        "  loss, grads = nnx.value_and_grad(loss_fn)(model)\n",
        "  optimizer.update(grads)\n",
        "  return loss"
      ]
    },
    {
      "cell_type": "markdown",
      "metadata": {
        "id": "071bAWOL2_l1"
      },
      "source": [
        "### 5.5 Distributed Training"
      ]
    },
    {
      "cell_type": "markdown",
      "metadata": {},
      "source": [
        "In order to simulate sequence modelling, we will use a synthetic dataset of sequences which are random weighted sums of periodic functions (sin and cosine)."
      ]
    },
    {
      "cell_type": "code",
      "execution_count": null,
      "metadata": {
        "id": "NVnPMia93CXI"
      },
      "outputs": [],
      "source": [
        "def dataset(steps, batch_size):\n",
        "  \"\"\"Generate 128D sequence data with underlying pattern.\"\"\"\n",
        "  for _ in range(steps):\n",
        "    # Generate input sequences\n",
        "    # Create a pattern where the output is a transformed version of input\n",
        "    # First few dimensions have strong pattern, rest have weaker signal\n",
        "    \n",
        "    # Generate base signal\n",
        "    t = np.linspace(0, 4*np.pi, 128)\n",
        "    base_patterns = np.array([\n",
        "      np.sin(t + np.random.uniform(0, 2*np.pi)),\n",
        "      np.cos(2*t + np.random.uniform(0, 2*np.pi)),\n",
        "      np.sin(3*t + np.random.uniform(0, 2*np.pi))\n",
        "    ])\n",
        "    \n",
        "    # Create batch of sequences\n",
        "    x = np.zeros((batch_size, 128))\n",
        "    y = np.zeros((batch_size, 128))\n",
        "    \n",
        "    for i in range(batch_size):\n",
        "      # Mix base patterns with random weights\n",
        "      weights = np.random.randn(3)\n",
        "      signal = np.sum(weights[:, np.newaxis] * base_patterns, axis=0)\n",
        "      \n",
        "      # Add noise\n",
        "      x[i] = signal + np.random.normal(0, 0.1, 128)\n",
        "      \n",
        "      # Output is a non-linear transformation of input\n",
        "      # Shift and apply non-linear transformation\n",
        "      y[i] = np.roll(x[i], 5) * 0.8 + 0.1 * x[i]**2\n",
        "      y[i] += np.random.normal(0, 0.05, 128)\n",
        "    \n",
        "    yield x.astype(np.float32), y.astype(np.float32)"
      ]
    },
    {
      "cell_type": "code",
      "execution_count": null,
      "metadata": {},
      "outputs": [],
      "source": [
        "# Training parameters\n",
        "batch_size = 8192\n",
        "num_steps = 100\n",
        "losses = []"
      ]
    },
    {
      "cell_type": "code",
      "execution_count": null,
      "metadata": {
        "colab": {
          "base_uri": "https://localhost:8080/",
          "height": 477
        },
        "id": "OwSJkENmaCpK",
        "outputId": "2eff31a3-4c77-4212-9801-afd9b27bdf5c"
      },
      "outputs": [
        {
          "name": "stdout",
          "output_type": "stream",
          "text": [
            "data sharding\n"
          ]
        },
        {
          "data": {
            "text/html": [
              "<pre style=\"white-space:pre;overflow-x:auto;line-height:normal;font-family:Menlo,'DejaVu Sans Mono',consolas,'Courier New',monospace\"><span style=\"color: #ffffff; text-decoration-color: #ffffff; background-color: #393b79\">  TPU 0  </span>\n",
              "<span style=\"color: #ffffff; text-decoration-color: #ffffff; background-color: #393b79\">         </span>\n",
              "<span style=\"color: #ffffff; text-decoration-color: #ffffff; background-color: #d6616b\">  TPU 1  </span>\n",
              "<span style=\"color: #ffffff; text-decoration-color: #ffffff; background-color: #d6616b\">         </span>\n",
              "<span style=\"color: #ffffff; text-decoration-color: #ffffff; background-color: #8ca252\">  TPU 2  </span>\n",
              "<span style=\"color: #ffffff; text-decoration-color: #ffffff; background-color: #8ca252\">         </span>\n",
              "<span style=\"color: #ffffff; text-decoration-color: #ffffff; background-color: #de9ed6\">  TPU 3  </span>\n",
              "<span style=\"color: #ffffff; text-decoration-color: #ffffff; background-color: #de9ed6\">         </span>\n",
              "<span style=\"color: #000000; text-decoration-color: #000000; background-color: #e7cb94\">  TPU 6  </span>\n",
              "<span style=\"color: #000000; text-decoration-color: #000000; background-color: #e7cb94\">         </span>\n",
              "<span style=\"color: #ffffff; text-decoration-color: #ffffff; background-color: #6b6ecf\">  TPU 7  </span>\n",
              "<span style=\"color: #ffffff; text-decoration-color: #ffffff; background-color: #6b6ecf\">         </span>\n",
              "<span style=\"color: #ffffff; text-decoration-color: #ffffff; background-color: #a55194\">  TPU 4  </span>\n",
              "<span style=\"color: #ffffff; text-decoration-color: #ffffff; background-color: #a55194\">         </span>\n",
              "<span style=\"color: #ffffff; text-decoration-color: #ffffff; background-color: #8c6d31\">  TPU 5  </span>\n",
              "<span style=\"color: #ffffff; text-decoration-color: #ffffff; background-color: #8c6d31\">         </span>\n",
              "</pre>\n"
            ],
            "text/plain": [
              "\u001b[38;2;255;255;255;48;2;57;59;121m  \u001b[0m\u001b[38;2;255;255;255;48;2;57;59;121mTPU 0\u001b[0m\u001b[38;2;255;255;255;48;2;57;59;121m  \u001b[0m\n",
              "\u001b[38;2;255;255;255;48;2;57;59;121m         \u001b[0m\n",
              "\u001b[38;2;255;255;255;48;2;214;97;107m  \u001b[0m\u001b[38;2;255;255;255;48;2;214;97;107mTPU 1\u001b[0m\u001b[38;2;255;255;255;48;2;214;97;107m  \u001b[0m\n",
              "\u001b[38;2;255;255;255;48;2;214;97;107m         \u001b[0m\n",
              "\u001b[38;2;255;255;255;48;2;140;162;82m  \u001b[0m\u001b[38;2;255;255;255;48;2;140;162;82mTPU 2\u001b[0m\u001b[38;2;255;255;255;48;2;140;162;82m  \u001b[0m\n",
              "\u001b[38;2;255;255;255;48;2;140;162;82m         \u001b[0m\n",
              "\u001b[38;2;255;255;255;48;2;222;158;214m  \u001b[0m\u001b[38;2;255;255;255;48;2;222;158;214mTPU 3\u001b[0m\u001b[38;2;255;255;255;48;2;222;158;214m  \u001b[0m\n",
              "\u001b[38;2;255;255;255;48;2;222;158;214m         \u001b[0m\n",
              "\u001b[38;2;0;0;0;48;2;231;203;148m  \u001b[0m\u001b[38;2;0;0;0;48;2;231;203;148mTPU 6\u001b[0m\u001b[38;2;0;0;0;48;2;231;203;148m  \u001b[0m\n",
              "\u001b[38;2;0;0;0;48;2;231;203;148m         \u001b[0m\n",
              "\u001b[38;2;255;255;255;48;2;107;110;207m  \u001b[0m\u001b[38;2;255;255;255;48;2;107;110;207mTPU 7\u001b[0m\u001b[38;2;255;255;255;48;2;107;110;207m  \u001b[0m\n",
              "\u001b[38;2;255;255;255;48;2;107;110;207m         \u001b[0m\n",
              "\u001b[38;2;255;255;255;48;2;165;81;148m  \u001b[0m\u001b[38;2;255;255;255;48;2;165;81;148mTPU 4\u001b[0m\u001b[38;2;255;255;255;48;2;165;81;148m  \u001b[0m\n",
              "\u001b[38;2;255;255;255;48;2;165;81;148m         \u001b[0m\n",
              "\u001b[38;2;255;255;255;48;2;140;109;49m  \u001b[0m\u001b[38;2;255;255;255;48;2;140;109;49mTPU 5\u001b[0m\u001b[38;2;255;255;255;48;2;140;109;49m  \u001b[0m\n",
              "\u001b[38;2;255;255;255;48;2;140;109;49m         \u001b[0m\n"
            ]
          },
          "metadata": {},
          "output_type": "display_data"
        },
        {
          "name": "stdout",
          "output_type": "stream",
          "text": [
            "step=0, loss=1.8962526321411133\n",
            "step=100, loss=0.10393320024013519\n",
            "step=200, loss=0.03233405202627182\n",
            "step=300, loss=0.02640240639448166\n",
            "step=400, loss=0.021110450848937035\n",
            "step=500, loss=0.009181939996778965\n",
            "step=600, loss=0.008241845294833183\n",
            "step=700, loss=0.015284095890820026\n",
            "step=800, loss=0.009435923770070076\n",
            "step=900, loss=0.006709282286465168\n"
          ]
        }
      ],
      "source": [
        "for step, (x, y) in enumerate(dataset(num_steps, batch_size)):\n",
        "  # shard data\n",
        "  x, y = jax.device_put((x, y), batch_sharding)\n",
        "  # train\n",
        "  loss = train_step(model, optimizer, x, y)\n",
        "\n",
        "  if step == 0:\n",
        "    print('data sharding')\n",
        "    jax.debug.visualize_array_sharding(x)\n",
        "\n",
        "  if step % 100 == 0:\n",
        "    print(f'step={step}, loss={loss}')"
      ]
    },
    {
      "cell_type": "code",
      "execution_count": 24,
      "metadata": {
        "id": "CcuXaSshahKZ"
      },
      "outputs": [],
      "source": [
        "# dereplicate state\n",
        "state = nnx.state((model, optimizer))\n",
        "state = jax.device_get(state)\n",
        "nnx.update((model, optimizer), state)"
      ]
    },
    {
      "cell_type": "markdown",
      "metadata": {},
      "source": [
        "We can now visualize the training loss curve, as well as the sequence model learned by our data parallel training."
      ]
    },
    {
      "cell_type": "code",
      "execution_count": null,
      "metadata": {},
      "outputs": [],
      "source": [
        "# Plot loss curve\n",
        "plt.figure(figsize=(10, 6))\n",
        "plt.plot(losses, linewidth=2)\n",
        "plt.xlabel('Step', fontsize=12)\n",
        "plt.ylabel('MSE Loss', fontsize=12)\n",
        "plt.title('Training Loss Curve - Sequence Modeling', fontsize=14)\n",
        "plt.grid(True, alpha=0.3)\n",
        "plt.yscale('log')  # Log scale to better see the decrease\n",
        "plt.tight_layout()\n",
        "plt.show()"
      ]
    },
    {
      "cell_type": "code",
      "execution_count": null,
      "metadata": {
        "colab": {
          "base_uri": "https://localhost:8080/",
          "height": 430
        },
        "id": "1FrQzqIoajtL",
        "outputId": "23333ad6-a29b-4742-a1de-af2729b8d4be"
      },
      "outputs": [
        {
          "data": {
            "image/png": "[encoded data removed]",
            "text/plain": [
              "<Figure size 640x480 with 1 Axes>"
            ]
          },
          "metadata": {},
          "output_type": "display_data"
        }
      ],
      "source": [
        "x_test, y_test = next(dataset(1, 1))\n",
        "y_pred = model(x_test)\n",
        "\n",
        "plt.figure(figsize=(12, 6))\n",
        "plt.subplot(2, 1, 1)\n",
        "plt.plot(x_test[0], label='Input Sequence', alpha=0.8)\n",
        "plt.plot(y_test[0], label='Target Sequence', alpha=0.8)\n",
        "plt.plot(y_pred[0], label='Predicted Sequence', linestyle='--', alpha=0.8)\n",
        "plt.xlabel('Sequence Position')\n",
        "plt.ylabel('Value')\n",
        "plt.title('Example Sequence Prediction')\n",
        "plt.legend()\n",
        "plt.grid(True, alpha=0.3)"
      ]
    },
    {
      "cell_type": "markdown",
      "metadata": {
        "id": "2kmQDk0Fh3Q_"
      },
      "source": [
        "## 5. Fully Sharded Data Parallelism (FSDP)"
      ]
    },
    {
      "cell_type": "markdown",
      "metadata": {
        "id": "L8qlRjWzz3Gs"
      },
      "source": [
        "### 5.1 What limits Data Parallelism?\n",
        "\n",
        "Data Parallelism involves a lot of duplicated work. Once each device AllReduces the gradients, each device updates:\n",
        "\n",
        "- full optimzer state (duplicated across all devices)\n",
        "- full parameter update for the model (duplicated across all devices)\n",
        "\n",
        "This is where Fully Sharded Data Parallelism (FSDP) comes in. FSDP is also known as ZeRO (Zero Redundancy Optimizer), particularly ZeRO-3. ZeRO-1, 2, and 3 refer to sharding the optimizer states, +gradients, +parameters respectively. "
      ]
    },
    {
      "cell_type": "markdown",
      "metadata": {
        "id": "i9SmDdu0z_KK"
      },
      "source": [
        "### 5.2 FSDP Theory\n",
        "\n",
        "**Definition**: Activations, weights, and optimizer states are sharded along batch dimension. Weights are gathered just-in-time before use.\n",
        "\n",
        "**Mathematical representation**:\n",
        "$$\\text{In}[B_X, D] \\cdot_D W_{\\text{in}}[D_X, F] \\cdot_F W_{\\text{out}}[F, D_X] \\rightarrow \\text{Out}[B_X, D]$$\n",
        "\n",
        "where both batch and weight dimensions are sharded across $X$ devices.\n",
        "\n",
        "![FSDP](https://github.com/jax-ml/scaling-book/blob/main/assets/img/fsdp.png?raw=true)"
      ]
    },
    {
      "cell_type": "markdown",
      "metadata": {},
      "source": [
        "<sup> Image Source: [How To Scale Your Model](https://jax-ml.github.io/scaling-book) </sup>"
      ]
    },
    {
      "cell_type": "markdown",
      "metadata": {
        "id": "KFqILDPodUce"
      },
      "source": [
        "### 5.3 FSDP Algorithm\n",
        "\n",
        "As mentioned earlier, data parallelism involves a lot of duplicated work. Fully Sharded Data Parallelism (FSDP) addresses this by sharding the model weights and activations across devices. Instead of using AllReduce to communicate the full model weights and optimizer states, FSDP splits the AllReduce operation into two steps: **AllGather** and **ReduceScatter**. This allows us to gather the weights from all devices just-in-time before use, and scatter the gradients back to each device after the backward pass. While this adds extra communication during the forward pass compared to data parallelism, but its in proportion to the reduction in comms during the backward pass - so the overall communication cost is same.\n",
        "\n",
        "**Forward pass:**\n",
        "1.  W<sub>in</sub>[D, F] = **AllGather**(W<sub>in</sub>[D<sub>X</sub>, F]) (*not on critical path, can do it during previous layer*)\n",
        "2.  Tmp[B<sub>X</sub>, F] = In[B<sub>X</sub>, D] \\*<sub>D</sub> W<sub>in</sub>[D, F] (*can throw away W<sub>in</sub>[D, F] now*)\n",
        "3.  W<sub>out</sub>[F, D] = **AllGather**(W<sub>out</sub>[F, D<sub>X</sub>]) (*not on critical path, can do it during previous layer*)\n",
        "4.  Out[B<sub>X</sub>, D] = Tmp[B<sub>X</sub>, F] \\*<sub>F</sub> W<sub>out</sub>[F, D]\n",
        "5.  Loss[B<sub>X</sub>] = ...\n",
        "\n",
        "**Backward pass:**\n",
        "1.  dOut[B<sub>X</sub>, D] = ...\n",
        "2.  dW<sub>out</sub>[F, D] {U<sub>X</sub>} = Tmp[B<sub>X</sub>, F] \\*<sub>B</sub> dOut[B<sub>X</sub>, D]\n",
        "3.  dW<sub>out</sub>[F, D<sub>X</sub>] = **ReduceScatter**(dW<sub>out</sub>[F, D] {U<sub>X</sub>}) (*not on critical path, can be done async*)\n",
        "4.  W<sub>out</sub>[F, D] = **AllGather**(W<sub>out</sub>[F, D<sub>X</sub>]) (*can be done ahead of time*)\n",
        "5.  dTmp[B<sub>X</sub>, F] = dOut[B<sub>X</sub>, D] \\*<sub>D</sub> W<sub>out</sub>[F, D] *(can throw away W<sub>out</sub>[F, D] here)*\n",
        "6.  dW<sub>in</sub>[D,F] {U<sub>X</sub>} = dTmp[B<sub>X</sub>, F] \\*<sub>B</sub> In[B<sub>X</sub>, D]\n",
        "7.  dW<sub>in</sub>[D<sub>X</sub>, F] = **ReduceScatter**(dW<sub>in</sub>[D, F] {U<sub>X</sub>}) *(not on critical path, can be done async)*\n",
        "8.  W<sub>in</sub>[D, F] = **AllGather**(W<sub>in</sub>[D<sub>X</sub>, F]) (*can be done ahead of time*)\n",
        "9.  dIn[B<sub>X</sub>, D] = dTmp[B<sub>X</sub>, F] \\*<sub>F</sub> W<sub>in</sub>[D, F] (*needed for previous layers) (can throw away W<sub>in</sub>[D, F] here*)"
      ]
    },
    {
      "cell_type": "markdown",
      "metadata": {},
      "source": [
        "![Data Parallel](https://engineering.fb.com/wp-content/uploads/2021/07/FSDP-Graph-2.png)\n",
        "\n",
        "<sup> Image Source: [FB Engineering Blog](https://engineering.fb.com/2021/07/15/open-source/fsdp/) </sup>"
      ]
    },
    {
      "cell_type": "markdown",
      "metadata": {},
      "source": [
        "### 5.4 FSDP Memory Advantages\n",
        "\n",
        "The diagram below shows how FSDP reduces memory usage compared to pure data parallelism:\n",
        "\n",
        "![FSDP Memory Comparison](https://github.com/jax-ml/scaling-book/blob/main/assets/img/fsdp-figure.png?raw=true)\n",
        "\n",
        "<sup> Image Source: [ZeRO: Memory Optimizations Toward Training Trillion Parameter Models](https://arxiv.org/abs/1910.02054) </sup>\n",
        "\n",
        "The rows show:\n",
        "1. **Pure Data Parallelism**: Parameters and optimizer states fully replicated\n",
        "2. **ZeRO-1**: Optimizer states sharded\n",
        "3. **ZeRO-2**: Optimizer states and gradients sharded  \n",
        "4. **ZeRO-3 (FSDP)**: Parameters, gradients, and optimizer states all sharded"
      ]
    },
    {
      "cell_type": "markdown",
      "metadata": {
        "id": "-KATtRorh3Q_"
      },
      "source": [
        "### 5.5 FSDP Compute versus Communication Bound\n",
        "\n",
        "**Communication Analysis**:\n",
        "\n",
        "FSDP has the **same roofline as pure data parallelism** because:\n",
        "- AllReduce = AllGather + ReduceScatter\n",
        "- Total communication volume is identical\n",
        "- Same condition: $\\frac{B}{X} > \\frac{C}{W_{\\text{ici}}} = 2550$"
      ]
    },
    {
      "cell_type": "markdown",
      "metadata": {
        "id": "75jVrHq7h3Q_"
      },
      "source": [
        "## 6. Fully Sharded Data Parallel (FSDP) Training with Flax NNX\n",
        "\n",
        "Now let's implement FSDP using the Flax NNX API."
      ]
    },
    {
      "cell_type": "markdown",
      "metadata": {
        "id": "p29FesRM0dBw"
      },
      "source": [
        "### 6.1 Mesh and Sharding"
      ]
    },
    {
      "cell_type": "code",
      "execution_count": null,
      "metadata": {
        "colab": {
          "base_uri": "https://localhost:8080/"
        },
        "id": "n0JFd67Dh3Q_",
        "outputId": "8fbc363a-d4c1-4727-ea79-2d2d13badf90"
      },
      "outputs": [
        {
          "name": "stdout",
          "output_type": "stream",
          "text": [
            "FSDP mesh shape: OrderedDict([('data', 2), ('model', 4)])\n",
            "FSDP mesh axis names: ('data', 'model')\n"
          ]
        }
      ],
      "source": [
        "# Create a 1D mesh for FSDP\n",
        "fsdp_mesh = jax.sharding.Mesh(\n",
        "  mesh_utils.create_device_mesh(8),  # 1D mesh\n",
        "  ('fsdp',)  # Single axis for FSDP\n",
        ")"
      ]
    },
    {
      "cell_type": "code",
      "execution_count": 27,
      "metadata": {
        "id": "tQt63uBteJOt"
      },
      "outputs": [],
      "source": [
        "# A helper function to quickly create a NamedSharding object\n",
        "# using the globally defined 'mesh'.\n",
        "def named_sharding(*names: str | None) -> NamedSharding:\n",
        "  return NamedSharding(fsdp_mesh, P(*names))"
      ]
    },
    {
      "cell_type": "code",
      "execution_count": null,
      "metadata": {
        "id": "mlNWdixaeRlU"
      },
      "outputs": [],
      "source": [
        "# A dataclass to hold sharding rules for different parts of the model/data.\n",
        "# Makes it easy to manage and change sharding strategies.\n",
        "@dataclasses.dataclass(unsafe_hash=True)\n",
        "class FSDPRules:\n",
        "  \"\"\"Rules for FSDP sharding - all parameters sharded along the same axis\"\"\"\n",
        "  weight_0: str | None = 'fsdp'  # Shard first dimension of weights\n",
        "  weight_1: str | None = None     # Don't shard second dimension\n",
        "  bias: str | None = None         # Don't shard biases (they're small)\n",
        "  data: str | None = 'fsdp'       # Shard data along batch dimension\n",
        "\n",
        "  def __call__(self, *keys: str) -> tuple[str, ...]:\n",
        "    return tuple(getattr(self, key) for key in keys)\n",
        "\n",
        "\n",
        "fsdp_rules = FSDPRules()"
      ]
    },
    {
      "cell_type": "markdown",
      "metadata": {
        "id": "wSiKXyz305_8"
      },
      "source": [
        "### 6.2 Build the Sharded Model"
      ]
    },
    {
      "cell_type": "code",
      "execution_count": null,
      "metadata": {
        "id": "MACPHZwAeg0N"
      },
      "outputs": [],
      "source": [
        "# Define the MLP using Flax NNX API.\n",
        "class MLP(nnx.Module):\n",
        "  # Constructor takes input/hidden/output dimensions and an NNX Rngs object.\n",
        "  def __init__(self, din, dmid, dout, rngs: nnx.Rngs):\n",
        "    # Define the first weight matrix as an nnx.Param.\n",
        "    self.w1 = nnx.Param(\n",
        "      # Initialize with lecun_normal initializer using a key from rngs.\n",
        "      nnx.initializers.lecun_normal()(rngs.params(), (din, dmid)),\n",
        "      # CRITICAL: Specify the desired sharding using MeshRules.\n",
        "      # ('weight_0', 'weight_1') -> ('fsdp', None) -> Shard dim 0 along fsdp axis, replicate dim 1.\n",
        "      sharding=fsdp_rules('weight_0', 'weight_1'),  # ('fsdp', None)\n",
        "    )\n",
        "    self.b1 = nnx.Param(\n",
        "      jnp.zeros((dmid,)),\n",
        "      sharding=fsdp_rules('bias'),  # (None,) - biases are small, often not sharded\n",
        "    )\n",
        "    self.w2 = nnx.Param(\n",
        "      nnx.initializers.lecun_normal()(rngs.params(), (dmid, dout)),\n",
        "       # Sharding: ('weight_0', 'weight_1') -> ('fsdp', None) -> Replicate dim 0, shard dim 1 along 'model' axis.\n",
        "      sharding=fsdp_rules('weight_0', 'weight_1'),  # ('fsdp', None)\n",
        "    )\n",
        "    # Note: No second bias b2 is defined in this simple example.\n",
        "\n",
        "  # The forward pass of the MLP.\n",
        "  def __call__(self, x: jax.Array):\n",
        "    # Standard MLP calculation: (x @ W1 + b1) -> ReLU -> @ W2\n",
        "    # NNX automatically accesses the .value attribute of nnx.Param objects.\n",
        "    return nnx.relu(x @ self.w1 + self.b1) @ self.w2\n"
      ]
    },
    {
      "cell_type": "markdown",
      "metadata": {
        "id": "g7-wKf0C1DxF"
      },
      "source": [
        "### 6.2 Build the Sharded Optimizer"
      ]
    },
    {
      "cell_type": "code",
      "execution_count": 30,
      "metadata": {
        "id": "YZ6MhzDeh3Q_"
      },
      "outputs": [],
      "source": [
        "# Define a custom type for SGD momentum state, inheriting from nnx.Variable.\n",
        "# This allows it to be tracked as part of the NNX state tree.\n",
        "class SGDState(nnx.Variable):\n",
        "  pass\n",
        "\n",
        "# Define the SGD optimizer using NNX API.\n",
        "class SGD(nnx.Object):\n",
        "  # Constructor takes the model parameters (as nnx.State), learning rate, and decay.\n",
        "  def __init__(self, params: nnx.State, lr, decay=0.9):\n",
        "    # Helper function to initialize momentum buffer for a given parameter.\n",
        "    def init_optimizer_state(variable: nnx.Variable):\n",
        "      # Create momentum state with zeros, same shape and metadata (incl. sharding)\n",
        "      # as the parameter it corresponds to.\n",
        "      return SGDState(\n",
        "        jnp.zeros_like(variable.value), **variable.get_metadata()\n",
        "      )\n",
        "\n",
        "    self.lr = lr\n",
        "    # Store a reference to the parameter State tree.\n",
        "    self.params = params\n",
        "    # Create the momentum state tree, mirroring the structure of 'params',\n",
        "    # using the helper function. Momentum will have the same sharding as params.\n",
        "    self.momentum = jax.tree.map(init_optimizer_state, self.params)\n",
        "    self.decay = decay\n",
        "\n",
        "  # Method to update parameters based on gradients.\n",
        "  def update(self, grads: nnx.State):\n",
        "    # Define the update logic for a single parameter/momentum/gradient triple.\n",
        "    def update_fn(\n",
        "      params: nnx.Variable, momentum: SGDState, grad: nnx.VariableState\n",
        "    ):\n",
        "      # Standard SGD with momentum update rule.\n",
        "      # v_t = β * v_{t-1} + (1 - β) * ∇J(θ_t)\n",
        "      momentum.value = self.decay * momentum.value + (1 - self.decay) * grad.value\n",
        "      # θ_{t+1} = θ_t - α * v_t\n",
        "      params.value -= self.lr * momentum.value # NOTE: Direct mutation of param value!\n",
        "\n",
        "    # Apply the update function across the parameter, momentum, and gradient trees.\n",
        "    # This performs the update in-place on the parameter values referenced by self.params.\n",
        "    jax.tree.map(update_fn, self.params, self.momentum, grads)\n"
      ]
    },
    {
      "cell_type": "markdown",
      "metadata": {
        "id": "yuHnHlJy1MY6"
      },
      "source": [
        "### 6.3 Enforce Sharding in Model and Optimizer States"
      ]
    },
    {
      "cell_type": "code",
      "execution_count": null,
      "metadata": {
        "colab": {
          "base_uri": "https://localhost:8080/",
          "height": 347
        },
        "id": "-R9nkEnoesPZ",
        "outputId": "e8c08df4-fe36-4efb-a947-654e9adcbc2c"
      },
      "outputs": [
        {
          "data": {
            "text/html": [
              "<pre style=\"white-space:pre;overflow-x:auto;line-height:normal;font-family:Menlo,'DejaVu Sans Mono',consolas,'Courier New',monospace\"><span style=\"color: #ffffff; text-decoration-color: #ffffff; background-color: #393b79\">                    </span><span style=\"color: #ffffff; text-decoration-color: #ffffff; background-color: #de9ed6\">                    </span><span style=\"color: #ffffff; text-decoration-color: #ffffff; background-color: #ad494a\">                    </span><span style=\"color: #000000; text-decoration-color: #000000; background-color: #b5cf6b\">                    </span>\n",
              "<span style=\"color: #ffffff; text-decoration-color: #ffffff; background-color: #393b79\">                    </span><span style=\"color: #ffffff; text-decoration-color: #ffffff; background-color: #de9ed6\">                    </span><span style=\"color: #ffffff; text-decoration-color: #ffffff; background-color: #ad494a\">                    </span><span style=\"color: #000000; text-decoration-color: #000000; background-color: #b5cf6b\">                    </span>\n",
              "<span style=\"color: #ffffff; text-decoration-color: #ffffff; background-color: #393b79\">                    </span><span style=\"color: #ffffff; text-decoration-color: #ffffff; background-color: #de9ed6\">                    </span><span style=\"color: #ffffff; text-decoration-color: #ffffff; background-color: #ad494a\">                    </span><span style=\"color: #000000; text-decoration-color: #000000; background-color: #b5cf6b\">                    </span>\n",
              "<span style=\"color: #ffffff; text-decoration-color: #ffffff; background-color: #393b79\">                    </span><span style=\"color: #ffffff; text-decoration-color: #ffffff; background-color: #de9ed6\">                    </span><span style=\"color: #ffffff; text-decoration-color: #ffffff; background-color: #ad494a\">                    </span><span style=\"color: #000000; text-decoration-color: #000000; background-color: #b5cf6b\">                    </span>\n",
              "<span style=\"color: #ffffff; text-decoration-color: #ffffff; background-color: #393b79\">                    </span><span style=\"color: #ffffff; text-decoration-color: #ffffff; background-color: #de9ed6\">                    </span><span style=\"color: #ffffff; text-decoration-color: #ffffff; background-color: #ad494a\">                    </span><span style=\"color: #000000; text-decoration-color: #000000; background-color: #b5cf6b\">                    </span>\n",
              "<span style=\"color: #ffffff; text-decoration-color: #ffffff; background-color: #393b79\">                    </span><span style=\"color: #ffffff; text-decoration-color: #ffffff; background-color: #de9ed6\">                    </span><span style=\"color: #ffffff; text-decoration-color: #ffffff; background-color: #ad494a\">                    </span><span style=\"color: #000000; text-decoration-color: #000000; background-color: #b5cf6b\">                    </span>\n",
              "<span style=\"color: #ffffff; text-decoration-color: #ffffff; background-color: #393b79\">                    </span><span style=\"color: #ffffff; text-decoration-color: #ffffff; background-color: #de9ed6\">                    </span><span style=\"color: #ffffff; text-decoration-color: #ffffff; background-color: #ad494a\">                    </span><span style=\"color: #000000; text-decoration-color: #000000; background-color: #b5cf6b\">                    </span>\n",
              "<span style=\"color: #ffffff; text-decoration-color: #ffffff; background-color: #393b79\">                    </span><span style=\"color: #ffffff; text-decoration-color: #ffffff; background-color: #de9ed6\">                    </span><span style=\"color: #ffffff; text-decoration-color: #ffffff; background-color: #ad494a\">                    </span><span style=\"color: #000000; text-decoration-color: #000000; background-color: #b5cf6b\">                    </span>\n",
              "<span style=\"color: #ffffff; text-decoration-color: #ffffff; background-color: #393b79\">                    </span><span style=\"color: #ffffff; text-decoration-color: #ffffff; background-color: #de9ed6\">                    </span><span style=\"color: #ffffff; text-decoration-color: #ffffff; background-color: #ad494a\">                    </span><span style=\"color: #000000; text-decoration-color: #000000; background-color: #b5cf6b\">                    </span>\n",
              "<span style=\"color: #ffffff; text-decoration-color: #ffffff; background-color: #393b79\">                    </span><span style=\"color: #ffffff; text-decoration-color: #ffffff; background-color: #de9ed6\">                    </span><span style=\"color: #ffffff; text-decoration-color: #ffffff; background-color: #ad494a\">                    </span><span style=\"color: #000000; text-decoration-color: #000000; background-color: #b5cf6b\">                    </span>\n",
              "</pre>\n"
            ],
            "text/plain": [
              "\u001b[38;2;255;255;255;48;2;57;59;121m                    \u001b[0m\u001b[38;2;255;255;255;48;2;222;158;214m                    \u001b[0m\u001b[38;2;255;255;255;48;2;173;73;74m                    \u001b[0m\u001b[38;2;0;0;0;48;2;181;207;107m                    \u001b[0m\n",
              "\u001b[38;2;255;255;255;48;2;57;59;121m                    \u001b[0m\u001b[38;2;255;255;255;48;2;222;158;214m                    \u001b[0m\u001b[38;2;255;255;255;48;2;173;73;74m                    \u001b[0m\u001b[38;2;0;0;0;48;2;181;207;107m                    \u001b[0m\n",
              "\u001b[38;2;255;255;255;48;2;57;59;121m                    \u001b[0m\u001b[38;2;255;255;255;48;2;222;158;214m                    \u001b[0m\u001b[38;2;255;255;255;48;2;173;73;74m                    \u001b[0m\u001b[38;2;0;0;0;48;2;181;207;107m                    \u001b[0m\n",
              "\u001b[38;2;255;255;255;48;2;57;59;121m                    \u001b[0m\u001b[38;2;255;255;255;48;2;222;158;214m                    \u001b[0m\u001b[38;2;255;255;255;48;2;173;73;74m                    \u001b[0m\u001b[38;2;0;0;0;48;2;181;207;107m                    \u001b[0m\n",
              "\u001b[38;2;255;255;255;48;2;57;59;121m                    \u001b[0m\u001b[38;2;255;255;255;48;2;222;158;214m                    \u001b[0m\u001b[38;2;255;255;255;48;2;173;73;74m                    \u001b[0m\u001b[38;2;0;0;0;48;2;181;207;107m                    \u001b[0m\n",
              "\u001b[38;2;255;255;255;48;2;57;59;121m                    \u001b[0m\u001b[38;2;255;255;255;48;2;222;158;214m                    \u001b[0m\u001b[38;2;255;255;255;48;2;173;73;74m                    \u001b[0m\u001b[38;2;0;0;0;48;2;181;207;107m                    \u001b[0m\n",
              "\u001b[38;2;255;255;255;48;2;57;59;121m                    \u001b[0m\u001b[38;2;255;255;255;48;2;222;158;214m                    \u001b[0m\u001b[38;2;255;255;255;48;2;173;73;74m                    \u001b[0m\u001b[38;2;0;0;0;48;2;181;207;107m                    \u001b[0m\n",
              "\u001b[38;2;255;255;255;48;2;57;59;121m                    \u001b[0m\u001b[38;2;255;255;255;48;2;222;158;214m                    \u001b[0m\u001b[38;2;255;255;255;48;2;173;73;74m                    \u001b[0m\u001b[38;2;0;0;0;48;2;181;207;107m                    \u001b[0m\n",
              "\u001b[38;2;255;255;255;48;2;57;59;121m                    \u001b[0m\u001b[38;2;255;255;255;48;2;222;158;214m                    \u001b[0m\u001b[38;2;255;255;255;48;2;173;73;74m                    \u001b[0m\u001b[38;2;0;0;0;48;2;181;207;107m                    \u001b[0m\n",
              "\u001b[38;2;255;255;255;48;2;57;59;121m                    \u001b[0m\u001b[38;2;255;255;255;48;2;222;158;214m                    \u001b[0m\u001b[38;2;255;255;255;48;2;173;73;74m                    \u001b[0m\u001b[38;2;0;0;0;48;2;181;207;107m                    \u001b[0m\n"
            ]
          },
          "metadata": {},
          "output_type": "display_data"
        },
        {
          "data": {
            "text/html": [
              "<pre style=\"white-space:pre;overflow-x:auto;line-height:normal;font-family:Menlo,'DejaVu Sans Mono',consolas,'Courier New',monospace\"><span style=\"color: #ffffff; text-decoration-color: #ffffff; background-color: #393b79\">                    </span><span style=\"color: #ffffff; text-decoration-color: #ffffff; background-color: #de9ed6\">                    </span><span style=\"color: #ffffff; text-decoration-color: #ffffff; background-color: #ad494a\">                    </span><span style=\"color: #000000; text-decoration-color: #000000; background-color: #b5cf6b\">                    </span>\n",
              "<span style=\"color: #ffffff; text-decoration-color: #ffffff; background-color: #393b79\">                    </span><span style=\"color: #ffffff; text-decoration-color: #ffffff; background-color: #de9ed6\">                    </span><span style=\"color: #ffffff; text-decoration-color: #ffffff; background-color: #ad494a\">                    </span><span style=\"color: #000000; text-decoration-color: #000000; background-color: #b5cf6b\">                    </span>\n",
              "<span style=\"color: #ffffff; text-decoration-color: #ffffff; background-color: #393b79\">                    </span><span style=\"color: #ffffff; text-decoration-color: #ffffff; background-color: #de9ed6\">                    </span><span style=\"color: #ffffff; text-decoration-color: #ffffff; background-color: #ad494a\">                    </span><span style=\"color: #000000; text-decoration-color: #000000; background-color: #b5cf6b\">                    </span>\n",
              "<span style=\"color: #ffffff; text-decoration-color: #ffffff; background-color: #393b79\">                    </span><span style=\"color: #ffffff; text-decoration-color: #ffffff; background-color: #de9ed6\">                    </span><span style=\"color: #ffffff; text-decoration-color: #ffffff; background-color: #ad494a\">                    </span><span style=\"color: #000000; text-decoration-color: #000000; background-color: #b5cf6b\">                    </span>\n",
              "<span style=\"color: #ffffff; text-decoration-color: #ffffff; background-color: #393b79\">                    </span><span style=\"color: #ffffff; text-decoration-color: #ffffff; background-color: #de9ed6\">                    </span><span style=\"color: #ffffff; text-decoration-color: #ffffff; background-color: #ad494a\">                    </span><span style=\"color: #000000; text-decoration-color: #000000; background-color: #b5cf6b\">                    </span>\n",
              "<span style=\"color: #ffffff; text-decoration-color: #ffffff; background-color: #393b79\">                    </span><span style=\"color: #ffffff; text-decoration-color: #ffffff; background-color: #de9ed6\">                    </span><span style=\"color: #ffffff; text-decoration-color: #ffffff; background-color: #ad494a\">                    </span><span style=\"color: #000000; text-decoration-color: #000000; background-color: #b5cf6b\">                    </span>\n",
              "<span style=\"color: #ffffff; text-decoration-color: #ffffff; background-color: #393b79\">                    </span><span style=\"color: #ffffff; text-decoration-color: #ffffff; background-color: #de9ed6\">                    </span><span style=\"color: #ffffff; text-decoration-color: #ffffff; background-color: #ad494a\">                    </span><span style=\"color: #000000; text-decoration-color: #000000; background-color: #b5cf6b\">                    </span>\n",
              "<span style=\"color: #ffffff; text-decoration-color: #ffffff; background-color: #393b79\">                    </span><span style=\"color: #ffffff; text-decoration-color: #ffffff; background-color: #de9ed6\">                    </span><span style=\"color: #ffffff; text-decoration-color: #ffffff; background-color: #ad494a\">                    </span><span style=\"color: #000000; text-decoration-color: #000000; background-color: #b5cf6b\">                    </span>\n",
              "<span style=\"color: #ffffff; text-decoration-color: #ffffff; background-color: #393b79\">                    </span><span style=\"color: #ffffff; text-decoration-color: #ffffff; background-color: #de9ed6\">                    </span><span style=\"color: #ffffff; text-decoration-color: #ffffff; background-color: #ad494a\">                    </span><span style=\"color: #000000; text-decoration-color: #000000; background-color: #b5cf6b\">                    </span>\n",
              "<span style=\"color: #ffffff; text-decoration-color: #ffffff; background-color: #393b79\">                    </span><span style=\"color: #ffffff; text-decoration-color: #ffffff; background-color: #de9ed6\">                    </span><span style=\"color: #ffffff; text-decoration-color: #ffffff; background-color: #ad494a\">                    </span><span style=\"color: #000000; text-decoration-color: #000000; background-color: #b5cf6b\">                    </span>\n",
              "</pre>\n"
            ],
            "text/plain": [
              "\u001b[38;2;255;255;255;48;2;57;59;121m                    \u001b[0m\u001b[38;2;255;255;255;48;2;222;158;214m                    \u001b[0m\u001b[38;2;255;255;255;48;2;173;73;74m                    \u001b[0m\u001b[38;2;0;0;0;48;2;181;207;107m                    \u001b[0m\n",
              "\u001b[38;2;255;255;255;48;2;57;59;121m                    \u001b[0m\u001b[38;2;255;255;255;48;2;222;158;214m                    \u001b[0m\u001b[38;2;255;255;255;48;2;173;73;74m                    \u001b[0m\u001b[38;2;0;0;0;48;2;181;207;107m                    \u001b[0m\n",
              "\u001b[38;2;255;255;255;48;2;57;59;121m                    \u001b[0m\u001b[38;2;255;255;255;48;2;222;158;214m                    \u001b[0m\u001b[38;2;255;255;255;48;2;173;73;74m                    \u001b[0m\u001b[38;2;0;0;0;48;2;181;207;107m                    \u001b[0m\n",
              "\u001b[38;2;255;255;255;48;2;57;59;121m                    \u001b[0m\u001b[38;2;255;255;255;48;2;222;158;214m                    \u001b[0m\u001b[38;2;255;255;255;48;2;173;73;74m                    \u001b[0m\u001b[38;2;0;0;0;48;2;181;207;107m                    \u001b[0m\n",
              "\u001b[38;2;255;255;255;48;2;57;59;121m                    \u001b[0m\u001b[38;2;255;255;255;48;2;222;158;214m                    \u001b[0m\u001b[38;2;255;255;255;48;2;173;73;74m                    \u001b[0m\u001b[38;2;0;0;0;48;2;181;207;107m                    \u001b[0m\n",
              "\u001b[38;2;255;255;255;48;2;57;59;121m                    \u001b[0m\u001b[38;2;255;255;255;48;2;222;158;214m                    \u001b[0m\u001b[38;2;255;255;255;48;2;173;73;74m                    \u001b[0m\u001b[38;2;0;0;0;48;2;181;207;107m                    \u001b[0m\n",
              "\u001b[38;2;255;255;255;48;2;57;59;121m                    \u001b[0m\u001b[38;2;255;255;255;48;2;222;158;214m                    \u001b[0m\u001b[38;2;255;255;255;48;2;173;73;74m                    \u001b[0m\u001b[38;2;0;0;0;48;2;181;207;107m                    \u001b[0m\n",
              "\u001b[38;2;255;255;255;48;2;57;59;121m                    \u001b[0m\u001b[38;2;255;255;255;48;2;222;158;214m                    \u001b[0m\u001b[38;2;255;255;255;48;2;173;73;74m                    \u001b[0m\u001b[38;2;0;0;0;48;2;181;207;107m                    \u001b[0m\n",
              "\u001b[38;2;255;255;255;48;2;57;59;121m                    \u001b[0m\u001b[38;2;255;255;255;48;2;222;158;214m                    \u001b[0m\u001b[38;2;255;255;255;48;2;173;73;74m                    \u001b[0m\u001b[38;2;0;0;0;48;2;181;207;107m                    \u001b[0m\n",
              "\u001b[38;2;255;255;255;48;2;57;59;121m                    \u001b[0m\u001b[38;2;255;255;255;48;2;222;158;214m                    \u001b[0m\u001b[38;2;255;255;255;48;2;173;73;74m                    \u001b[0m\u001b[38;2;0;0;0;48;2;181;207;107m                    \u001b[0m\n"
            ]
          },
          "metadata": {},
          "output_type": "display_data"
        }
      ],
      "source": [
        "# JIT-compile the model and optimizer creation function.\n",
        "@nnx.jit\n",
        "def create_model():\n",
        "  # Instantiate the MLP model. rngs=nnx.Rngs(0) provides PRNG keys.\n",
        "  model = MLP(1, 32, 1, rngs=nnx.Rngs(0))\n",
        "  # Create the optimizer. nnx.variables(model, nnx.Param) extracts\n",
        "  # only the nnx.Param state variables from the model object.\n",
        "  optimizer = SGD(nnx.variables(model, nnx.Param), 0.01, decay=0.9)\n",
        "\n",
        "  # === Explicit Sharding Application ===\n",
        "  # 1. Extract ALL state (model params + optimizer momentum) into a flat State pytree.\n",
        "  state = nnx.state(optimizer)\n",
        "\n",
        "  # 2. Define the target sharding for the state pytree.\n",
        "  # This function maps state paths to NamedSharding objects based on stored metadata.\n",
        "  def get_named_shardings(path: tuple, value: nnx.VariableState):\n",
        "    # Assumes params and momentum use the sharding defined in their metadata.\n",
        "    if path[0] == 'params':\n",
        "      # value.sharding contains the tuple like ('model',) or (None, 'model')\n",
        "      return value.replace(NamedSharding(fsdp_mesh, P(*value.sharding)))\n",
        "    elif path[0] == 'momentum':\n",
        "      # Momentum states have the same sharding as their corresponding parameters\n",
        "      return value.replace(NamedSharding(mesh, P(*value.sharding)))\n",
        "    else:\n",
        "      # Handle other state if necessary (e.g., learning rate if it were a Variable)\n",
        "      raise ValueError(f'Unknown path: {path}')\n",
        "    \n",
        "  # Create the pytree of NamedSharding objects.\n",
        "  named_shardings = state.map(get_named_shardings)\n",
        "\n",
        "  # 3. Apply sharding constraint. This tells JAX how the 'state' pytree\n",
        "  # SHOULD be sharded when computations involving it are run under jit/pjit.\n",
        "  # It doesn't immediately move data but sets up the constraint for the compiler.\n",
        "  sharded_state = jax.lax.with_sharding_constraint(state, named_shardings)\n",
        "\n",
        "  # 4. Update the original objects (model params, optimizer momentum)\n",
        "  # with the constrained state values. This step makes the sharding\n",
        "  # \"stick\" to the objects themselves for subsequent use outside this function.\n",
        "  nnx.update(optimizer, sharded_state)\n",
        "\n",
        "  # Return the model and optimizer objects, now containing sharded state variables.\n",
        "  return model, optimizer\n",
        "\n",
        "# Call the function to create the sharded model and optimizer.\n",
        "model, optimizer = create_model()\n",
        "\n",
        "# Visualize the sharding of the first weight's parameter tensor.\n",
        "jax.debug.visualize_array_sharding(model.w1.value)\n",
        "# Visualize the sharding of the first weight's momentum tensor.\n",
        "jax.debug.visualize_array_sharding(optimizer.momentum.w1.value)\n"
      ]
    },
    {
      "cell_type": "markdown",
      "metadata": {
        "id": "BU2toONE1Yuh"
      },
      "source": [
        "### 6.4 Distributed Training"
      ]
    },
    {
      "cell_type": "code",
      "execution_count": 32,
      "metadata": {
        "id": "gayPl3wvevDX"
      },
      "outputs": [],
      "source": [
        "# JIT-compile the training step function.\n",
        "@nnx.jit\n",
        "def train_step(model: MLP, optimizer: SGD, x, y):\n",
        "  # Define the loss function (Mean Squared Error).\n",
        "  # Takes the model object as input, consistent with nnx.value_and_grad.\n",
        "  def loss_fn(model):\n",
        "    y_pred = model(x) # Forward pass\n",
        "    loss = jnp.mean((y - y_pred) ** 2)\n",
        "    return loss\n",
        "\n",
        "  # Calculate loss and gradients w.r.t the model's state (its nnx.Param variables).\n",
        "  # 'grad' will be an nnx.State object mirroring model's Param structure.\n",
        "  loss, grad = nnx.value_and_grad(loss_fn)(model)\n",
        "\n",
        "  # Call the optimizer's update method to apply gradients.\n",
        "  # This updates the model parameters in-place.\n",
        "  optimizer.update(grad)\n",
        "\n",
        "  # Return the calculated loss.\n",
        "  return loss\n"
      ]
    },
    {
      "cell_type": "code",
      "execution_count": 33,
      "metadata": {
        "colab": {
          "base_uri": "https://localhost:8080/",
          "height": 1000
        },
        "id": "mGJOwDhQeyAa",
        "outputId": "a4a1c2da-fac8-4b9a-87d0-6cfb8a398929"
      },
      "outputs": [
        {
          "name": "stdout",
          "output_type": "stream",
          "text": [
            "Step 0: Loss = 8.10632610321045\n",
            "Step 1000: Loss = 0.06608031690120697\n",
            "Step 2000: Loss = 0.05212058126926422\n",
            "Step 3000: Loss = 0.04339449107646942\n",
            "Step 4000: Loss = 0.02198086306452751\n",
            "Step 5000: Loss = 0.017909426242113113\n",
            "Step 6000: Loss = 0.01605837047100067\n",
            "Step 7000: Loss = 0.013022879138588905\n",
            "Step 8000: Loss = 0.012370645999908447\n",
            "Step 9000: Loss = 0.013571878895163536\n"
          ]
        },
        {
          "data": {
            "image/png": "[encoded data removed]",
            "text/plain": [
              "<Figure size 640x480 with 1 Axes>"
            ]
          },
          "metadata": {},
          "output_type": "display_data"
        },
        {
          "data": {
            "image/png": "[encoded data removed]",
            "text/plain": [
              "<Figure size 640x480 with 1 Axes>"
            ]
          },
          "metadata": {},
          "output_type": "display_data"
        }
      ],
      "source": [
        "# Generate synthetic dataset: y = 0.8*x^2 + 0.1 + noise\n",
        "X = np.linspace(-2, 2, 100)[:, None] # Input features\n",
        "Y = 0.8 * X**2 + 0.1 + np.random.normal(0, 0.1, size=X.shape) # Target values\n",
        "\n",
        "# A generator function to yield batches of data for training.\n",
        "def dataset(batch_size, num_steps):\n",
        "  for _ in range(num_steps):\n",
        "    # Randomly sample indices for the batch.\n",
        "    idx = np.random.choice(len(X), size=batch_size)\n",
        "    # Yield the corresponding input and target pairs.\n",
        "    yield X[idx], Y[idx]\n",
        "\n",
        "# --- Training Loop ---\n",
        "losses = [] # To store loss values for plotting\n",
        "# Iterate through the dataset generator for 10,000 steps.\n",
        "for step, (x_batch, y_batch) in enumerate(\n",
        "  dataset(batch_size=32, num_steps=10_000)\n",
        "):\n",
        "  # CRITICAL: Place the NumPy data onto JAX devices AND apply sharding.\n",
        "  # named_sharding('data') -> Shard along the 'data' mesh axis (first dim, size 2).\n",
        "  # Each device along the 'data' axis gets a slice of the batch.\n",
        "  x_batch, y_batch = jax.device_put((x_batch, y_batch), named_sharding('data'))\n",
        "\n",
        "  # Execute the JIT-compiled training step with the sharded model, optimizer, and data.\n",
        "  loss = train_step(model, optimizer, x_batch, y_batch)\n",
        "\n",
        "  # Record the loss (move scalar loss back to host CPU).\n",
        "  losses.append(float(loss))\n",
        "  # Log progress periodically.\n",
        "  if step % 1000 == 0:\n",
        "    print(f'Step {step}: Loss = {loss}')\n",
        "\n",
        "# --- Plotting Results ---\n",
        "plt.figure()\n",
        "plt.title(\"Training Loss\")\n",
        "plt.plot(losses[20:]) # Plot loss, skipping initial noisy steps\n",
        "plt.xlabel(\"Step\")\n",
        "plt.ylabel(\"MSE Loss\")\n",
        "\n",
        "# Get model predictions on the full dataset (X is on host CPU).\n",
        "# Model applies function executes potentially on device, result brought back implicitly.\n",
        "y_pred = model(X)\n",
        "plt.figure()\n",
        "plt.title(\"Model Fit\")\n",
        "plt.scatter(X, Y, color='blue', label='Data') # Original data\n",
        "plt.plot(X, y_pred, color='black', label='Prediction') # Model's predictions\n",
        "plt.xlabel(\"X\")\n",
        "plt.ylabel(\"Y\")\n",
        "plt.legend()\n",
        "plt.show() # Display the plots"
      ]
    }
  ],
  "metadata": {
    "accelerator": "TPU",
    "colab": {
      "gpuType": "V28",
      "provenance": []
    },
    "kernelspec": {
      "display_name": "Python 3",
      "name": "python3"
    },
    "language_info": {
      "codemirror_mode": {
        "name": "ipython",
        "version": 3
      },
      "file_extension": ".py",
      "mimetype": "text/x-python",
      "name": "python",
      "nbconvert_exporter": "python",
      "pygments_lexer": "ipython3",
      "version": "3.8.0"
    }
  },
  "nbformat": 4,
  "nbformat_minor": 0
}
